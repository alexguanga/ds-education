{
 "cells": [
  {
   "cell_type": "markdown",
   "metadata": {},
   "source": [
    "- **No Free Lunch**\n",
    "- In machine learning, there’s something called the **No Free Lunch** theorem. In a nutshell, it states that no one algorithm works best for every problem, and it’s especially relevant for supervised learning (i.e. predictive modeling).\n",
    "- For example, you can’t say that neural networks are always better than decision trees or vice-versa. There are many factors at play, such as the size and structure of your dataset.\n",
    "- As a result, you should try many different algorithms for your problem, while using a hold-out “test set” of data to evaluate performance and select the winner."
   ]
  },
  {
   "cell_type": "markdown",
   "metadata": {},
   "source": [
    "## Regression\n",
    "- Regression is the supervised learning task for modeling and predicting continuous, numeric variables. Examples include predicting real-estate prices, stock price movements, or student test scores.\n",
    "- Regression tasks are characterized by labeled datasets that have a numeric target variable. In other words, you have some \"ground truth\" value for each observation that you can use to supervise your algorithm.\n",
    "\n",
    "\n",
    "\n",
    "- **Linear Regression**\n",
    "    - Simple linear regression is often outclassed by its regularized counterparts (LASSO, Ridge, and Elastic-Net). Regularization is a technique for penalizing large coefficients in order to avoid overfitting, and the strength of the penalty should be tuned.\n",
    "    - **Strengths**: Linear regression is straightforward to understand and explain, and can be regularized to avoid overfitting. Linear models can be updated easily with new data using stochastic gradient descent.\n",
    "    - **Weaknesses**: Linear regression performs poorly when there are non-linear relationships. They are not naturally flexible enough to capture more complex patterns, and adding the right interaction terms or polynomials can be tricky and time-consuming.\n",
    "- **Regression Tree (Ensembles)**\n",
    "    - Regression trees (a.k.a. decision trees) learn in a hierarchical fashion by repeatedly splitting your dataset into separate branches that maximize the information gain of each split. This branching structure allows regression trees to naturally learn non-linear relationships.\n",
    "    - Ensemble methods, such as Random Forests (RF) and Gradient Boosted Trees (GBM), combine predictions from many individual trees. RF's often perform very well out-of-the-box while GBM's are harder to tune but tend to have higher performance ceilings.\n",
    "    - **Strengths**: Decision trees can learn non-linear relationships, and are fairly robust to outliers. Ensembles perform very well in practice, winning many classical (i.e. non-deep-learning) machine learning competitions.\n",
    "    - **Weaknesses**: Unconstrained, individual trees are prone to overfitting because they can keep branching until they memorize the training data. However, this can be alleviated by using ensembles.\n",
    "- **Deep Learning**\n",
    "    - Deep learning refers to multi-layer neural networks that can learn extremely complex patterns. They use \"hidden layers\" between inputs and outputs in order to model intermediary representations of the data that other algorithms cannot easily learn.\n",
    "    - **Strengths**: Deep neural networks perform very well on image, audio, and text data, and they can be easily updated with new data using batch propagation. Their architectures (i.e. number and structure of layers) can be adapted to many types of problems, and their hidden layers reduce the need for feature engineering.\n",
    "    - **Weaknesses**: Deep learning algorithms are usually not suitable as general-purpose algorithms because they require a very large amount of data. They are usually outperformed by tree ensembles for classical machine learning problems. In addition, they are computationally intensive to train, and they require much more expertise to tune (i.e. set the architecture and hyperparameters).\n",
    "- **Honorable Mention: Nearest Neighbors**\n",
    "    - Nearest neighbors algorithms are \"instance-based,\" which means that that save each training observation. They then make predictions for new observations by searching for the most similar training observations and pooling their values.\n",
    "    - These algorithms are memory-intensive, perform poorly for high-dimensional data, and require a meaningful distance function to calculate similarity. In practice, training regularized regression or tree ensembles are almost always better uses of your time."
   ]
  },
  {
   "cell_type": "markdown",
   "metadata": {},
   "source": [
    "## Classification\n",
    "- Classification is the supervised learning task for modeling and predicting categorical variables.\n",
    "\n",
    "\n",
    "- **(Regularized) Logistic Regression**\n",
    "    - Predictions are mapped to be between 0 and 1 through the logistic function, which means that predictions can be interpreted as class probabilities.\n",
    "    - The models themselves are still \"linear,\" so they work well when your classes are linearly separable (i.e. they can be separated by a single decision surface). Logistic regression can also be regularized by penalizing coefficients with a tunable penalty strength.\n",
    "    - **Strengths**: Outputs have a nice probabilistic interpretation, and the algorithm can be regularized to avoid overfitting. Logistic models can be updated easily with new data using stochastic gradient descent.\n",
    "    - **Weaknesses**: Logistic regression tends to underperform when there are multiple or non-linear decision boundaries. They are not flexible enough to naturally capture more complex relationships.\n",
    "- **Classification Tree (Ensembles)**\n",
    "    - Classification trees are the classification counterparts to regression trees. They are both commonly referred to as \"decision trees\" or by the umbrella term \"classification and regression trees (CART).\"\n",
    "    - **Strengths**: As with regression, classification tree ensembles also perform very well in practice. They are robust to outliers, scalable, and able to naturally model non-linear decision boundaries thanks to their hierarchical structure.\n",
    "    - **Weaknesses**: Unconstrained, individual trees are prone to overfitting, but this can be alleviated by ensemble methods.\n",
    "- **Deep Learning**\n",
    "    - Deep learning is easily adapted to classification problems. Classification is often the more common use of deep learning, such as in image classification.\n",
    "    - **Strengths**: Deep learning performs very well when classifying for audio, text, and image data.\n",
    "    - **Weaknesses**: As with regression, deep neural networks require very large amounts of data to train, so it's not treated as a general-purpose algorithm.\n",
    "- **Support Vector Machines**\n",
    "    - Support vector machines (SVM) use a mechanism called kernels, which essentially calculate distance between two observations. The SVM algorithm then finds a decision boundary that maximizes the distance between the closest members of separate classes.\n",
    "    - SVM with a linear kernel is similar to logistic regression. Therefore, in practice, the benefit of SVM's typically comes from using non-linear kernels to model non-linear decision boundaries.\n",
    "    - **Strengths**: SVM's can model non-linear decision boundaries, and there are many kernels to choose from. They are also fairly robust against overfitting, especially in high-dimensional space.\n",
    "    - **Weaknesses**: SVM's are memory intensive, trickier to tune due to the importance of picking the right kernel, and don't scale well to larger datasets. Currently in the industry, random forests are usually preferred over SVM's.\n",
    "- **Naive Bayes**\n",
    "    - Naive Bayes (NB) is a simple algorithm based around conditional probability and counting. Your model is a probability table that gets updated through your training data. To predict a new observation, you'd simply \"look up\" the class probabilities in your \"probability table\" based on its feature values.\n",
    "    - It's called \"naive\" because its core assumption of conditional independence (i.e. all input features are independent from one another) rarely holds true in the real world.\n",
    "    - **Strengths**: Even though the conditional independence assumption rarely holds true, NB models actually perform surprisingly well in practice, especially for how simple they are. They are easy to implement and can scale with your dataset.\n",
    "    - **Weaknesses**: Due to their sheer simplicity, NB models are often beaten by models properly trained and tuned using the previous algorithms listed."
   ]
  },
  {
   "cell_type": "markdown",
   "metadata": {},
   "source": [
    "## Clustering\n",
    "- Clustering is an unsupervised learning task for finding natural groupings of observations (i.e. clusters) based on the inherent structure within your dataset. Examples include customer segmentation, grouping similar items in e-commerce, and social network analysis.\n",
    "- Clustering is unsupervised (i.e. there's no \"right answer\"), data visualization is usually used to evaluate results. If there is a \"right answer\" (i.e. you have pre-labeled clusters in your training set), then classification algorithms are typically more appropriate.\n",
    "\n",
    "\n",
    "- **K-Means**\n",
    "    - K-Means is a general algorithm that makes clusters based on geometric distances (i.e. distance on a coordinate plane) between points. The clusters are grouped around centroids, causing them to be globular and have similar sizes.\n",
    "    - This is our recommended algorithm for beginners because it's simple, yet flexible enough to get reasonable results for most problems.\n",
    "    - **Strengths:** K-Means is hands-down the most popular clustering algorithm because it's fast, simple, and surprisingly flexible if you pre-process your data and engineer useful features.\n",
    "    - **Weaknesses:** The user must specify the number of clusters, which won't always be easy to do. If the true underlying clusters in your data are not globular, then K-Means will produce poor clusters.\n",
    "- **Affinity Propagation**\n",
    "    - Affinity Propagation is a relatively new clustering technique that makes clusters based on graph distances between points. The clusters tend to be smaller and have uneven sizes.\n",
    "    - **Strengths:** The user doesn't need to specify the number of clusters (but does need to specify 'sample preference' and 'damping' hyperparameters).\n",
    "    - **Weaknesses:** The main disadvantage of Affinity Propagation is that it's quite slow and memory-heavy, making it difficult to scale to larger datasets. In addition, it also assumes the true underlying clusters are globular.\n",
    "- **Hierarchical / Agglomerative**\n",
    "    - Hierarchical clustering, a.k.a. agglomerative clustering, is a suite of algorithms based on the same idea: (1) Start with each point in its own cluster. (2) For each cluster, merge it with another based on some criterion. (3) Repeat until only one cluster remains and you are left with a hierarchy of clusters.\n",
    "    - **Strengths:** The main advantage of hierarchical clustering is that the clusters are not assumed to be globular. In addition, it scales well to larger datasets.\n",
    "    - **Weaknesses:** Weaknesses: Much like K-Means, the user must choose the number of clusters (i.e. the level of the hierarchy to \"keep\" after the algorithm completes).\n",
    "- **DBSCAN**\n",
    "    - DBSCAN is a density based algorithm that makes clusters for dense regions of points. There's also a recent new development called HDBSCAN that allows varying density clusters.\n",
    "    - **Strengths:** DBSCAN does not assume globular clusters, and its performance is scalable. It doesn't require every point to be assigned to a cluster, reducing the noise of the clusters (this may be a weakness).\n",
    "    - **Weaknesses:** The user must tune the hyperparameters 'epsilon' and 'min_samples,' which define the density of clusters. DBSCAN is quite sensitive to these hyperparameters."
   ]
  }
 ],
 "metadata": {
  "kernelspec": {
   "display_name": "Python 3",
   "language": "python",
   "name": "python3"
  },
  "language_info": {
   "codemirror_mode": {
    "name": "ipython",
    "version": 3
   },
   "file_extension": ".py",
   "mimetype": "text/x-python",
   "name": "python",
   "nbconvert_exporter": "python",
   "pygments_lexer": "ipython3",
   "version": "3.6.0"
  }
 },
 "nbformat": 4,
 "nbformat_minor": 2
}
