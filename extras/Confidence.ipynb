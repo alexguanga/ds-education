{
 "cells": [
  {
   "cell_type": "markdown",
   "metadata": {},
   "source": [
    "### Confidence Interval VS. Prediction Interval\n",
    "- Prediction Interval: 95% (or whatever you decide to go with) of the y-values to be found for a certain X-value will be within the interval range around the linear regression line. \n",
    "- Confidence Interval: There's a 95% probability that the true best-fit line for the population lies within the confidence interval. \n",
    "- Meaning, the confidence interval provides us the boundary of where the true population will be. Thus, the range will be around the line of best fit since most sample data resembles the population data. However, the prediction interval takes into account the true error term. Meaning, we can't take into account random things. So, the predition interval will have a wider range because there's more random occurences. \n"
   ]
  }
 ],
 "metadata": {
  "kernelspec": {
   "display_name": "Python 3",
   "language": "python",
   "name": "python3"
  },
  "language_info": {
   "codemirror_mode": {
    "name": "ipython",
    "version": 3
   },
   "file_extension": ".py",
   "mimetype": "text/x-python",
   "name": "python",
   "nbconvert_exporter": "python",
   "pygments_lexer": "ipython3",
   "version": "3.6.0"
  }
 },
 "nbformat": 4,
 "nbformat_minor": 2
}
