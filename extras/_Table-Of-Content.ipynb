{
 "cells": [
  {
   "cell_type": "markdown",
   "metadata": {},
   "source": [
    "** Distribution**: CDFs VS. PMFs, Diff. types of distibutions\n",
    "** Confidence **: Confidence Interval\n",
    "** Trade-offs**: Bias-Variance Trade-Off, Error Terms VS. Residuals \n",
    "** Accuracy-Measurments**: F-test, p-value, t-test, RSE, RSS, TSS, R-Squared, Multicollinearity, etc . \n",
    "\n"
   ]
  }
 ],
 "metadata": {
  "kernelspec": {
   "display_name": "Python 3",
   "language": "python",
   "name": "python3"
  },
  "language_info": {
   "codemirror_mode": {
    "name": "ipython",
    "version": 3
   },
   "file_extension": ".py",
   "mimetype": "text/x-python",
   "name": "python",
   "nbconvert_exporter": "python",
   "pygments_lexer": "ipython3",
   "version": "3.6.0"
  }
 },
 "nbformat": 4,
 "nbformat_minor": 2
}
