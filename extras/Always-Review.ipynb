{
 "cells": [
  {
   "cell_type": "markdown",
   "metadata": {},
   "source": [
    "## Bayes Theorem\n",
    "<img src=\"./images/always-review.png\" style=\"width: 300px;\"/>\n",
    "\n",
    "- Think of it like this:\n",
    "    - If you are given that you are in danger of having cancer\n",
    "    - Thus, P(H) is people having cancer before any results (prior)\n",
    "    - P(H|D) is the prob. of having cancer after the results (post)\n",
    "    - P(D|H) is the likilihood. Say, given the data we know now, what's the probability that the person will have cancer. \n"
   ]
  },
  {
   "cell_type": "markdown",
   "metadata": {},
   "source": [
    "# MLE (Maximum Likelihood Estimation)\n",
    "- MLE will pick the Gaussian that is \"most consistent\" with your data (the precise meaning of consistent is explained below).\n",
    "- So say you've got a data set of y = -1,3, and 7. The most consistent Gaussian from which that data could have come has a mean of 3 and a variance of 16. It could have been sampled from some other Gaussian. But one with a mean of 3 and variance of 16 is most consistent with the data in the following sense: the probability of getting the particular yy values you observed is greater with this choice of mean and variance, than it is with any other choice.\n"
   ]
  },
  {
   "cell_type": "markdown",
   "metadata": {},
   "source": [
    "# Bayes Factor: \n",
    "It's important to put Bayes factors in their right setting. When you have two models, say, and you convert from probabilities to odds, then Bayes factors act like an operator on prior beliefs:"
   ]
  }
 ],
 "metadata": {
  "kernelspec": {
   "display_name": "Python 3",
   "language": "python",
   "name": "python3"
  },
  "language_info": {
   "codemirror_mode": {
    "name": "ipython",
    "version": 3
   },
   "file_extension": ".py",
   "mimetype": "text/x-python",
   "name": "python",
   "nbconvert_exporter": "python",
   "pygments_lexer": "ipython3",
   "version": "3.6.0"
  }
 },
 "nbformat": 4,
 "nbformat_minor": 2
}
