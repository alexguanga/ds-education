{
 "cells": [
  {
   "cell_type": "code",
   "execution_count": 1,
   "metadata": {
    "collapsed": true
   },
   "outputs": [],
   "source": [
    "import pandas as pd"
   ]
  },
  {
   "cell_type": "code",
   "execution_count": 11,
   "metadata": {},
   "outputs": [],
   "source": [
    "xlsfile = pd.ExcelFile('federaldata.xlsx')"
   ]
  },
  {
   "cell_type": "code",
   "execution_count": 13,
   "metadata": {},
   "outputs": [
    {
     "data": {
      "text/html": [
       "<div>\n",
       "<style>\n",
       "    .dataframe thead tr:only-child th {\n",
       "        text-align: right;\n",
       "    }\n",
       "\n",
       "    .dataframe thead th {\n",
       "        text-align: left;\n",
       "    }\n",
       "\n",
       "    .dataframe tbody tr th {\n",
       "        vertical-align: top;\n",
       "    }\n",
       "</style>\n",
       "<table border=\"1\" class=\"dataframe\">\n",
       "  <thead>\n",
       "    <tr style=\"text-align: right;\">\n",
       "      <th></th>\n",
       "      <th>Department Name</th>\n",
       "      <th>Data Center Name</th>\n",
       "      <th>Address1</th>\n",
       "      <th>Address2</th>\n",
       "      <th>city</th>\n",
       "      <th>state</th>\n",
       "      <th>zip</th>\n",
       "      <th>Gross Floor Area Sq. Ft.</th>\n",
       "      <th>Status</th>\n",
       "      <th>Date Data Received from Agencies</th>\n",
       "    </tr>\n",
       "  </thead>\n",
       "  <tbody>\n",
       "    <tr>\n",
       "      <th>0</th>\n",
       "      <td>Department of Homeland Security</td>\n",
       "      <td>NaN</td>\n",
       "      <td>NaN</td>\n",
       "      <td>NaN</td>\n",
       "      <td>NaN</td>\n",
       "      <td>TX</td>\n",
       "      <td>NaN</td>\n",
       "      <td>500</td>\n",
       "      <td>Closed between Initiative Kickoff 02/26/2010 a...</td>\n",
       "      <td>2015-05-31</td>\n",
       "    </tr>\n",
       "    <tr>\n",
       "      <th>1</th>\n",
       "      <td>General Services Administration</td>\n",
       "      <td>10R-AK0031</td>\n",
       "      <td>222 W 7TH AVE</td>\n",
       "      <td>FEDERAL BLDG, USCT</td>\n",
       "      <td>ANCHORAGE</td>\n",
       "      <td>AK</td>\n",
       "      <td>99513.0</td>\n",
       "      <td>143</td>\n",
       "      <td>Closed between Initiative Kickoff 02/26/2010 a...</td>\n",
       "      <td>2015-05-31</td>\n",
       "    </tr>\n",
       "    <tr>\n",
       "      <th>2</th>\n",
       "      <td>General Services Administration</td>\n",
       "      <td>10R-ID0025</td>\n",
       "      <td>550 WEST FORT ST</td>\n",
       "      <td>JAMES A MCCLURE FED BLDG/CTHSE</td>\n",
       "      <td>BOISE</td>\n",
       "      <td>ID</td>\n",
       "      <td>83724.0</td>\n",
       "      <td>15</td>\n",
       "      <td>Closed between Initiative Kickoff 02/26/2010 a...</td>\n",
       "      <td>2015-05-31</td>\n",
       "    </tr>\n",
       "    <tr>\n",
       "      <th>3</th>\n",
       "      <td>General Services Administration</td>\n",
       "      <td>10R-OR0023</td>\n",
       "      <td>620 SW MAIN ST</td>\n",
       "      <td>GUS J. SOLOMON CTHSE</td>\n",
       "      <td>PORTLAND</td>\n",
       "      <td>OR</td>\n",
       "      <td>97205.0</td>\n",
       "      <td>162</td>\n",
       "      <td>Closed between Initiative Kickoff 02/26/2010 a...</td>\n",
       "      <td>2015-05-31</td>\n",
       "    </tr>\n",
       "    <tr>\n",
       "      <th>4</th>\n",
       "      <td>General Services Administration</td>\n",
       "      <td>10R-WA0045</td>\n",
       "      <td>904 W RIVERSIDE AVE</td>\n",
       "      <td>FED BLDG U S POST OF</td>\n",
       "      <td>SPOKANE</td>\n",
       "      <td>WA</td>\n",
       "      <td>99201.0</td>\n",
       "      <td>114</td>\n",
       "      <td>Closed between Initiative Kickoff 02/26/2010 a...</td>\n",
       "      <td>2015-05-31</td>\n",
       "    </tr>\n",
       "  </tbody>\n",
       "</table>\n",
       "</div>"
      ],
      "text/plain": [
       "                   Department Name Data Center Name             Address1  \\\n",
       "0  Department of Homeland Security              NaN                  NaN   \n",
       "1  General Services Administration       10R-AK0031        222 W 7TH AVE   \n",
       "2  General Services Administration       10R-ID0025     550 WEST FORT ST   \n",
       "3  General Services Administration       10R-OR0023       620 SW MAIN ST   \n",
       "4  General Services Administration       10R-WA0045  904 W RIVERSIDE AVE   \n",
       "\n",
       "                         Address2       city state      zip  \\\n",
       "0                             NaN        NaN    TX      NaN   \n",
       "1              FEDERAL BLDG, USCT  ANCHORAGE    AK  99513.0   \n",
       "2  JAMES A MCCLURE FED BLDG/CTHSE      BOISE    ID  83724.0   \n",
       "3            GUS J. SOLOMON CTHSE   PORTLAND    OR  97205.0   \n",
       "4            FED BLDG U S POST OF    SPOKANE    WA  99201.0   \n",
       "\n",
       "   Gross Floor Area Sq. Ft.  \\\n",
       "0                       500   \n",
       "1                       143   \n",
       "2                        15   \n",
       "3                       162   \n",
       "4                       114   \n",
       "\n",
       "                                              Status  \\\n",
       "0  Closed between Initiative Kickoff 02/26/2010 a...   \n",
       "1  Closed between Initiative Kickoff 02/26/2010 a...   \n",
       "2  Closed between Initiative Kickoff 02/26/2010 a...   \n",
       "3  Closed between Initiative Kickoff 02/26/2010 a...   \n",
       "4  Closed between Initiative Kickoff 02/26/2010 a...   \n",
       "\n",
       "  Date Data Received from Agencies  \n",
       "0                       2015-05-31  \n",
       "1                       2015-05-31  \n",
       "2                       2015-05-31  \n",
       "3                       2015-05-31  \n",
       "4                       2015-05-31  "
      ]
     },
     "execution_count": 13,
     "metadata": {},
     "output_type": "execute_result"
    }
   ],
   "source": [
    "dframe = xlsfile.parse('Sheet 1')\n",
    "dframe.head()"
   ]
  },
  {
   "cell_type": "code",
   "execution_count": null,
   "metadata": {
    "collapsed": true
   },
   "outputs": [],
   "source": []
  }
 ],
 "metadata": {
  "kernelspec": {
   "display_name": "Python 3",
   "language": "python",
   "name": "python3"
  },
  "language_info": {
   "codemirror_mode": {
    "name": "ipython",
    "version": 3
   },
   "file_extension": ".py",
   "mimetype": "text/x-python",
   "name": "python",
   "nbconvert_exporter": "python",
   "pygments_lexer": "ipython3",
   "version": "3.6.0"
  }
 },
 "nbformat": 4,
 "nbformat_minor": 2
}
