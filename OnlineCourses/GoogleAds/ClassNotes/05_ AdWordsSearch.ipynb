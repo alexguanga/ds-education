{
 "cells": [
  {
   "cell_type": "markdown",
   "metadata": {},
   "source": [
    "### Find customers with search marketing\n",
    "- An advertiser bids on keywords with the amount they are willing to pay for a user to click an ad\n",
    "- The engine ranks advertisers based on their bid and relevance to the search\n",
    "- The best matching ad appears alongside the user’s search results\n",
    "- ** Double Click**\n",
    "    - Consolidated data: Access conversion and performance data from a single source to monitor your campaign’s performance and report back to your advertisers — without having to spend all day on multiple platforms.\n",
    "    - Single interface: Keep all your engine accounts in one place to make changes in bulk, instead of visiting every single one when there’s an edit.\n",
    "    - Optimization: Focus on the goals of your campaign and automate bids to meet them, rather than spending all your time placing bids and tracking rankings."
   ]
  },
  {
   "cell_type": "markdown",
   "metadata": {},
   "source": [
    "### Get to know the Google Search experience\n",
    "- One of the best thing about Google is its ability is to understand the way people truly feel and think. This can help marketers understand customers and be there when they are looking for something specific.\n",
    "- Marketer tip: The companies and brands that can most effectively appeal to consumers in their moments of needs are the ones that will come out ahead.\n",
    "- Marketer tip: Identify keywords that match what people are searching for on Google, so your ads have a better chance to appear in search results.\n",
    "- These are some of the things that marketers will look at: \n",
    "    - The ad formats and extensions that draw users in\n",
    "    - The bidding freedom to pay what you want for a customer\n",
    "    - The targeting options to get your ideal customer showing purchase intent\n",
    "- **3 R’s of Google Search**\n",
    "    - Reach is about reaching people when it matters: engaging with new customers at moments of need. \n",
    "    - Relevance is about having the right message that answers somebody’s search.\n",
    "    - Results means focusing on outcomes and optimizing with full transparency into what’s working and then improving your campaign’s performance over time."
   ]
  },
  {
   "cell_type": "markdown",
   "metadata": {},
   "source": [
    "### How does AdWorks work?\n",
    "- What is Adwords?\n",
    "    - AdWords is an online advertising tool that helps businesses connect with their customers. You create your online ad, tell AdWords who you want to reach, and AdWords brings your ads to them. That’s basically it. "
   ]
  },
  {
   "cell_type": "markdown",
   "metadata": {},
   "source": [
    "### Make your ads seen\n",
    "- Making your ads seen: Now, those are a lot of factors! Your bid, the impact of ad formats you have enabled, your ad’s expected clickthrough rate (CTR), ad relevancy, and finally, the landing page experience when users click on your ad — these are all influential.\n",
    "- And to understand their influence, we’ll start by taking a look at the AdWords auction — the system responsible for taking all these factors into consideration and ultimately deciding your ad’s position and even whether it shows up at all.\n",
    "- The AdWords auction: The AdWords auction is the process that happens with each Google search. It decides which ads will appear for that specific search, which order those ads will show on the page, and how much the advertiser (that’s you!) will pay for that placement.\n",
    "- FACTORS:\n",
    "    - First there’s your bid amount. Not to be confused with the amount a click on your ad actually costs, this is the maximum amount you are willing to pay for a user to click on your ad and visit your site. To ensure good value for all, top bids don’t necessarily lead to top rank on the search results page. As it is becoming pretty clear by now, there are a number of other factors that the auction considers to make that determination! \n",
    "    - Expected clickthrough rate (CTR) is the prediction of how often your ad will get clicked when shown for a keyword. To determine this rate, AdWords takes into account how well your keyword has performed, that is, how users responded to your ad by clicking on it or not in the past.\n",
    "    - An ad is only useful if its landing page helps a user find what they’re looking for! A positive landing page experience: Includes relevant and original content that helps the user complete their task, Is easily navigable, Articulates your business clearly\n",
    "    - Ad relevancy is calculated by analyzing the language in your ad to determine how well it relates to the search query. Ad relevancy is a key factor in the auction process, enabling users to see only useful ads that are relevant to the search performed. \n",
    "    - Ad formats, like those that include various ad extensions, may influence rank as well. For example, using various ad extensions, like a sitelink to a page on your website, your address, or phone number, may serve to bolster your rank. \n",
    "- So how can you get a general sense of which ads might be of higher quality? \n",
    "- **One estimate is your Quality Score. Quality Score is the 1-10 rating that is reported for each keyword in your account calculated by estimating the quality of your ads and their associated landing pages. A high Quality Score means that our systems think your ad and landing page are relevant and useful to someone looking at your ad.** \n",
    "- Remember:\n",
    "    - Even if your competition bids higher than you, you can still win a higher position — at a lower price — with highly relevant keywords and ads.\n",
    "    - Auctions are ongoing for every search on Google — and each one can have potentially different results depending on the competition at that moment. So you may see fluctuation in your ad's position on the page and even whether your ad shows at all.\n",
    "- ** IMPORTANT FACTORS**: Bid, Quality, and Format Impact (like the ad extensions)\n",
    "\n",
    "- Difference between Quality Score and Ad Rank:\n",
    "    -  Just remember that Ad Rank is influenced by three factors: your bid, available ad formats, and components of ad quality. Ad Rank matters because it determines your ad position (where ads appear on the page). In fact, it determines whether your ad will show at all.\n",
    "    - One estimate is your Quality Score. Quality Score is the 1-10 rating that is reported for each keyword in your account calculated by estimating the quality of your ads and their associated landing pages.\n",
    "    \n",
    "- AD Position is the order in which your ad appears on a page in relation to other ads. An ad position of \"1\" means that your ad is the first ad on a page.\n",
    "- Ad position is determined by a formula called Ad Rank & it is caculated by multiplying your keywords Quality Score and keywords Max CPC\n",
    "- AD Rank = Quality Score x Max CPC\n"
   ]
  },
  {
   "cell_type": "markdown",
   "metadata": {},
   "source": [
    "### Find the right performance solutions\n",
    "- A Key Performance Indicator is a measurable value that demonstrates how effectively a company is achieving key business objectives. Organizations use KPIs at multiple levels to evaluate their success at reaching targets. High-level KPIs may focus on the overall performance of the enterprise, while low-level KPIs may focus on processes in departments such as sales, marketing or a call center.\n",
    "- **Step 1: Define your campaign's primary marketing goal and potential KPIs**\n",
    "    - Simply looking at the clicks won't do enough. We also focus on the stregths that can be produced by looking at the specific KPI's!\n",
    "- **Step 2: Understand your target audience, what they’re doing, and where they’re located**\n",
    "    - Understand when and where your customers are searching: Rely on Google tools like Google Surveys, Google Trends, Google Shopping Trends, and Google Correlate to understand your target audience, so you can create the ads that serve them best.\n",
    "    - Leverage contextual signals like location and time of day to deliver experiences and messages that feel tailor-made for the moment. For example, let customers searching nearby your stores know when the products they’re looking for are in-stock or available for pick-up in-store.\n",
    "- **Step 3: Choose the ideal solution that drives your goals and targets your audience**\n",
    "    - Goal: Drive action on your website: \n",
    "        - Use the search results to add more information in the ads. This can be done through the extension. \n",
    "        - You can create custom ads so make sure you use them to better predict the time of the day with special extension!\n",
    "        - Re-engage with previous customers\n",
    "    - Goal: Drive foot traffic to your business\n",
    "        - Make it easier for customers to find your store by featuring directions from Google Maps in your ads. \n",
    "        - Using location, ensure your ads only appear for customers located near your business. Location targeting!\n",
    "        - Encourage people to visit your store by sharing local inventory. Create local inventory ads to showcase your in-house drone products and services, as well as store information to nearby shoppers searching with Google.\n",
    "        - Use conversion tracking to find how online ads increase in-foot sales!\n",
    "    - Goal: Get the phones ringing\n",
    "        - Include call extensions which let you add phone numbers to your ads (and can increase clickthrough rates by four to five percent!)\n",
    "        - You could even use call extensions to set up a call-only campaign, if you are only focusing on generating more phone calls. \n",
    "        - Phone call can be best used if there are a schuedule and there are people ready to answer the phone call. \n",
    "    - Goal: Get people to use your app\n",
    "        - Create a universal app campaign — one that allows you to promote your app across Google Search, Play, YouTube, and within other apps and mobile websites on the Display Network.Use the campaign to encourage users to download your app and use it to sync their devices. This will help you take advantage of push notifications!"
   ]
  },
  {
   "cell_type": "markdown",
   "metadata": {},
   "source": [
    "### Track conversions to improve performance\n",
    "- The general process includes:\n",
    "    - The advertiser adding a snippet of code to certain spots on their website and app (like a sign up or checkout page) to capture interactions.\n",
    "    - When someone visits one of these places, the conversion tag fires capturing the user’s non personally identifiable ID.\n",
    "    - The ad server then takes a list of IDs and matches them against another list of IDs who have viewed or clicked an ad."
   ]
  },
  {
   "cell_type": "markdown",
   "metadata": {},
   "source": [
    "### Implement website conversion tracking\n",
    "- There are many sources that can be considered as conversion.\n",
    "    - Conversion source: Website\n",
    "        - What are you tracking? Completed customer actions on your website\n",
    "        - Examples: A purchase, a newsletter sign-up, a click on a button\n",
    "    - Conversion source: Apps\n",
    "        - What are you tracking? Completed customer actions on your app\n",
    "        - Examples: An app install, a completed in-app action, such as a purchase \n",
    "    - Conversion source: Phones\n",
    "        - What are you tracking? Customer calls\n",
    "        - Examples: Calls generated from your number in your ads, on your website, or a click on your mobile website\n",
    "    - Conversion source: Imports\n",
    "        - What are you tracking? When an ad click leads to a conversion in the offline world\n",
    "        - Examples: A click on an ad leads to a sale in your office or over the phone\n",
    "- Selecting the conversion tracking can be a bit of a creative and analytical approach. Make sure you are able to track the desired path. It does not have to be the initial path. \n",
    "- **STEPS**\n",
    "    - FIRST: \n",
    "        - You must be able to choose the converstion tracking. This can done on the website. It's fairly easy to implement that has a lot of moving parts. Like, does each purchase in one conversion count as one or as many of the purchases!\n",
    "        - conversion window is another important key!\n",
    "        - The attribution model is another important thing to pay attention because it will require a lot of logic and creative intuition.\n",
    "    - SECOND:\n",
    "        - Get your conversion tracking tag\n",
    "    - THIRD: \n",
    "        - Add the tag to your website\n",
    "    - FOURTH: \n",
    "        - Check the conversion tracking"
   ]
  },
  {
   "cell_type": "markdown",
   "metadata": {},
   "source": [
    "### Understand your audience better\n",
    "- **Google Surveys (For fast focus group data):** \n",
    "    - Probe for audience thoughts on existing or past campaigns\n",
    "    - Test consumer insights\n",
    "    - Uncover customer mindsets\n",
    "- **Google Trends (For in-depth consumer insights):**\n",
    "    - Answer key brand questions\n",
    "    - Gauge consumer search behaviors\n",
    "    - Confirm hypotheses about audience interests\n",
    "    - Share audience interest over time\n",
    "    - Remember to focus on the big picture rather than the small size momemnt!\n",
    "- **Google Shopping Trends (For insights on how consumers shop for products using Google)**\n",
    "    - Understand consumer awareness and mindshare for a product, from national down to city-level insights; Insights is currently available for the US market only\n",
    "- **Google Correlate (For more ideas on what consumers love)**\n",
    "    - Find queries that follow a similar search pattern, thereby uncovering insights that might not otherwise be visible.\n",
    "    - Once revealed, these correlations can have implications for video creation, search optimization, related content, cross-promotional efforts, and even platforms for promotion.\n",
    "    - Let’s see how using the tool plays out for Cate — the insights revealed and how these clues can inform her video campaign.\n",
    "    - This is a great way to find ways that her understanding of how it works can be better for her to select potential customers."
   ]
  },
  {
   "cell_type": "markdown",
   "metadata": {},
   "source": [
    "### Reach customers with targeting\n",
    "- Find potential customers online\n",
    "    - **WHO**: \n",
    "        - Audience targeting helps you identify, re-engage, and expand your audience online. You can target those who actively intend to purchase your products and personalize your ads with relevant messages. This can achieved through the demographic method.\n",
    "    - **WHERE**:\n",
    "        - “WHERE” can refer to where your customers are in the physical world (e.g., location and device targeting) or where they are online (e.g., contextual or topic targeting).\n",
    "    - **WHAT**:\n",
    "        - With AdWords, you can specify keywords based on what people are searching for. When people search for words like your keywords on Google or partner sites, you can display your ads alongside those search results."
   ]
  },
  {
   "cell_type": "markdown",
   "metadata": {},
   "source": [
    "### Create effective text ads\n",
    "- **Parts of a text ad**\n",
    "    - Headline, URL, Path-Fields (optional) this represents the specific landing page you would like the user to get too, Description field\n",
    "- **Writing effective text ads: five tips**\n",
    "    - Highlight want makes you unique, use a call to action to make it better for people to reach too, include sales term, match your ad to the keywords you think customer are searching for, match your ads to the landing page.\n",
    "- **Best practices**\n",
    "    - Prioritize your headline, don't forget about the mobile user, use ad extensions to help create better ads, improve the landing page experience!\n",
    "- **Five tips to improve landing page experience**\n",
    "    - Offer relevant, useful, and original content: Remember to be specific when the user is looking for a specific product and be general when the user wants options!\n",
    "    - Promote transparency and foster trustworthiness on your site. Tell them about your business and why you certain information.\n",
    "    - Make mobile and computer navigation easy. Remember not to add too much stuff. \n",
    "    - Be fast — decrease your landing page loading time\n",
    "    - Make your site (even more) mobile-friendly. Because mobile is really reliant on how easy it easy to navigate!"
   ]
  },
  {
   "cell_type": "markdown",
   "metadata": {},
   "source": [
    "### Enhance your ad with extensions\n",
    "- Why extensions?\n",
    "    - Extensions expand your ad with additional information—giving people more reasons to choose your business. Extension formats include call buttons, location information, additional links, additional text, and more. \n",
    "- There are extensions AdWords appends to your ads automatically when it predicts they’ll improve your performance.\n",
    "- When do extensions show up?\n",
    "    - Adding an extension doesn’t mean it will show with your ad all the time. AdWords selects which extensions to show in response to each individual search on Google. Extensions show with your ad when:\n",
    "        - The extension (or combination of extensions) is predicted to improve your performance.\n",
    "        - Your ad’s position and Ad Rank is high enough for extensions to show. To show extensions, AdWords requires a minimum Ad Rank. Unsure what this Ad Rank is all about? Sit tight, and we’ll cover it later in AdWords Basics. \n",
    "- **Manual extensions that can be set-up**\n",
    "    - Goal: All business goals\n",
    "        - Sitelink extensions: Link people directly to specific pages of your website (like “hours” and “order now”).\n",
    "        - Callout extensions: Add additional text to your ad, like “free delivery” or “24/7 customer support.”\n",
    "        - Structured snippets: Highlight specific aspects of your products and services. They show underneath your text ad on search in the form of a header (ex: \"Destinations\") and list (ex: \"Hawaii, Costa Rica, South Africa\")\n",
    "    - Goal: Get customers to buy from your business location\n",
    "        - Location extensions: Encourage people to visit your business by showing your location, a call button, and a link to your business details page—which can include your hours, photos of your business, and directions to get there.\n",
    "    - Goal: Get customers to contact you\n",
    "        - Call extensions: Encourage people to call your business by adding a phone number or call button to your ads.\n",
    "        - Message extensions: Encourage people to send you text messages from your ad. Available globally at the campaign or ad group levels.\n",
    "    - Goal: Get customers to convert on your website\n",
    "        - Price extensions: Showcase your services or product categories with their prices, so that people can browse your products right from your ad.\n",
    "        - Promotion extensions: Highlight specific sales and promotions across your ads (e.g., 30% off rose bouquets) \n",
    "    - Goal: Get people to download your app\n",
    "        - App extensions: Available globally for Android and iOS mobile devices, including tablets. "
   ]
  },
  {
   "cell_type": "markdown",
   "metadata": {},
   "source": [
    "### Help customers find you\n",
    "- What are keywords?\n",
    "    - Keywords are words or phrases that help determine where and when your ad can appear.\n",
    "- **Building your keyword list: Seven tips for success**\n",
    "    - On your website, make sure you pay attention to the content of your website. Also, check for the products and check for specific models. Lastly, remember of your brand!\n",
    "    - Organize your keywords by theme:\n",
    "        - Organizing your keywords into well-defined groupings often makes it easier for you to manage and maintain your account. This may correspond to the customer’s journey, for example, grouping upper funnel versus lower funnel keywords. You may group keywords by performance targets, such as cost per acquisition, margin, or profitability. Alternatively, you may want to group keywords by business structure, such as product line, brand, or geography.\n",
    "    - Select specific keywords to target specific customers\n",
    "        - This can be good to target customers but the drawback is that it might make your reach pretty narrow.\n",
    "    - Select general keywords to reach more people\n",
    "        - Again, the drawback might be that you are not reaching for specific customers!\n",
    "    - Use negative keywords\n",
    "        - Negative keywords prevent your ad from showing in searches that use terms that aren't relevant to your product or service. Adding negative keywords can help you reduce costs and make your ad appear only for the search terms you want.\n",
    "    - Pick the right number of keywords\n",
    "        - We recommend five to 20 keywords per ad group, although you can have more than 20 keywords in an ad group if you want. Remember, each ad group should contain keywords that directly relate to that group's theme. Your keywords will automatically match variations such as possible misspellings or plural versions. So you don't need to add those.\n",
    "    - Choose keywords that relate to the websites or apps your customers see\n",
    "        - On the Google Display Network, your keywords allow your ads to show on relevant websites or in apps. Choose keywords that are related to each other and that are related to the content your customers browse.\n",
    "- **Writing effective keywords: Putting a plan in motion**\n",
    "    - First, use general terms to attract as many customers as possible\n",
    "    - Update your keywords by looking at the information and thinking of the customers to narrow down on specific customers.\n",
    "    - Organize keywords by theme. This takes that first tip one step further by creating an ad group around keyword themes for the different types of shoes she sells.\n",
    "    - Analyze the outcome and then get more specific on customers!\n",
    "    - Use negative keywords. This ensures your ads don’t show to the wrong people"
   ]
  },
  {
   "cell_type": "markdown",
   "metadata": {
    "collapsed": true
   },
   "source": [
    "### Control which searches trigger your ads\n",
    "- Broad match shows your ads based on keywords and close variations like synonyms and misspellings.\n",
    "    - Example: A search for “tennis sneakers” could return your ad\n",
    "    - Benefit: Shows ads most broadly with least amount of set up\n",
    "    - Set it up: Do nothing — this is the default for all searches\n",
    "- Broad match modifier shows your ads based on the broad match, but excludes synonyms.\n",
    "    - Example: A search for “buy tenis shoes” could return your ad\n",
    "    - Benefit: More targeted, can increase clicks and conversions\n",
    "    - Set it up: Add plus sign ( + ) before terms\n",
    "    - When you add the plus sign in front of a term in your keyword, you’re telling Google that the search query must include that term.\n",
    "- Phrase match shows your ads based on exact phrases and close variations.\n",
    "    - Example: A search for “tennis shoes reviews” could return your ad\n",
    "    - Benefit: More targeted\n",
    "    - Set it up: Add quotes (“ ”) around term\n",
    "- Exact match shows your ads based on exact keywords and close variations.\n",
    "    - Example: A search for “tennis shoes” could return your ads\n",
    "    - Benefit: Narrows ad's potential audience the most\n",
    "    - Set it up: Add brackets ([ ]) around term\n",
    "- Negative match shows your ads based on searches and site visits that exclude keywords.\n",
    "    - Example: A search for “men’s tennis shoes” would not return your ad\n",
    "    - Benefit: Prevents ad from showing on unrelated searches or websites\n",
    "    - Set it up: Add minus sign ( - ) before terms that should never trigger ads"
   ]
  },
  {
   "cell_type": "markdown",
   "metadata": {},
   "source": [
    "### Set up a Search Network campaign\n",
    "- Key steps to Search campaign setup\n",
    "    - Step 1: Select campaign settings \n",
    "        - You’ll soon see that the crux of setting up this AdWords search campaign relies on customizing the many campaign setting options you’ll have at your disposal!\n",
    "        - **Select Campaign (Search Network) -> Select Goals -> Option to add Display Network -> Adjust Seeting like  Devices, Locations, Languages, Bidding, Daily budget, and Ad extensions, they allow for things like ad delivery customization or ad format -> Select devices -> Locations, you can opt to show your ads to people located in or who show interest in a particular geographic location, to keep your budget under control. Even though you want to target tourists from America and Canada, it’s best to leave “All countries and territories” selected, however. In doing so, you can be sure that your ads would show to those searching for a European B&B, no matter where they are searching from. **\n",
    "    - Step 2: Create ad groups\n",
    "        - Here you create a group, a container of sorts, which holds one or more ads which target a shared set of keywords or a set cost-per-click (CPC) bid.\n",
    "    - Step 3: Create ads\n",
    "        - This is when you can really make the magic happen! For this Search campaign, you’ll be creating a text ad, as it’s most suitable for you to start out. There are a lot of options like deciding where and to how for each ad extensions.\n",
    "    - Step 4: Review ad group\n",
    "        - At a glance, a handy dashboard displays just how your ad group is doing. Find out if your ads are ready to run (Eligible), or even temporarily disabled (Paused), so you can take steps needed to get things back on course, if necessary. "
   ]
  },
  {
   "cell_type": "markdown",
   "metadata": {},
   "source": [
    "### Evaluate campaign performance\n",
    "- Two important things to look at:\n",
    "    - The Campaign screen for a snapshot into overall campaign performance.\n",
    "    - The Ad groups page to see how well he’s promoting his brand by looking at the impressions.\n",
    "- **What searches and site terms have triggered my ad? **\n",
    "    - The Search terms report lists the searches and terms that people have used before seeing your ad and clicking it. If a term is getting you in front of customers, add it to your keyword list.\n",
    "- **Where were the people who triggered my ads? **\n",
    "    - The Where your users were (user locations) report shows only your customers' physical locations (regardless of any locations they may have shown interest in). If customers in a certain region are gravitating to you, update your campaign to directly target them. \n",
    "- **What geographies do my ad viewers care about?**\n",
    "    - The What triggered your ad (geographic) report shows your customers' physical locations and locations they had shown interest in through searches or content they had viewed. If customers interested in certain locations are finding you, update your campaign to directly offer something they’re looking for. \n",
    "- **Does my landing page need work?**\n",
    "    - The landing page experience report estimates the quality of your landing page — which is part of your AdWords Quality Score and strengthens or weakens your ad position. If you have a weak landing page, a link is provided with tips to make it better. \n",
    "- **How are people finding me — with and without my ad?**\n",
    "    - The paid and organic report shows how people got to you — comparing Google’s free organic search results to your paid AdWords ads. Learn the ways customers are looking for products and services like yours and update your own keyword list or create new ad groups to directly target them. \n",
    "- **What are the paths that lead people to conversions for my business?**\n",
    "    - Once you've set up conversion tracking, Attribution reports show you the paths customers took to complete a conversion, and attribute the conversion to different ads, clicks, and factors along the way.\n",
    "\n"
   ]
  }
 ],
 "metadata": {
  "kernelspec": {
   "display_name": "Python 3",
   "language": "python",
   "name": "python3"
  },
  "language_info": {
   "codemirror_mode": {
    "name": "ipython",
    "version": 3
   },
   "file_extension": ".py",
   "mimetype": "text/x-python",
   "name": "python",
   "nbconvert_exporter": "python",
   "pygments_lexer": "ipython3",
   "version": "3.6.0"
  }
 },
 "nbformat": 4,
 "nbformat_minor": 2
}
