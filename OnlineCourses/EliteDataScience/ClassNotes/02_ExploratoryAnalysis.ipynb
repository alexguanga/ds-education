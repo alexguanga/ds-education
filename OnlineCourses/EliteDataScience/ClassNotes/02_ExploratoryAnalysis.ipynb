{
 "cells": [
  {
   "cell_type": "markdown",
   "metadata": {},
   "source": [
    "# Key Points:\n",
    "- Categorical features cannot be visualized through histograms. Instead, you can use bar plots.\n",
    "- In particular, you'll want to look out for sparse classes, which are classes that have a very small number of observations.\n",
    "- If classes have short have very short bars, they are sparse classes.\n",
    "    - In the best case, they don't influence the model much.\n",
    "    - In the worse case, they can cause the model to be overfit.\n",
    "- Therefore, we recommend making a note to combine or reassign some of these classes later. \n",
    "\n"
   ]
  }
 ],
 "metadata": {
  "kernelspec": {
   "display_name": "Python 3",
   "language": "python",
   "name": "python3"
  },
  "language_info": {
   "codemirror_mode": {
    "name": "ipython",
    "version": 3
   },
   "file_extension": ".py",
   "mimetype": "text/x-python",
   "name": "python",
   "nbconvert_exporter": "python",
   "pygments_lexer": "ipython3",
   "version": "3.6.0"
  }
 },
 "nbformat": 4,
 "nbformat_minor": 2
}
