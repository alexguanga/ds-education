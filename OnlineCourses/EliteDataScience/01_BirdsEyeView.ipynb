{
 "cells": [
  {
   "cell_type": "markdown",
   "metadata": {},
   "source": [
    "## Supervised VS. Unsupervised\n",
    "- **Supervised learning** includes tasks for \"labeled\" data (i.e. you have a target variable).\n",
    "    - In practice, it's often used as an advanced form of predictive modeling.\n",
    "    - Each observation must be labeled with a \"correct answer.\"\n",
    "    - Only then can you build a predictive model because you must tell the algorithm what's \"correct\" while training it (hence, \"supervising\" it).\n",
    "    - Regression is the task for modeling continuous target variables.\n",
    "    - Classification is the task for modeling categorical (a.k.a. \"class\") target variables.\n",
    "- **Unsupervised learning** includes tasks for \"unlabeled\" data (i.e. you do not have a target variable).\n",
    "    - In practice, it's often used either as a form of automated data analysis or automated signal extraction.\n",
    "    - Unlabeled data has no predetermined \"correct answer.\"\n",
    "    - You'll allow the algorithm to directly learn patterns from the data (without \"supervision\").\n",
    "    - Clustering is the most common unsupervised learning task, and it's for finding groups within your data."
   ]
  },
  {
   "cell_type": "markdown",
   "metadata": {},
   "source": [
    "## There are 5 core steps:\n",
    "\n",
    "- Exploratory Analysis\n",
    "    - First, \"get to know\" the data. This step should be quick, efficient, and decisive.\n",
    "- Data Cleaning\n",
    "    - Then, clean your data to avoid many common pitfalls. Better data beats fancier algorithms.\n",
    "- Feature Engineering\n",
    "    - Next, help your algorithms \"focus\" on what's important by creating new features.\n",
    "- Algorithm Selection\n",
    "    - Choose the best, most appropriate algorithms without wasting your time.\n",
    "- Model Training\n",
    "    - Finally, train your models. This step is pretty formulaic once you've done the first 4."
   ]
  }
 ],
 "metadata": {
  "kernelspec": {
   "display_name": "Python 3",
   "language": "python",
   "name": "python3"
  },
  "language_info": {
   "codemirror_mode": {
    "name": "ipython",
    "version": 3
   },
   "file_extension": ".py",
   "mimetype": "text/x-python",
   "name": "python",
   "nbconvert_exporter": "python",
   "pygments_lexer": "ipython3",
   "version": "3.6.0"
  }
 },
 "nbformat": 4,
 "nbformat_minor": 2
}
