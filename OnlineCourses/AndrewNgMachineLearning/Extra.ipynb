{
 "cells": [
  {
   "cell_type": "markdown",
   "metadata": {},
   "source": [
    "Classification problems\n",
    "- Like binary problems (taking the value either 0 or 1)\n",
    "- 0: Negative Class, 1: Positive Class\n",
    "- 0 generally means if there's an absence of something\n",
    "- performing classification with linear regression can be an issue with outliers\n",
    "- outliers can change the entire linear regression and provide an incorrect measure of the classification \n",
    "- values can be larger than 1 or smaller than 0\n",
    "- logistic regression is not an actual regression \n"
   ]
  }
 ],
 "metadata": {
  "kernelspec": {
   "display_name": "Python 3",
   "language": "python",
   "name": "python3"
  },
  "language_info": {
   "codemirror_mode": {
    "name": "ipython",
    "version": 3
   },
   "file_extension": ".py",
   "mimetype": "text/x-python",
   "name": "python",
   "nbconvert_exporter": "python",
   "pygments_lexer": "ipython3",
   "version": "3.6.0"
  }
 },
 "nbformat": 4,
 "nbformat_minor": 2
}
