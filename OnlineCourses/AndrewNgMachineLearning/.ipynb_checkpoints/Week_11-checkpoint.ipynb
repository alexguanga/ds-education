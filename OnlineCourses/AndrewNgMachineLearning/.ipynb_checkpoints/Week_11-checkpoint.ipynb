{
 "cells": [
  {
   "cell_type": "markdown",
   "metadata": {},
   "source": [
    "# Photo OCR"
   ]
  },
  {
   "cell_type": "markdown",
   "metadata": {},
   "source": [
    "### Problem Description and Pipeline\n",
    "- Stands for Photo Optical Character Recognition\n",
    "<img src=\"Photo-1.png\" alt=\"Drawing\" style=\"width: 600px;\"/>\n",
    "---\n",
    "### Sliding Windows\n",
    "- You break down the problem into some different portions\n",
    "- You first find way to categorize the data, say for people, there's a rectangle that probably means the ratio of the person\n",
    "- You then give it correct and wrong data examples that have the desired dimension\n",
    "<img src=\"Photo-2.png\" alt=\"Drawing\" style=\"width: 600px;\"/>\n",
    "- You perform the stepside/sliding technique where you run through the entire photo\n",
    "<img src=\"Photo-3.png\" alt=\"Drawing\" style=\"width: 600px;\"/>\n",
    "- For text detention, it uses the black and white shades, where white means that the prob. that its a letter is high\n",
    "- The expansion simply means that if we have a white pixel, then we color the entire distance btw. them white\n",
    "<img src=\"Photo-4.png\" alt=\"Drawing\" style=\"width: 600px;\"/>\n",
    "- Using the slide window model, we try to find if the space is large enough that it's two diff. words or if the space is small, we want classifier to tell us that they're part of the same word\n",
    "<img src=\"Photo-5.png\" alt=\"Drawing\" style=\"width: 600px;\"/>\n",
    "<img src=\"Photo-6.png\" alt=\"Drawing\" style=\"width: 600px;\"/>\n",
    "\n",
    "---\n",
    "### Getting Lots of Data and Artificial Data\n",
    "- To get more data, specficalluy on text. one thing you can is get letters from different fonts and paste it against different backgrounds. This will generate more examples\n",
    "- You're creating new data from scratch\n",
    "- Get an original image, and disortient where you have weird shapes of the letters\n",
    "<img src=\"Photo-7.png\" alt=\"Drawing\" style=\"width: 600px;\"/>\n",
    "- In speech, we can add different background noises that will help us find the voice through the noise \n",
    "- ** It does NOT help just adding random noise to the data, we should focus noise that will have some implementation in the read data**\n",
    "<img src=\"Photo-8.png\" alt=\"Drawing\" style=\"width: 600px;\"/>\n",
    "<img src=\"Photo-9.png\" alt=\"Drawing\" style=\"width: 600px;\"/>\n"
   ]
  },
  {
   "cell_type": "code",
   "execution_count": null,
   "metadata": {
    "collapsed": true
   },
   "outputs": [],
   "source": []
  }
 ],
 "metadata": {
  "kernelspec": {
   "display_name": "Python 3",
   "language": "python",
   "name": "python3"
  },
  "language_info": {
   "codemirror_mode": {
    "name": "ipython",
    "version": 3
   },
   "file_extension": ".py",
   "mimetype": "text/x-python",
   "name": "python",
   "nbconvert_exporter": "python",
   "pygments_lexer": "ipython3",
   "version": "3.6.0"
  }
 },
 "nbformat": 4,
 "nbformat_minor": 2
}
