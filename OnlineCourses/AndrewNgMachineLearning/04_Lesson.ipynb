{
 "cells": [
  {
   "cell_type": "markdown",
   "metadata": {},
   "source": [
    "# Motivations\n",
    "- **Non-linear Hypotheses**\n",
    "    - <img src=\"../images/Nueral-Net-1.png\">\n",
    "\n",
    "\n",
    "- **Neurons and the Brain**\n",
    "    - **Examples**\n",
    "        - Seeing with your tongue\n",
    "        - Human echolocation (sonar)\n",
    "        - Haptic belt: Direction sense\n",
    "        - Implanting a 3rd eye"
   ]
  },
  {
   "cell_type": "markdown",
   "metadata": {},
   "source": [
    "# Neural Networks\n",
    "- **Model representation I**\n",
    "    - <img src=\"../images/NN-2.png\">\n",
    "    - <img src=\"../images/NN-3.png\">\n",
    "\n",
    "\n",
    "- ** Model representation II**\n",
    "    - **Forward propagation: Vectorized implementation**\n",
    "        - <img src=\"../images/NN-4.png\">\n"
   ]
  },
  {
   "cell_type": "markdown",
   "metadata": {},
   "source": [
    "# Applications\n",
    "- ** Examples and Intuition I**\n",
    "    - <img src=\"../images/NN-5.png\">\n",
    "    - <img src=\"../images/NN-6.png\">\n",
    "    - <img src=\"../images/NN-7.png\">\n",
    "\n",
    "\n",
    "- ** Examples and Intuition II**\n",
    "    - <img src=\"../images/NN-8.png\">\n",
    "    - <img src=\"../images/NN-9.png\">\n",
    "\n",
    "\n",
    "- **Multi-class classification**\n",
    "    - <img src=\"../images/NN-10.png\">\n",
    "    - <img src=\"../images/NN-11.png\">"
   ]
  }
 ],
 "metadata": {
  "kernelspec": {
   "display_name": "Python 3",
   "language": "python",
   "name": "python3"
  },
  "language_info": {
   "codemirror_mode": {
    "name": "ipython",
    "version": 3
   },
   "file_extension": ".py",
   "mimetype": "text/x-python",
   "name": "python",
   "nbconvert_exporter": "python",
   "pygments_lexer": "ipython3",
   "version": "3.6.0"
  }
 },
 "nbformat": 4,
 "nbformat_minor": 2
}
