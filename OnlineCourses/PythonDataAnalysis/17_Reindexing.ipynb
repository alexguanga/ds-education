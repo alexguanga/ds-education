{
 "cells": [
  {
   "cell_type": "code",
   "execution_count": 2,
   "metadata": {
    "collapsed": true
   },
   "outputs": [],
   "source": [
    "import numpy as np\n",
    "import pandas as pd\n",
    "\n",
    "from pandas import Series, DataFrame\n",
    "from numpy.random import randn"
   ]
  },
  {
   "cell_type": "code",
   "execution_count": 4,
   "metadata": {},
   "outputs": [
    {
     "data": {
      "text/plain": [
       "A    1\n",
       "B    2\n",
       "C    3\n",
       "D    4\n",
       "dtype: int64"
      ]
     },
     "execution_count": 4,
     "metadata": {},
     "output_type": "execute_result"
    }
   ],
   "source": [
    "ser1 = Series([1,2,3,4], index=['A', 'B', 'C', 'D'])\n",
    "ser1"
   ]
  },
  {
   "cell_type": "code",
   "execution_count": 6,
   "metadata": {},
   "outputs": [
    {
     "data": {
      "text/plain": [
       "A    1.0\n",
       "B    2.0\n",
       "C    3.0\n",
       "D    4.0\n",
       "E    NaN\n",
       "F    NaN\n",
       "dtype: float64"
      ]
     },
     "execution_count": 6,
     "metadata": {},
     "output_type": "execute_result"
    }
   ],
   "source": [
    "ser2 = ser1.reindex(['A', 'B', 'C', 'D', 'E', 'F'])\n",
    "ser2"
   ]
  },
  {
   "cell_type": "code",
   "execution_count": 8,
   "metadata": {},
   "outputs": [
    {
     "data": {
      "text/plain": [
       "A    1.0\n",
       "B    2.0\n",
       "C    3.0\n",
       "D    4.0\n",
       "E    NaN\n",
       "F    NaN\n",
       "G    0.0\n",
       "dtype: float64"
      ]
     },
     "execution_count": 8,
     "metadata": {},
     "output_type": "execute_result"
    }
   ],
   "source": [
    "# Intersting way of adding the new values to a new observations\n",
    "\n",
    "# Noticed that only the last value is added with the val\n",
    "ser2.reindex(['A', 'B', 'C', 'D', 'E', 'F', 'G'], fill_value=0)"
   ]
  },
  {
   "cell_type": "code",
   "execution_count": 11,
   "metadata": {},
   "outputs": [
    {
     "data": {
      "text/plain": [
       "0        USA\n",
       "5     Mexico\n",
       "10    Canada\n",
       "dtype: object"
      ]
     },
     "execution_count": 11,
     "metadata": {},
     "output_type": "execute_result"
    }
   ],
   "source": [
    "ser3 = Series(['USA', 'Mexico', 'Canada'], index=[0,5,10])\n",
    "ser3"
   ]
  },
  {
   "cell_type": "code",
   "execution_count": 13,
   "metadata": {},
   "outputs": [
    {
     "data": {
      "text/plain": [
       "range(0, 15)"
      ]
     },
     "execution_count": 13,
     "metadata": {},
     "output_type": "execute_result"
    }
   ],
   "source": [
    "ranger = range(15)\n",
    "ranger"
   ]
  },
  {
   "cell_type": "code",
   "execution_count": 15,
   "metadata": {},
   "outputs": [
    {
     "data": {
      "text/plain": [
       "0        USA\n",
       "1        USA\n",
       "2        USA\n",
       "3        USA\n",
       "4        USA\n",
       "5     Mexico\n",
       "6     Mexico\n",
       "7     Mexico\n",
       "8     Mexico\n",
       "9     Mexico\n",
       "10    Canada\n",
       "11    Canada\n",
       "12    Canada\n",
       "13    Canada\n",
       "14    Canada\n",
       "dtype: object"
      ]
     },
     "execution_count": 15,
     "metadata": {},
     "output_type": "execute_result"
    }
   ],
   "source": [
    "# using a specific method to fill the values\n",
    "# Forward filling\n",
    "\n",
    "ser3.reindex(ranger,method='ffill')"
   ]
  },
  {
   "cell_type": "code",
   "execution_count": 16,
   "metadata": {},
   "outputs": [
    {
     "data": {
      "text/html": [
       "<div>\n",
       "<style>\n",
       "    .dataframe thead tr:only-child th {\n",
       "        text-align: right;\n",
       "    }\n",
       "\n",
       "    .dataframe thead th {\n",
       "        text-align: left;\n",
       "    }\n",
       "\n",
       "    .dataframe tbody tr th {\n",
       "        vertical-align: top;\n",
       "    }\n",
       "</style>\n",
       "<table border=\"1\" class=\"dataframe\">\n",
       "  <thead>\n",
       "    <tr style=\"text-align: right;\">\n",
       "      <th></th>\n",
       "      <th>Col1</th>\n",
       "      <th>Col2</th>\n",
       "      <th>Col3</th>\n",
       "      <th>Col4</th>\n",
       "      <th>Col5</th>\n",
       "    </tr>\n",
       "  </thead>\n",
       "  <tbody>\n",
       "    <tr>\n",
       "      <th>A</th>\n",
       "      <td>-0.897412</td>\n",
       "      <td>0.000886</td>\n",
       "      <td>-1.082694</td>\n",
       "      <td>-0.542635</td>\n",
       "      <td>-0.704548</td>\n",
       "    </tr>\n",
       "    <tr>\n",
       "      <th>B</th>\n",
       "      <td>-0.355468</td>\n",
       "      <td>0.095543</td>\n",
       "      <td>-0.044715</td>\n",
       "      <td>0.234306</td>\n",
       "      <td>-0.643967</td>\n",
       "    </tr>\n",
       "    <tr>\n",
       "      <th>D</th>\n",
       "      <td>0.314811</td>\n",
       "      <td>-0.577752</td>\n",
       "      <td>0.126160</td>\n",
       "      <td>-0.435646</td>\n",
       "      <td>0.813955</td>\n",
       "    </tr>\n",
       "    <tr>\n",
       "      <th>E</th>\n",
       "      <td>-0.367673</td>\n",
       "      <td>0.089784</td>\n",
       "      <td>0.729772</td>\n",
       "      <td>1.077856</td>\n",
       "      <td>-0.347482</td>\n",
       "    </tr>\n",
       "    <tr>\n",
       "      <th>F</th>\n",
       "      <td>1.319102</td>\n",
       "      <td>0.054521</td>\n",
       "      <td>0.912771</td>\n",
       "      <td>1.393399</td>\n",
       "      <td>-1.914430</td>\n",
       "    </tr>\n",
       "  </tbody>\n",
       "</table>\n",
       "</div>"
      ],
      "text/plain": [
       "       Col1      Col2      Col3      Col4      Col5\n",
       "A -0.897412  0.000886 -1.082694 -0.542635 -0.704548\n",
       "B -0.355468  0.095543 -0.044715  0.234306 -0.643967\n",
       "D  0.314811 -0.577752  0.126160 -0.435646  0.813955\n",
       "E -0.367673  0.089784  0.729772  1.077856 -0.347482\n",
       "F  1.319102  0.054521  0.912771  1.393399 -1.914430"
      ]
     },
     "execution_count": 16,
     "metadata": {},
     "output_type": "execute_result"
    }
   ],
   "source": [
    "dframe = DataFrame(randn(25).reshape((5,5)), index=['A', 'B', 'D', 'E', 'F'], \n",
    "                   columns=['Col1', 'Col2', 'Col3', 'Col4', 'Col5'])\n",
    "dframe"
   ]
  },
  {
   "cell_type": "code",
   "execution_count": 18,
   "metadata": {},
   "outputs": [
    {
     "data": {
      "text/html": [
       "<div>\n",
       "<style>\n",
       "    .dataframe thead tr:only-child th {\n",
       "        text-align: right;\n",
       "    }\n",
       "\n",
       "    .dataframe thead th {\n",
       "        text-align: left;\n",
       "    }\n",
       "\n",
       "    .dataframe tbody tr th {\n",
       "        vertical-align: top;\n",
       "    }\n",
       "</style>\n",
       "<table border=\"1\" class=\"dataframe\">\n",
       "  <thead>\n",
       "    <tr style=\"text-align: right;\">\n",
       "      <th></th>\n",
       "      <th>Col1</th>\n",
       "      <th>Col2</th>\n",
       "      <th>Col3</th>\n",
       "      <th>Col4</th>\n",
       "      <th>Col5</th>\n",
       "    </tr>\n",
       "  </thead>\n",
       "  <tbody>\n",
       "    <tr>\n",
       "      <th>A</th>\n",
       "      <td>-0.897412</td>\n",
       "      <td>0.000886</td>\n",
       "      <td>-1.082694</td>\n",
       "      <td>-0.542635</td>\n",
       "      <td>-0.704548</td>\n",
       "    </tr>\n",
       "    <tr>\n",
       "      <th>B</th>\n",
       "      <td>-0.355468</td>\n",
       "      <td>0.095543</td>\n",
       "      <td>-0.044715</td>\n",
       "      <td>0.234306</td>\n",
       "      <td>-0.643967</td>\n",
       "    </tr>\n",
       "    <tr>\n",
       "      <th>C</th>\n",
       "      <td>NaN</td>\n",
       "      <td>NaN</td>\n",
       "      <td>NaN</td>\n",
       "      <td>NaN</td>\n",
       "      <td>NaN</td>\n",
       "    </tr>\n",
       "    <tr>\n",
       "      <th>D</th>\n",
       "      <td>0.314811</td>\n",
       "      <td>-0.577752</td>\n",
       "      <td>0.126160</td>\n",
       "      <td>-0.435646</td>\n",
       "      <td>0.813955</td>\n",
       "    </tr>\n",
       "    <tr>\n",
       "      <th>E</th>\n",
       "      <td>-0.367673</td>\n",
       "      <td>0.089784</td>\n",
       "      <td>0.729772</td>\n",
       "      <td>1.077856</td>\n",
       "      <td>-0.347482</td>\n",
       "    </tr>\n",
       "    <tr>\n",
       "      <th>F</th>\n",
       "      <td>1.319102</td>\n",
       "      <td>0.054521</td>\n",
       "      <td>0.912771</td>\n",
       "      <td>1.393399</td>\n",
       "      <td>-1.914430</td>\n",
       "    </tr>\n",
       "  </tbody>\n",
       "</table>\n",
       "</div>"
      ],
      "text/plain": [
       "       Col1      Col2      Col3      Col4      Col5\n",
       "A -0.897412  0.000886 -1.082694 -0.542635 -0.704548\n",
       "B -0.355468  0.095543 -0.044715  0.234306 -0.643967\n",
       "C       NaN       NaN       NaN       NaN       NaN\n",
       "D  0.314811 -0.577752  0.126160 -0.435646  0.813955\n",
       "E -0.367673  0.089784  0.729772  1.077856 -0.347482\n",
       "F  1.319102  0.054521  0.912771  1.393399 -1.914430"
      ]
     },
     "execution_count": 18,
     "metadata": {},
     "output_type": "execute_result"
    }
   ],
   "source": [
    "# Forgot to add C as the index\n",
    "dframe2 = dframe.reindex(['A', 'B', 'C', 'D', 'E', 'F'])\n",
    "dframe2"
   ]
  },
  {
   "cell_type": "code",
   "execution_count": 19,
   "metadata": {},
   "outputs": [
    {
     "data": {
      "text/html": [
       "<div>\n",
       "<style>\n",
       "    .dataframe thead tr:only-child th {\n",
       "        text-align: right;\n",
       "    }\n",
       "\n",
       "    .dataframe thead th {\n",
       "        text-align: left;\n",
       "    }\n",
       "\n",
       "    .dataframe tbody tr th {\n",
       "        vertical-align: top;\n",
       "    }\n",
       "</style>\n",
       "<table border=\"1\" class=\"dataframe\">\n",
       "  <thead>\n",
       "    <tr style=\"text-align: right;\">\n",
       "      <th></th>\n",
       "      <th>Col1</th>\n",
       "      <th>Col2</th>\n",
       "      <th>Col3</th>\n",
       "      <th>Col4</th>\n",
       "      <th>Col5</th>\n",
       "      <th>Col6</th>\n",
       "    </tr>\n",
       "  </thead>\n",
       "  <tbody>\n",
       "    <tr>\n",
       "      <th>A</th>\n",
       "      <td>-0.897412</td>\n",
       "      <td>0.000886</td>\n",
       "      <td>-1.082694</td>\n",
       "      <td>-0.542635</td>\n",
       "      <td>-0.704548</td>\n",
       "      <td>NaN</td>\n",
       "    </tr>\n",
       "    <tr>\n",
       "      <th>B</th>\n",
       "      <td>-0.355468</td>\n",
       "      <td>0.095543</td>\n",
       "      <td>-0.044715</td>\n",
       "      <td>0.234306</td>\n",
       "      <td>-0.643967</td>\n",
       "      <td>NaN</td>\n",
       "    </tr>\n",
       "    <tr>\n",
       "      <th>C</th>\n",
       "      <td>NaN</td>\n",
       "      <td>NaN</td>\n",
       "      <td>NaN</td>\n",
       "      <td>NaN</td>\n",
       "      <td>NaN</td>\n",
       "      <td>NaN</td>\n",
       "    </tr>\n",
       "    <tr>\n",
       "      <th>D</th>\n",
       "      <td>0.314811</td>\n",
       "      <td>-0.577752</td>\n",
       "      <td>0.126160</td>\n",
       "      <td>-0.435646</td>\n",
       "      <td>0.813955</td>\n",
       "      <td>NaN</td>\n",
       "    </tr>\n",
       "    <tr>\n",
       "      <th>E</th>\n",
       "      <td>-0.367673</td>\n",
       "      <td>0.089784</td>\n",
       "      <td>0.729772</td>\n",
       "      <td>1.077856</td>\n",
       "      <td>-0.347482</td>\n",
       "      <td>NaN</td>\n",
       "    </tr>\n",
       "    <tr>\n",
       "      <th>F</th>\n",
       "      <td>1.319102</td>\n",
       "      <td>0.054521</td>\n",
       "      <td>0.912771</td>\n",
       "      <td>1.393399</td>\n",
       "      <td>-1.914430</td>\n",
       "      <td>NaN</td>\n",
       "    </tr>\n",
       "  </tbody>\n",
       "</table>\n",
       "</div>"
      ],
      "text/plain": [
       "       Col1      Col2      Col3      Col4      Col5  Col6\n",
       "A -0.897412  0.000886 -1.082694 -0.542635 -0.704548   NaN\n",
       "B -0.355468  0.095543 -0.044715  0.234306 -0.643967   NaN\n",
       "C       NaN       NaN       NaN       NaN       NaN   NaN\n",
       "D  0.314811 -0.577752  0.126160 -0.435646  0.813955   NaN\n",
       "E -0.367673  0.089784  0.729772  1.077856 -0.347482   NaN\n",
       "F  1.319102  0.054521  0.912771  1.393399 -1.914430   NaN"
      ]
     },
     "execution_count": 19,
     "metadata": {},
     "output_type": "execute_result"
    }
   ],
   "source": [
    "new_col = ['Col1', 'Col2', 'Col3', 'Col4', 'Col5', 'Col6']\n",
    "dframe2.reindex(columns=new_col)"
   ]
  },
  {
   "cell_type": "code",
   "execution_count": 20,
   "metadata": {},
   "outputs": [
    {
     "data": {
      "text/html": [
       "<div>\n",
       "<style>\n",
       "    .dataframe thead tr:only-child th {\n",
       "        text-align: right;\n",
       "    }\n",
       "\n",
       "    .dataframe thead th {\n",
       "        text-align: left;\n",
       "    }\n",
       "\n",
       "    .dataframe tbody tr th {\n",
       "        vertical-align: top;\n",
       "    }\n",
       "</style>\n",
       "<table border=\"1\" class=\"dataframe\">\n",
       "  <thead>\n",
       "    <tr style=\"text-align: right;\">\n",
       "      <th></th>\n",
       "      <th>Col1</th>\n",
       "      <th>Col2</th>\n",
       "      <th>Col3</th>\n",
       "      <th>Col4</th>\n",
       "      <th>Col5</th>\n",
       "    </tr>\n",
       "  </thead>\n",
       "  <tbody>\n",
       "    <tr>\n",
       "      <th>A</th>\n",
       "      <td>-0.897412</td>\n",
       "      <td>0.000886</td>\n",
       "      <td>-1.082694</td>\n",
       "      <td>-0.542635</td>\n",
       "      <td>-0.704548</td>\n",
       "    </tr>\n",
       "    <tr>\n",
       "      <th>B</th>\n",
       "      <td>-0.355468</td>\n",
       "      <td>0.095543</td>\n",
       "      <td>-0.044715</td>\n",
       "      <td>0.234306</td>\n",
       "      <td>-0.643967</td>\n",
       "    </tr>\n",
       "    <tr>\n",
       "      <th>D</th>\n",
       "      <td>0.314811</td>\n",
       "      <td>-0.577752</td>\n",
       "      <td>0.126160</td>\n",
       "      <td>-0.435646</td>\n",
       "      <td>0.813955</td>\n",
       "    </tr>\n",
       "    <tr>\n",
       "      <th>E</th>\n",
       "      <td>-0.367673</td>\n",
       "      <td>0.089784</td>\n",
       "      <td>0.729772</td>\n",
       "      <td>1.077856</td>\n",
       "      <td>-0.347482</td>\n",
       "    </tr>\n",
       "    <tr>\n",
       "      <th>F</th>\n",
       "      <td>1.319102</td>\n",
       "      <td>0.054521</td>\n",
       "      <td>0.912771</td>\n",
       "      <td>1.393399</td>\n",
       "      <td>-1.914430</td>\n",
       "    </tr>\n",
       "  </tbody>\n",
       "</table>\n",
       "</div>"
      ],
      "text/plain": [
       "       Col1      Col2      Col3      Col4      Col5\n",
       "A -0.897412  0.000886 -1.082694 -0.542635 -0.704548\n",
       "B -0.355468  0.095543 -0.044715  0.234306 -0.643967\n",
       "D  0.314811 -0.577752  0.126160 -0.435646  0.813955\n",
       "E -0.367673  0.089784  0.729772  1.077856 -0.347482\n",
       "F  1.319102  0.054521  0.912771  1.393399 -1.914430"
      ]
     },
     "execution_count": 20,
     "metadata": {},
     "output_type": "execute_result"
    }
   ],
   "source": [
    "dframe"
   ]
  },
  {
   "cell_type": "code",
   "execution_count": 22,
   "metadata": {},
   "outputs": [
    {
     "data": {
      "text/html": [
       "<div>\n",
       "<style>\n",
       "    .dataframe thead tr:only-child th {\n",
       "        text-align: right;\n",
       "    }\n",
       "\n",
       "    .dataframe thead th {\n",
       "        text-align: left;\n",
       "    }\n",
       "\n",
       "    .dataframe tbody tr th {\n",
       "        vertical-align: top;\n",
       "    }\n",
       "</style>\n",
       "<table border=\"1\" class=\"dataframe\">\n",
       "  <thead>\n",
       "    <tr style=\"text-align: right;\">\n",
       "      <th></th>\n",
       "      <th>Col1</th>\n",
       "      <th>Col2</th>\n",
       "      <th>Col3</th>\n",
       "      <th>Col4</th>\n",
       "      <th>Col5</th>\n",
       "      <th>Col6</th>\n",
       "    </tr>\n",
       "  </thead>\n",
       "  <tbody>\n",
       "    <tr>\n",
       "      <th>A</th>\n",
       "      <td>-0.897412</td>\n",
       "      <td>0.000886</td>\n",
       "      <td>-1.082694</td>\n",
       "      <td>-0.542635</td>\n",
       "      <td>-0.704548</td>\n",
       "      <td>NaN</td>\n",
       "    </tr>\n",
       "    <tr>\n",
       "      <th>B</th>\n",
       "      <td>-0.355468</td>\n",
       "      <td>0.095543</td>\n",
       "      <td>-0.044715</td>\n",
       "      <td>0.234306</td>\n",
       "      <td>-0.643967</td>\n",
       "      <td>NaN</td>\n",
       "    </tr>\n",
       "    <tr>\n",
       "      <th>D</th>\n",
       "      <td>0.314811</td>\n",
       "      <td>-0.577752</td>\n",
       "      <td>0.126160</td>\n",
       "      <td>-0.435646</td>\n",
       "      <td>0.813955</td>\n",
       "      <td>NaN</td>\n",
       "    </tr>\n",
       "    <tr>\n",
       "      <th>E</th>\n",
       "      <td>-0.367673</td>\n",
       "      <td>0.089784</td>\n",
       "      <td>0.729772</td>\n",
       "      <td>1.077856</td>\n",
       "      <td>-0.347482</td>\n",
       "      <td>NaN</td>\n",
       "    </tr>\n",
       "    <tr>\n",
       "      <th>F</th>\n",
       "      <td>1.319102</td>\n",
       "      <td>0.054521</td>\n",
       "      <td>0.912771</td>\n",
       "      <td>1.393399</td>\n",
       "      <td>-1.914430</td>\n",
       "      <td>NaN</td>\n",
       "    </tr>\n",
       "  </tbody>\n",
       "</table>\n",
       "</div>"
      ],
      "text/plain": [
       "       Col1      Col2      Col3      Col4      Col5  Col6\n",
       "A -0.897412  0.000886 -1.082694 -0.542635 -0.704548   NaN\n",
       "B -0.355468  0.095543 -0.044715  0.234306 -0.643967   NaN\n",
       "D  0.314811 -0.577752  0.126160 -0.435646  0.813955   NaN\n",
       "E -0.367673  0.089784  0.729772  1.077856 -0.347482   NaN\n",
       "F  1.319102  0.054521  0.912771  1.393399 -1.914430   NaN"
      ]
     },
     "execution_count": 22,
     "metadata": {},
     "output_type": "execute_result"
    }
   ],
   "source": [
    "# The new methods in Python is different than it is with the ix\n",
    "dframe.loc[['A', 'B', 'D', 'E', 'F'], new_col]"
   ]
  }
 ],
 "metadata": {
  "kernelspec": {
   "display_name": "Python 3",
   "language": "python",
   "name": "python3"
  },
  "language_info": {
   "codemirror_mode": {
    "name": "ipython",
    "version": 3
   },
   "file_extension": ".py",
   "mimetype": "text/x-python",
   "name": "python",
   "nbconvert_exporter": "python",
   "pygments_lexer": "ipython3",
   "version": "3.6.0"
  }
 },
 "nbformat": 4,
 "nbformat_minor": 2
}
