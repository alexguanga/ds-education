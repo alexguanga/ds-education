{
 "cells": [
  {
   "cell_type": "markdown",
   "metadata": {},
   "source": [
    "# Section 1"
   ]
  },
  {
   "cell_type": "markdown",
   "metadata": {},
   "source": [
    "### Lecture 1: What is Deep Learning?\n",
    "- In 1950s, the harddrive will crazy big\n",
    "- In 1980, a 10 MB cost 3495!\n",
    "- From 1956-1980, the change was 2X\n",
    "- From 1980-2017, the change was 25600X\n",
    "- You can store all of the World's data in one KG!\n",
    "- Geoffrey Hinton is the GODFATHER of deep learning."
   ]
  }
 ],
 "metadata": {
  "kernelspec": {
   "display_name": "Python 3",
   "language": "python",
   "name": "python3"
  },
  "language_info": {
   "codemirror_mode": {
    "name": "ipython",
    "version": 3
   },
   "file_extension": ".py",
   "mimetype": "text/x-python",
   "name": "python",
   "nbconvert_exporter": "python",
   "pygments_lexer": "ipython3",
   "version": "3.6.0"
  }
 },
 "nbformat": 4,
 "nbformat_minor": 2
}
