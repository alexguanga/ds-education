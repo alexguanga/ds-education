{
 "cells": [
  {
   "cell_type": "code",
   "execution_count": 45,
   "metadata": {
    "collapsed": true
   },
   "outputs": [],
   "source": [
    "import numpy as np\n",
    "import pandas as pd\n",
    "from pandas import DataFrame, Series\n",
    "\n",
    "import matplotlib.pyplot as plt\n",
    "import seaborn as sns\n",
    "sns.set_style('whitegrid')\n",
    "\n",
    "%matplotlib inline"
   ]
  },
  {
   "cell_type": "code",
   "execution_count": 46,
   "metadata": {},
   "outputs": [],
   "source": [
    "import keras\n",
    "from keras.models import Sequential\n",
    "from keras.layers import Dense"
   ]
  },
  {
   "cell_type": "code",
   "execution_count": 47,
   "metadata": {},
   "outputs": [],
   "source": [
    "# Importing the dataset\n",
    "df = pd.read_csv(\"../archive/Churn_Modelling.csv\")"
   ]
  },
  {
   "cell_type": "code",
   "execution_count": 48,
   "metadata": {},
   "outputs": [
    {
     "data": {
      "text/html": [
       "<div>\n",
       "<style scoped>\n",
       "    .dataframe tbody tr th:only-of-type {\n",
       "        vertical-align: middle;\n",
       "    }\n",
       "\n",
       "    .dataframe tbody tr th {\n",
       "        vertical-align: top;\n",
       "    }\n",
       "\n",
       "    .dataframe thead th {\n",
       "        text-align: right;\n",
       "    }\n",
       "</style>\n",
       "<table border=\"1\" class=\"dataframe\">\n",
       "  <thead>\n",
       "    <tr style=\"text-align: right;\">\n",
       "      <th></th>\n",
       "      <th>RowNumber</th>\n",
       "      <th>CustomerId</th>\n",
       "      <th>Surname</th>\n",
       "      <th>CreditScore</th>\n",
       "      <th>Geography</th>\n",
       "      <th>Gender</th>\n",
       "      <th>Age</th>\n",
       "      <th>Tenure</th>\n",
       "      <th>Balance</th>\n",
       "      <th>NumOfProducts</th>\n",
       "      <th>HasCrCard</th>\n",
       "      <th>IsActiveMember</th>\n",
       "      <th>EstimatedSalary</th>\n",
       "      <th>Exited</th>\n",
       "    </tr>\n",
       "  </thead>\n",
       "  <tbody>\n",
       "    <tr>\n",
       "      <th>0</th>\n",
       "      <td>1</td>\n",
       "      <td>15634602</td>\n",
       "      <td>Hargrave</td>\n",
       "      <td>619</td>\n",
       "      <td>France</td>\n",
       "      <td>Female</td>\n",
       "      <td>42</td>\n",
       "      <td>2</td>\n",
       "      <td>0.00</td>\n",
       "      <td>1</td>\n",
       "      <td>1</td>\n",
       "      <td>1</td>\n",
       "      <td>101348.88</td>\n",
       "      <td>1</td>\n",
       "    </tr>\n",
       "    <tr>\n",
       "      <th>1</th>\n",
       "      <td>2</td>\n",
       "      <td>15647311</td>\n",
       "      <td>Hill</td>\n",
       "      <td>608</td>\n",
       "      <td>Spain</td>\n",
       "      <td>Female</td>\n",
       "      <td>41</td>\n",
       "      <td>1</td>\n",
       "      <td>83807.86</td>\n",
       "      <td>1</td>\n",
       "      <td>0</td>\n",
       "      <td>1</td>\n",
       "      <td>112542.58</td>\n",
       "      <td>0</td>\n",
       "    </tr>\n",
       "    <tr>\n",
       "      <th>2</th>\n",
       "      <td>3</td>\n",
       "      <td>15619304</td>\n",
       "      <td>Onio</td>\n",
       "      <td>502</td>\n",
       "      <td>France</td>\n",
       "      <td>Female</td>\n",
       "      <td>42</td>\n",
       "      <td>8</td>\n",
       "      <td>159660.80</td>\n",
       "      <td>3</td>\n",
       "      <td>1</td>\n",
       "      <td>0</td>\n",
       "      <td>113931.57</td>\n",
       "      <td>1</td>\n",
       "    </tr>\n",
       "    <tr>\n",
       "      <th>3</th>\n",
       "      <td>4</td>\n",
       "      <td>15701354</td>\n",
       "      <td>Boni</td>\n",
       "      <td>699</td>\n",
       "      <td>France</td>\n",
       "      <td>Female</td>\n",
       "      <td>39</td>\n",
       "      <td>1</td>\n",
       "      <td>0.00</td>\n",
       "      <td>2</td>\n",
       "      <td>0</td>\n",
       "      <td>0</td>\n",
       "      <td>93826.63</td>\n",
       "      <td>0</td>\n",
       "    </tr>\n",
       "    <tr>\n",
       "      <th>4</th>\n",
       "      <td>5</td>\n",
       "      <td>15737888</td>\n",
       "      <td>Mitchell</td>\n",
       "      <td>850</td>\n",
       "      <td>Spain</td>\n",
       "      <td>Female</td>\n",
       "      <td>43</td>\n",
       "      <td>2</td>\n",
       "      <td>125510.82</td>\n",
       "      <td>1</td>\n",
       "      <td>1</td>\n",
       "      <td>1</td>\n",
       "      <td>79084.10</td>\n",
       "      <td>0</td>\n",
       "    </tr>\n",
       "  </tbody>\n",
       "</table>\n",
       "</div>"
      ],
      "text/plain": [
       "   RowNumber  CustomerId   Surname  CreditScore Geography  Gender  Age  \\\n",
       "0          1    15634602  Hargrave          619    France  Female   42   \n",
       "1          2    15647311      Hill          608     Spain  Female   41   \n",
       "2          3    15619304      Onio          502    France  Female   42   \n",
       "3          4    15701354      Boni          699    France  Female   39   \n",
       "4          5    15737888  Mitchell          850     Spain  Female   43   \n",
       "\n",
       "   Tenure    Balance  NumOfProducts  HasCrCard  IsActiveMember  \\\n",
       "0       2       0.00              1          1               1   \n",
       "1       1   83807.86              1          0               1   \n",
       "2       8  159660.80              3          1               0   \n",
       "3       1       0.00              2          0               0   \n",
       "4       2  125510.82              1          1               1   \n",
       "\n",
       "   EstimatedSalary  Exited  \n",
       "0        101348.88       1  \n",
       "1        112542.58       0  \n",
       "2        113931.57       1  \n",
       "3         93826.63       0  \n",
       "4         79084.10       0  "
      ]
     },
     "execution_count": 48,
     "metadata": {},
     "output_type": "execute_result"
    }
   ],
   "source": [
    "df.head()"
   ]
  },
  {
   "cell_type": "code",
   "execution_count": 49,
   "metadata": {
    "collapsed": true
   },
   "outputs": [],
   "source": [
    "# Looking at customers at a bank (They have measuring unusual churn rates: people are leaving the bank)\n",
    "# 1: person stayed in the bank\n",
    "# 0: person left the bank\n",
    "# We have to predict models of potential people who might leave the bank!\n",
    "# We will use indepedent variables to predict whether people will leave the bank"
   ]
  },
  {
   "cell_type": "code",
   "execution_count": 50,
   "metadata": {
    "collapsed": true
   },
   "outputs": [],
   "source": [
    "# Making Y-Variable\n",
    "y = df['Exited']\n",
    "\n",
    "# Including all but one column\n",
    "Xs = df.iloc[:, 3:13]"
   ]
  },
  {
   "cell_type": "code",
   "execution_count": 51,
   "metadata": {
    "collapsed": true
   },
   "outputs": [],
   "source": [
    "from sklearn.preprocessing import LabelEncoder, OneHotEncoder\n",
    "\n",
    "labelencoder_X_geo = LabelEncoder()\n",
    "Xs.loc[:, \"Geography\"] = labelencoder_X_geo.fit_transform(Xs.loc[:, \"Geography\"])\n",
    "labelencoder_X_gender = LabelEncoder()\n",
    "Xs.loc[:, \"Gender\"] = labelencoder_X_gender.fit_transform(Xs.loc[:, \"Gender\"])\n",
    "\n",
    "onehotencoder = OneHotEncoder(categorical_features=[Xs.columns.get_loc(\"Geography\")])\n",
    "Xs = onehotencoder.fit_transform(Xs).toarray()"
   ]
  },
  {
   "cell_type": "code",
   "execution_count": 52,
   "metadata": {
    "collapsed": true
   },
   "outputs": [],
   "source": [
    "# Removing one of the dummy variables for the country\n",
    "Xs = Xs[:, 1:]"
   ]
  },
  {
   "cell_type": "code",
   "execution_count": 53,
   "metadata": {
    "collapsed": true
   },
   "outputs": [],
   "source": [
    "# Splitting the data set into training and testing\n",
    "\n",
    "from sklearn.model_selection import train_test_split\n",
    "X_train, X_test, y_train, y_test = train_test_split(Xs, y, test_size=0.2, random_state=0)"
   ]
  },
  {
   "cell_type": "code",
   "execution_count": 54,
   "metadata": {
    "collapsed": true
   },
   "outputs": [],
   "source": [
    "# Feature Scaling\n",
    "from sklearn.preprocessing import StandardScaler\n",
    "\n",
    "sc_X = StandardScaler()\n",
    "X_train = sc_X.fit_transform(X_train)\n",
    "\n",
    "# We are only using the transform and not the fit transform because we already fit the model\n",
    "X_test = sc_X.transform(X_test)"
   ]
  },
  {
   "cell_type": "code",
   "execution_count": 55,
   "metadata": {},
   "outputs": [
    {
     "data": {
      "text/plain": [
       "RowNumber          0\n",
       "CustomerId         0\n",
       "Surname            0\n",
       "CreditScore        0\n",
       "Geography          0\n",
       "Gender             0\n",
       "Age                0\n",
       "Tenure             0\n",
       "Balance            0\n",
       "NumOfProducts      0\n",
       "HasCrCard          0\n",
       "IsActiveMember     0\n",
       "EstimatedSalary    0\n",
       "Exited             0\n",
       "dtype: int64"
      ]
     },
     "execution_count": 55,
     "metadata": {},
     "output_type": "execute_result"
    }
   ],
   "source": [
    "# Using the apply function, for every column, we find the total amount of NULL/NA values\n",
    "df.apply(lambda x: sum(x.isnull()))"
   ]
  },
  {
   "cell_type": "markdown",
   "metadata": {},
   "source": [
    "- Recall that we are using the units 6 as the average of the input and output layer (input=1, output=11, avg=6)"
   ]
  },
  {
   "cell_type": "code",
   "execution_count": 56,
   "metadata": {},
   "outputs": [],
   "source": [
    "# Initilaizing the ANN model\n",
    "classifier = Sequential()\n",
    "\n",
    "# Adding the input layer\n",
    "classifier.add(Dense(units=6, kernel_initializer='uniform', activation='relu', input_dim=11))\n",
    "\n",
    "# Adding the second input layer (we are still using the recitifier function)\n",
    "classifier.add(Dense(units=6, kernel_initializer='uniform', activation='relu'))\n",
    "\n",
    "# Adding the final input layer (we are apply sigmoid function bc we need a prob of the outcomes happening)\n",
    "classifier.add(Dense(units=1, kernel_initializer='uniform', activation='sigmoid'))\n"
   ]
  },
  {
   "cell_type": "code",
   "execution_count": 57,
   "metadata": {},
   "outputs": [],
   "source": [
    "# Compiling the ANN: finding the best weight to use\n",
    "classifier.compile(optimizer='adam', loss='binary_crossentropy', metrics=['accuracy'])"
   ]
  },
  {
   "cell_type": "markdown",
   "metadata": {},
   "source": [
    "- Epoch\n",
    "    - An epoch describes the number of times the algorithm sees the entire data set. So, each time the algorithm has seen all samples in the dataset, an epoch has completed.\n",
    "\n",
    "- Iteration\n",
    "    - An iteration describes the number of times a batch of data passed through the algorithm. In the case of neural networks, that means the forward pass and backward pass. So, every time you pass a batch of data through the NN, you completed an iteration.\n",
    "\n",
    "- Example: An example might make it clearer.\n",
    "    - Say you have a dataset of 10 examples (or samples). You have a batch size of 2, and you've specified you want the algorithm to run for 3 epochs.\n",
    "    - Therefore, in each epoch, you have 5 batches (10/2 = 5). Each batch gets passed through the algorithm, therefore you have 5 iterations per epoch. Since you've specified 3 epochs, you have a total of 15 iterations (5 * 3 = 15) for training.\n",
    "    \n",
    "- Batch size defines number of samples that going to be propagated through the network.\n",
    "    - For instance, let's say you have 1050 training samples and you want to set up batch_size equal to 100. Algorithm takes first 100 samples (from 1st to 100th) from the training dataset and trains network. Next it takes second 100 samples (from 101st to 200th) and train network again. We can keep doing this procedure until we will propagate through the networks all samples. The problem usually happens with the last set of samples. In our example we've used 1050 which is not divisible by 100 without remainder. The simplest solution is just to get final 50 samples and train the network."
   ]
  },
  {
   "cell_type": "code",
   "execution_count": 58,
   "metadata": {},
   "outputs": [
    {
     "name": "stdout",
     "output_type": "stream",
     "text": [
      "Epoch 1/100\n",
      "8000/8000 [==============================] - 2s 195us/step - loss: 0.4891 - acc: 0.7947\n",
      "Epoch 2/100\n",
      "8000/8000 [==============================] - 1s 166us/step - loss: 0.4267 - acc: 0.7960\n",
      "Epoch 3/100\n",
      "8000/8000 [==============================] - 1s 165us/step - loss: 0.4215 - acc: 0.7991\n",
      "Epoch 4/100\n",
      "8000/8000 [==============================] - 1s 164us/step - loss: 0.4181 - acc: 0.8232\n",
      "Epoch 5/100\n",
      "8000/8000 [==============================] - 1s 167us/step - loss: 0.4162 - acc: 0.8262\n",
      "Epoch 6/100\n",
      "8000/8000 [==============================] - 1s 167us/step - loss: 0.4137 - acc: 0.8292\n",
      "Epoch 7/100\n",
      "8000/8000 [==============================] - 1s 170us/step - loss: 0.4126 - acc: 0.8310\n",
      "Epoch 8/100\n",
      "8000/8000 [==============================] - 1s 167us/step - loss: 0.4110 - acc: 0.8325\n",
      "Epoch 9/100\n",
      "8000/8000 [==============================] - 1s 166us/step - loss: 0.4096 - acc: 0.8336\n",
      "Epoch 10/100\n",
      "8000/8000 [==============================] - 1s 165us/step - loss: 0.4086 - acc: 0.8332\n",
      "Epoch 11/100\n",
      "8000/8000 [==============================] - 1s 165us/step - loss: 0.4079 - acc: 0.8334\n",
      "Epoch 12/100\n",
      "8000/8000 [==============================] - 1s 165us/step - loss: 0.4071 - acc: 0.8340\n",
      "Epoch 13/100\n",
      "8000/8000 [==============================] - 1s 169us/step - loss: 0.4059 - acc: 0.8336\n",
      "Epoch 14/100\n",
      "8000/8000 [==============================] - 1s 166us/step - loss: 0.4055 - acc: 0.8351\n",
      "Epoch 15/100\n",
      "8000/8000 [==============================] - 1s 164us/step - loss: 0.4048 - acc: 0.8345\n",
      "Epoch 16/100\n",
      "8000/8000 [==============================] - 1s 165us/step - loss: 0.4043 - acc: 0.8345\n",
      "Epoch 17/100\n",
      "8000/8000 [==============================] - 1s 167us/step - loss: 0.4039 - acc: 0.8345\n",
      "Epoch 18/100\n",
      "8000/8000 [==============================] - 1s 167us/step - loss: 0.4032 - acc: 0.8357\n",
      "Epoch 19/100\n",
      "8000/8000 [==============================] - 1s 168us/step - loss: 0.4026 - acc: 0.8365\n",
      "Epoch 20/100\n",
      "8000/8000 [==============================] - 1s 171us/step - loss: 0.4024 - acc: 0.8349\n",
      "Epoch 21/100\n",
      "8000/8000 [==============================] - 1s 171us/step - loss: 0.4019 - acc: 0.8341\n",
      "Epoch 22/100\n",
      "8000/8000 [==============================] - 1s 170us/step - loss: 0.4013 - acc: 0.8356\n",
      "Epoch 23/100\n",
      "8000/8000 [==============================] - 1s 166us/step - loss: 0.4008 - acc: 0.8356\n",
      "Epoch 24/100\n",
      "8000/8000 [==============================] - 1s 167us/step - loss: 0.4008 - acc: 0.8347\n",
      "Epoch 25/100\n",
      "8000/8000 [==============================] - 1s 166us/step - loss: 0.3996 - acc: 0.8360\n",
      "Epoch 26/100\n",
      "8000/8000 [==============================] - 1s 168us/step - loss: 0.3996 - acc: 0.8351\n",
      "Epoch 27/100\n",
      "8000/8000 [==============================] - 1s 171us/step - loss: 0.3996 - acc: 0.8364\n",
      "Epoch 28/100\n",
      "8000/8000 [==============================] - 1s 169us/step - loss: 0.3993 - acc: 0.8367\n",
      "Epoch 29/100\n",
      "8000/8000 [==============================] - 1s 171us/step - loss: 0.3992 - acc: 0.8352\n",
      "Epoch 30/100\n",
      "8000/8000 [==============================] - 1s 169us/step - loss: 0.3988 - acc: 0.8344\n",
      "Epoch 31/100\n",
      "8000/8000 [==============================] - 1s 176us/step - loss: 0.3984 - acc: 0.8349\n",
      "Epoch 32/100\n",
      "8000/8000 [==============================] - 1s 169us/step - loss: 0.3983 - acc: 0.8354\n",
      "Epoch 33/100\n",
      "8000/8000 [==============================] - 1s 171us/step - loss: 0.3981 - acc: 0.8349\n",
      "Epoch 34/100\n",
      "8000/8000 [==============================] - 1s 172us/step - loss: 0.3975 - acc: 0.8360\n",
      "Epoch 35/100\n",
      "8000/8000 [==============================] - 1s 177us/step - loss: 0.3978 - acc: 0.8354\n",
      "Epoch 36/100\n",
      "8000/8000 [==============================] - 1s 170us/step - loss: 0.3970 - acc: 0.8340\n",
      "Epoch 37/100\n",
      "8000/8000 [==============================] - 1s 170us/step - loss: 0.3970 - acc: 0.8342\n",
      "Epoch 38/100\n",
      "8000/8000 [==============================] - 1s 166us/step - loss: 0.3968 - acc: 0.8357\n",
      "Epoch 39/100\n",
      "8000/8000 [==============================] - 1s 168us/step - loss: 0.3967 - acc: 0.8360\n",
      "Epoch 40/100\n",
      "8000/8000 [==============================] - 1s 176us/step - loss: 0.3971 - acc: 0.8364\n",
      "Epoch 41/100\n",
      "8000/8000 [==============================] - 1s 171us/step - loss: 0.3967 - acc: 0.8365\n",
      "Epoch 42/100\n",
      "8000/8000 [==============================] - 1s 170us/step - loss: 0.3963 - acc: 0.8365\n",
      "Epoch 43/100\n",
      "8000/8000 [==============================] - 1s 176us/step - loss: 0.3963 - acc: 0.8356\n",
      "Epoch 44/100\n",
      "8000/8000 [==============================] - 1s 174us/step - loss: 0.3963 - acc: 0.8371\n",
      "Epoch 45/100\n",
      "8000/8000 [==============================] - 1s 170us/step - loss: 0.3962 - acc: 0.8359\n",
      "Epoch 46/100\n",
      "8000/8000 [==============================] - 1s 176us/step - loss: 0.3959 - acc: 0.8360\n",
      "Epoch 47/100\n",
      "8000/8000 [==============================] - 1s 170us/step - loss: 0.3955 - acc: 0.8380\n",
      "Epoch 48/100\n",
      "8000/8000 [==============================] - 1s 172us/step - loss: 0.3955 - acc: 0.8369\n",
      "Epoch 49/100\n",
      "8000/8000 [==============================] - 1s 171us/step - loss: 0.3956 - acc: 0.8376\n",
      "Epoch 50/100\n",
      "8000/8000 [==============================] - 1s 172us/step - loss: 0.3952 - acc: 0.8361\n",
      "Epoch 51/100\n",
      "8000/8000 [==============================] - 1s 175us/step - loss: 0.3956 - acc: 0.8372\n",
      "Epoch 52/100\n",
      "8000/8000 [==============================] - 1s 177us/step - loss: 0.3948 - acc: 0.8369\n",
      "Epoch 53/100\n",
      "8000/8000 [==============================] - 1s 178us/step - loss: 0.3951 - acc: 0.8365\n",
      "Epoch 54/100\n",
      "8000/8000 [==============================] - 1s 180us/step - loss: 0.3949 - acc: 0.8371\n",
      "Epoch 55/100\n",
      "8000/8000 [==============================] - 1s 177us/step - loss: 0.3947 - acc: 0.8364\n",
      "Epoch 56/100\n",
      "8000/8000 [==============================] - 1s 176us/step - loss: 0.3946 - acc: 0.8375 1s - \n",
      "Epoch 57/100\n",
      "8000/8000 [==============================] - 1s 176us/step - loss: 0.3944 - acc: 0.8380\n",
      "Epoch 58/100\n",
      "8000/8000 [==============================] - 1s 176us/step - loss: 0.3943 - acc: 0.8371\n",
      "Epoch 59/100\n",
      "8000/8000 [==============================] - 1s 178us/step - loss: 0.3942 - acc: 0.8370\n",
      "Epoch 60/100\n",
      "8000/8000 [==============================] - 1s 168us/step - loss: 0.3939 - acc: 0.8362\n",
      "Epoch 61/100\n",
      "8000/8000 [==============================] - 1s 172us/step - loss: 0.3944 - acc: 0.8367\n",
      "Epoch 62/100\n",
      "8000/8000 [==============================] - 1s 173us/step - loss: 0.3935 - acc: 0.8372\n",
      "Epoch 63/100\n",
      "8000/8000 [==============================] - 1s 171us/step - loss: 0.3943 - acc: 0.8367\n",
      "Epoch 64/100\n",
      "8000/8000 [==============================] - 1s 172us/step - loss: 0.3934 - acc: 0.8372\n",
      "Epoch 65/100\n",
      "8000/8000 [==============================] - 1s 170us/step - loss: 0.3942 - acc: 0.8359\n",
      "Epoch 66/100\n",
      "8000/8000 [==============================] - 1s 176us/step - loss: 0.3942 - acc: 0.8361\n",
      "Epoch 67/100\n",
      "8000/8000 [==============================] - 2s 188us/step - loss: 0.3937 - acc: 0.8371\n",
      "Epoch 68/100\n",
      "8000/8000 [==============================] - 1s 171us/step - loss: 0.3937 - acc: 0.8357\n",
      "Epoch 69/100\n",
      "8000/8000 [==============================] - 1s 178us/step - loss: 0.3933 - acc: 0.8357\n",
      "Epoch 70/100\n",
      "8000/8000 [==============================] - 1s 175us/step - loss: 0.3934 - acc: 0.8369\n",
      "Epoch 71/100\n",
      "8000/8000 [==============================] - 1s 173us/step - loss: 0.3927 - acc: 0.8369\n",
      "Epoch 72/100\n",
      "8000/8000 [==============================] - 1s 178us/step - loss: 0.3920 - acc: 0.8374\n",
      "Epoch 73/100\n",
      "8000/8000 [==============================] - 1s 179us/step - loss: 0.3914 - acc: 0.8370\n",
      "Epoch 74/100\n",
      "8000/8000 [==============================] - 1s 176us/step - loss: 0.3902 - acc: 0.8386\n",
      "Epoch 75/100\n",
      "8000/8000 [==============================] - 1s 173us/step - loss: 0.3877 - acc: 0.8392\n",
      "Epoch 76/100\n",
      "8000/8000 [==============================] - 1s 173us/step - loss: 0.3814 - acc: 0.8456\n",
      "Epoch 77/100\n",
      "8000/8000 [==============================] - 1s 181us/step - loss: 0.3685 - acc: 0.8515\n",
      "Epoch 78/100\n",
      "8000/8000 [==============================] - 1s 173us/step - loss: 0.3535 - acc: 0.8559\n",
      "Epoch 79/100\n",
      "8000/8000 [==============================] - 1s 172us/step - loss: 0.3479 - acc: 0.8575\n",
      "Epoch 80/100\n",
      "8000/8000 [==============================] - 1s 175us/step - loss: 0.3451 - acc: 0.8592\n",
      "Epoch 81/100\n",
      "8000/8000 [==============================] - 1s 170us/step - loss: 0.3438 - acc: 0.8590\n",
      "Epoch 82/100\n"
     ]
    },
    {
     "name": "stdout",
     "output_type": "stream",
     "text": [
      "8000/8000 [==============================] - 1s 163us/step - loss: 0.3430 - acc: 0.8596\n",
      "Epoch 83/100\n",
      "8000/8000 [==============================] - 1s 160us/step - loss: 0.3427 - acc: 0.8604\n",
      "Epoch 84/100\n",
      "8000/8000 [==============================] - 1s 163us/step - loss: 0.3424 - acc: 0.8602\n",
      "Epoch 85/100\n",
      "8000/8000 [==============================] - 1s 164us/step - loss: 0.3416 - acc: 0.8617\n",
      "Epoch 86/100\n",
      "8000/8000 [==============================] - 1s 164us/step - loss: 0.3416 - acc: 0.8606\n",
      "Epoch 87/100\n",
      "8000/8000 [==============================] - 1s 161us/step - loss: 0.3412 - acc: 0.8617\n",
      "Epoch 88/100\n",
      "8000/8000 [==============================] - 1s 163us/step - loss: 0.3409 - acc: 0.8614\n",
      "Epoch 89/100\n",
      "8000/8000 [==============================] - 1s 160us/step - loss: 0.3413 - acc: 0.8617\n",
      "Epoch 90/100\n",
      "8000/8000 [==============================] - 2s 239us/step - loss: 0.3404 - acc: 0.8629\n",
      "Epoch 91/100\n",
      "8000/8000 [==============================] - 2s 203us/step - loss: 0.3409 - acc: 0.8611\n",
      "Epoch 92/100\n",
      "8000/8000 [==============================] - 2s 194us/step - loss: 0.3407 - acc: 0.8627\n",
      "Epoch 93/100\n",
      "8000/8000 [==============================] - 2s 220us/step - loss: 0.3406 - acc: 0.8611\n",
      "Epoch 94/100\n",
      "8000/8000 [==============================] - 2s 300us/step - loss: 0.3402 - acc: 0.8625\n",
      "Epoch 95/100\n",
      "8000/8000 [==============================] - 2s 235us/step - loss: 0.3407 - acc: 0.8601\n",
      "Epoch 96/100\n",
      "8000/8000 [==============================] - 2s 247us/step - loss: 0.3397 - acc: 0.8616\n",
      "Epoch 97/100\n",
      "8000/8000 [==============================] - 2s 240us/step - loss: 0.3401 - acc: 0.8621\n",
      "Epoch 98/100\n",
      "8000/8000 [==============================] - 2s 206us/step - loss: 0.3401 - acc: 0.8616\n",
      "Epoch 99/100\n",
      "8000/8000 [==============================] - 1s 185us/step - loss: 0.3405 - acc: 0.8619\n",
      "Epoch 100/100\n",
      "8000/8000 [==============================] - 1s 183us/step - loss: 0.3399 - acc: 0.8605\n"
     ]
    },
    {
     "data": {
      "text/plain": [
       "<keras.callbacks.History at 0x1a1627a400>"
      ]
     },
     "execution_count": 58,
     "metadata": {},
     "output_type": "execute_result"
    }
   ],
   "source": [
    "# Fit the model in the training set\n",
    "# our batch size is 10 meaning we will be training 10 of the together (using the average) for \n",
    "# all the points 100 times!\n",
    "\n",
    "classifier.fit(X_train, y_train, batch_size=10, epochs=100)"
   ]
  },
  {
   "cell_type": "code",
   "execution_count": 59,
   "metadata": {
    "collapsed": true
   },
   "outputs": [],
   "source": [
    "y_pred = classifier.predict(X_test)\n",
    "y_pred = (y_pred > 0.5)"
   ]
  },
  {
   "cell_type": "code",
   "execution_count": 60,
   "metadata": {},
   "outputs": [
    {
     "data": {
      "text/plain": [
       "array([[1520,   75],\n",
       "       [ 195,  210]])"
      ]
     },
     "execution_count": 60,
     "metadata": {},
     "output_type": "execute_result"
    }
   ],
   "source": [
    "from sklearn.metrics import confusion_matrix\n",
    "cm = confusion_matrix(y_test, y_pred)\n",
    "cm"
   ]
  },
  {
   "cell_type": "code",
   "execution_count": 61,
   "metadata": {},
   "outputs": [
    {
     "name": "stdout",
     "output_type": "stream",
     "text": [
      "true pos: 210\n",
      "false pos: 75\n",
      "true neg: 1520\n",
      "false neg: 195\n",
      "\n",
      "\n",
      "Out of 2000 reviews, the model got 1730 correct,\n",
      "Accuacy is: 0.86%\n",
      "Precision is: 0.74%\n",
      "Recall is: 0.52%\n",
      "F1 Score is: 0.61%\n"
     ]
    }
   ],
   "source": [
    "cm = confusion_matrix(y_test, y_pred)\n",
    "tn, fp, fn, tp = cm.ravel()\n",
    "\n",
    "total = tn+fp+fn+tp\n",
    "accuracy = (tn+tp)/total\n",
    "precision = tp/(tp+fp)\n",
    "recall = tp/(tp+fn)\n",
    "f1_score = 2*precision*recall/(precision+recall)\n",
    "\n",
    "\n",
    "print(\n",
    "    \"true pos: {0}\\n\"\n",
    "    \"false pos: {1}\\n\"\n",
    "    \"true neg: {2}\\n\"\n",
    "    \"false neg: {3}\\n\".format(tp, fp, tn, fn))\n",
    "\n",
    "print(\"\"\"\n",
    "Out of {0} reviews, the model got {1} correct,\n",
    "Accuacy is: {2:.2f}%\n",
    "Precision is: {3:.2f}%\n",
    "Recall is: {4:.2f}%\n",
    "F1 Score is: {5:.2f}%\"\"\".format(total, tn+tp, accuracy, precision, recall, f1_score))"
   ]
  },
  {
   "cell_type": "code",
   "execution_count": 62,
   "metadata": {},
   "outputs": [
    {
     "ename": "TypeError",
     "evalue": "'builtin_function_or_method' object is not subscriptable",
     "output_type": "error",
     "traceback": [
      "\u001b[0;31m---------------------------------------------------------------------------\u001b[0m",
      "\u001b[0;31mTypeError\u001b[0m                                 Traceback (most recent call last)",
      "\u001b[0;32m<ipython-input-62-001b0c186244>\u001b[0m in \u001b[0;36m<module>\u001b[0;34m()\u001b[0m\n\u001b[1;32m     12\u001b[0m \u001b[0mEstimated\u001b[0m \u001b[0mSalary\u001b[0m \u001b[0;34m=\u001b[0m \u001b[0;36m50000\u001b[0m\u001b[0;34m\u001b[0m\u001b[0m\n\u001b[1;32m     13\u001b[0m \"\"\"\n\u001b[0;32m---> 14\u001b[0;31m \u001b[0mnew_pred\u001b[0m \u001b[0;34m=\u001b[0m \u001b[0mclassifier\u001b[0m\u001b[0;34m.\u001b[0m\u001b[0mpredict\u001b[0m\u001b[0;34m(\u001b[0m\u001b[0mnp\u001b[0m\u001b[0;34m.\u001b[0m\u001b[0marray\u001b[0m\u001b[0;34m[\u001b[0m\u001b[0;34m[\u001b[0m\u001b[0;34m]\u001b[0m\u001b[0;34m]\u001b[0m\u001b[0;34m)\u001b[0m\u001b[0;34m\u001b[0m\u001b[0m\n\u001b[0m",
      "\u001b[0;31mTypeError\u001b[0m: 'builtin_function_or_method' object is not subscriptable"
     ]
    }
   ],
   "source": [
    "\"\"\"\n",
    "Predict for:\n",
    "Geography = France\n",
    "Credit score = 600\n",
    "Gender = male\n",
    "Age = 4\n",
    "Tenure = 3\n",
    "Balance = 60000a\n",
    "# of Product = 2\n",
    "Has Credit Card = Yes\n",
    "Is Active Member = Yes\n",
    "Estimated Salary = 50000\n",
    "\"\"\"\n",
    "new_pred = classifier.predict(np.array[[]])"
   ]
  },
  {
   "cell_type": "code",
   "execution_count": null,
   "metadata": {},
   "outputs": [],
   "source": [
    "df.columns"
   ]
  },
  {
   "cell_type": "code",
   "execution_count": null,
   "metadata": {
    "collapsed": true
   },
   "outputs": [],
   "source": [
    "valdict = {'Geography'}\n",
    "DataFrame()"
   ]
  }
 ],
 "metadata": {
  "kernelspec": {
   "display_name": "Python 3",
   "language": "python",
   "name": "python3"
  },
  "language_info": {
   "codemirror_mode": {
    "name": "ipython",
    "version": 3
   },
   "file_extension": ".py",
   "mimetype": "text/x-python",
   "name": "python",
   "nbconvert_exporter": "python",
   "pygments_lexer": "ipython3",
   "version": "3.6.0"
  }
 },
 "nbformat": 4,
 "nbformat_minor": 2
}
