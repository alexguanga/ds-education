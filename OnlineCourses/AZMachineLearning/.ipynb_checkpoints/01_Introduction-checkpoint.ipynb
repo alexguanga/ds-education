{
 "cells": [
  {
   "cell_type": "markdown",
   "metadata": {},
   "source": [
    "# Section 1: Intro"
   ]
  },
  {
   "cell_type": "markdown",
   "metadata": {},
   "source": [
    "### Lecture 2: Why Machine Learning is the Future\n",
    "- One GB: you can fit the human genome in a one GB!\n",
    "- One TB: you can record for 80 years, every second of their life, it will fit in one TB!\n",
    "- One PB: petabytes, if you were able to chop down all the trees (700 billion) and put them in paper with words!\n",
    "- One EB: It's 1,000 PB (petabytes)\n",
    "\n",
    "- Timeline\n",
    "    - 2005: 130 Exabytes\n",
    "    - 2010: 1,200 Exabytes\n",
    "    - 2015: 7,900 Exabytes\n",
    "    - 2020: 40,9000 Exabytes"
   ]
  }
 ],
 "metadata": {
  "kernelspec": {
   "display_name": "Python 3",
   "language": "python",
   "name": "python3"
  },
  "language_info": {
   "codemirror_mode": {
    "name": "ipython",
    "version": 3
   },
   "file_extension": ".py",
   "mimetype": "text/x-python",
   "name": "python",
   "nbconvert_exporter": "python",
   "pygments_lexer": "ipython3",
   "version": "3.6.0"
  }
 },
 "nbformat": 4,
 "nbformat_minor": 2
}
