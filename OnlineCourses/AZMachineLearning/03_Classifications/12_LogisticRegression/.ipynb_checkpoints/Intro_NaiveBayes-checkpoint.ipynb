{
 "cells": [
  {
   "cell_type": "markdown",
   "metadata": {},
   "source": [
    "# Naive Bayes"
   ]
  },
  {
   "cell_type": "markdown",
   "metadata": {},
   "source": [
    "- You perform the bayes theorem for a new observation for each of the possible outcomes with the possible features\n",
    "- Thus, the one with the higher probabilty will be labeled its respective category\n",
    "- Example: Given that you have a certain salary and a certain age, what is the prob. that you will walk. You the compare it with the prob. that you do not walk.\n",
    "- Priori Prob, Posterior Prob, Marginal Likeelihood, Likelihood!"
   ]
  }
 ],
 "metadata": {
  "kernelspec": {
   "display_name": "Python 3",
   "language": "python",
   "name": "python3"
  },
  "language_info": {
   "codemirror_mode": {
    "name": "ipython",
    "version": 3
   },
   "file_extension": ".py",
   "mimetype": "text/x-python",
   "name": "python",
   "nbconvert_exporter": "python",
   "pygments_lexer": "ipython3",
   "version": "3.6.3"
  }
 },
 "nbformat": 4,
 "nbformat_minor": 2
}
