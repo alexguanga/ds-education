{
 "cells": [
  {
   "cell_type": "markdown",
   "metadata": {},
   "source": [
    "\n",
    "**The coefficient of determination, R2, is used to analyze how differences in one variable can be explained by a difference in a second variable.**\n",
    "- SSR: The \"regression sum of squares\" and quantifies how far the estimated sloped regression line is from the horizontal \"no relationship line,\" the sample mean.\n",
    "- SSE: The \"error sum of squares\" and quantifies how much the data points vary around the estimated regression line.\n",
    "- SSTO: The \"total sum of squares\" and quantifies how much the data points vary around their mean.\n",
    "     - Formula: 1 - (SSE/SSTO)\n"
   ]
  }
 ],
 "metadata": {
  "kernelspec": {
   "display_name": "Python 3",
   "language": "python",
   "name": "python3"
  },
  "language_info": {
   "codemirror_mode": {
    "name": "ipython",
    "version": 3
   },
   "file_extension": ".py",
   "mimetype": "text/x-python",
   "name": "python",
   "nbconvert_exporter": "python",
   "pygments_lexer": "ipython3",
   "version": "3.6.0"
  }
 },
 "nbformat": 4,
 "nbformat_minor": 2
}
