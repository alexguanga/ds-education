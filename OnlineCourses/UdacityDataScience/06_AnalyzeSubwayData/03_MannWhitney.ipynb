{
 "cells": [
  {
   "cell_type": "code",
   "execution_count": 8,
   "metadata": {
    "collapsed": false
   },
   "outputs": [
    {
     "data": {
      "text/plain": [
       "(1105.4463767458733, 1090.278780151855, 1924409167.0, 0.024940392294493356)"
      ]
     },
     "execution_count": 8,
     "metadata": {},
     "output_type": "execute_result"
    }
   ],
   "source": [
    "import numpy as np\n",
    "import scipy\n",
    "import scipy.stats\n",
    "import pandas\n",
    "\n",
    "def mann_whitney_plus_means(filename):\n",
    "    '''\n",
    "    This function will consume the turnstile_weather dataframe containing\n",
    "    our final turnstile weather data. \n",
    "    \n",
    "    You will want to take the means and run the Mann Whitney U-test on the \n",
    "    ENTRIESn_hourly column in the turnstile_weather dataframe.\n",
    "    \n",
    "    This function should return:\n",
    "        1) the mean of entries with rain\n",
    "        2) the mean of entries without rain\n",
    "        3) the Mann-Whitney U-statistic and p-value comparing the number of entries\n",
    "           with rain and the number of entries without rain\n",
    "    \n",
    "    You should feel free to use scipy's Mann-Whitney implementation, and you \n",
    "    might also find it useful to use numpy's mean function.\n",
    "    '''\n",
    "    turnstile_weather = pandas.read_csv(filename)\n",
    "    \n",
    "    rain = turnstile_weather['ENTRIESn_hourly'][turnstile_weather['rain'] == 1]\n",
    "    rain_mean = np.mean(rain)\n",
    "    \n",
    "    without_rain = turnstile_weather['ENTRIESn_hourly'][turnstile_weather['rain'] == 0]\n",
    "    without_rain_mean = np.mean(without_rain)\n",
    "        \n",
    "    U, p_value = scipy.stats.mannwhitneyu(rain, without_rain)\n",
    "   \n",
    "    \n",
    "    return rain_mean, without_rain_mean, U, p_value\n",
    "\n",
    "mann_whitney_plus_means('turnstile_data_master_with_weather.csv')"
   ]
  },
  {
   "cell_type": "code",
   "execution_count": null,
   "metadata": {
    "collapsed": true
   },
   "outputs": [],
   "source": []
  }
 ],
 "metadata": {
  "kernelspec": {
   "display_name": "Python 3",
   "language": "python",
   "name": "python3"
  },
  "language_info": {
   "codemirror_mode": {
    "name": "ipython",
    "version": 3
   },
   "file_extension": ".py",
   "mimetype": "text/x-python",
   "name": "python",
   "nbconvert_exporter": "python",
   "pygments_lexer": "ipython3",
   "version": "3.6.0"
  }
 },
 "nbformat": 4,
 "nbformat_minor": 2
}
