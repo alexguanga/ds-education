{
 "cells": [
  {
   "cell_type": "markdown",
   "metadata": {},
   "source": [
    "## Information\n",
    "- **Series** is the datastructure for a single column of a DataFrame, not only conceptually, but literally i.e. the data in a DataFrame is actually stored in memory as a collection of Series\n",
    "- **loc** loc works on LABELS of the index.\n",
    "    - Using s.loc[:3], this returns the value of the everything until the label is 3.\n",
    "- **iloc**: iloc works on the positions in the index (so it only takes integers).\n",
    "    - Thus, if the example is s.iloc[:3], it returns the first the three values\n",
    "- **ix**: \n",
    "     - ix usually tries to behave like loc but falls back to behaving like iloc if the label is not in the index.\n",
    "     - Works like the loc, where it looks for the actual value that is passed, but if there’s no value like that, it works like bloc where it uses the first x number of indexes.\n",
    "- numpy.dot:\n",
    "     - works like matrixes!"
   ]
  }
 ],
 "metadata": {
  "kernelspec": {
   "display_name": "Python 3",
   "language": "python",
   "name": "python3"
  },
  "language_info": {
   "codemirror_mode": {
    "name": "ipython",
    "version": 3
   },
   "file_extension": ".py",
   "mimetype": "text/x-python",
   "name": "python",
   "nbconvert_exporter": "python",
   "pygments_lexer": "ipython3",
   "version": "3.6.0"
  }
 },
 "nbformat": 4,
 "nbformat_minor": 2
}
