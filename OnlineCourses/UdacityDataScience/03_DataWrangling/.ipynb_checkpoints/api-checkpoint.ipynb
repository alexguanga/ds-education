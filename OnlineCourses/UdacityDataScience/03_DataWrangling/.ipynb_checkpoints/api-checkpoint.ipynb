{
 "cells": [
  {
   "cell_type": "code",
   "execution_count": null,
   "metadata": {
    "collapsed": true
   },
   "outputs": [],
   "source": [
    "import json\n",
    "import requests\n",
    "\n",
    "def api_get_request(url):\n",
    "    \n",
    "    data = requests.get(url).text # here, we get the request to get information from the url\n",
    "    data = json.loads(data) # Once we have the information, we store the data in json, which is similar to a dictionary\n",
    "    country = data['topartists']['artist'][0]['name'] # indexing to find the country\n",
    "    \n",
    "    return country # return the top artist in Spain\n"
   ]
  }
 ],
 "metadata": {
  "kernelspec": {
   "display_name": "Python 3",
   "language": "python",
   "name": "python3"
  },
  "language_info": {
   "codemirror_mode": {
    "name": "ipython",
    "version": 3
   },
   "file_extension": ".py",
   "mimetype": "text/x-python",
   "name": "python",
   "nbconvert_exporter": "python",
   "pygments_lexer": "ipython3",
   "version": "3.6.0"
  }
 },
 "nbformat": 4,
 "nbformat_minor": 2
}
