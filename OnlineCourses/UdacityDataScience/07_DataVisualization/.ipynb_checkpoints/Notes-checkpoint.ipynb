{
 "cells": [
  {
   "cell_type": "markdown",
   "metadata": {},
   "source": [
    "- Ranked by their accuracy: Position, Angle, Size, and Saturation\n",
    "- Data types: \n",
    "    - Numeric data: A measurement (e.g. height or weight) or count (e.g. HR or hits). Discrete: whole numbers and continous: any number within range\n",
    "    - Categorical data: Represent characteristics (e.g. position, team, hometeam). Can take on any numerical values but don't have any mathematic meaning. Ordinal data have categories with some order or rank\n",
    "    - Time-Series data: Data collected via repeated measurments over time. \n",
    "- LOESS Curve: Weighted regression. \n",
    "- Multivariate: Use additional encoding like size, color/saturation"
   ]
  }
 ],
 "metadata": {
  "kernelspec": {
   "display_name": "Python 3",
   "language": "python",
   "name": "python3"
  },
  "language_info": {
   "codemirror_mode": {
    "name": "ipython",
    "version": 3
   },
   "file_extension": ".py",
   "mimetype": "text/x-python",
   "name": "python",
   "nbconvert_exporter": "python",
   "pygments_lexer": "ipython3",
   "version": "3.6.0"
  }
 },
 "nbformat": 4,
 "nbformat_minor": 2
}
