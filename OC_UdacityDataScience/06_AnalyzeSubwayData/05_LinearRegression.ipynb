{
 "cells": [
  {
   "cell_type": "code",
   "execution_count": 2,
   "metadata": {
    "collapsed": true
   },
   "outputs": [],
   "source": [
    "import numpy as np\n",
    "import pandas\n",
    "\n",
    "def return_dataframe(filename):\n",
    "    df = pandas.read_csv(filename)\n",
    "    return df\n",
    "    "
   ]
  },
  {
   "cell_type": "code",
   "execution_count": 13,
   "metadata": {
    "collapsed": true
   },
   "outputs": [],
   "source": [
    "def normalize_features(df):\n",
    "    \"\"\"\n",
    "    Normalize the features in the data set.\n",
    "    \"\"\"\n",
    "    mu = df.mean()\n",
    "    sigma = df.std()\n",
    "    \n",
    "    if (sigma == 0).any():\n",
    "        raise Exception(\"One or more features had the same value for all samples, and thus could \" + \\\n",
    "                         \"not be normalized. Please do not include features with only a single value \" + \\\n",
    "                         \"in your model.\")\n",
    "    df_normalized = (df - df.mean()) / df.std()\n",
    "\n",
    "    return df_normalized, mu, sigma\n"
   ]
  },
  {
   "cell_type": "code",
   "execution_count": 4,
   "metadata": {
    "collapsed": true
   },
   "outputs": [],
   "source": [
    "def compute_cost(features, values, theta):\n",
    "    \"\"\"\n",
    "    Compute the cost function given a set of features / values, \n",
    "    and the values for our thetas.\n",
    "    \"\"\"\n",
    "    \n",
    "    m = len(values)\n",
    "    \n",
    "    # the actual formula: subracting the infromation from the predicted to the actual value\n",
    "    sum_of_square_errors = np.square(np.dot(features, theta) - values).sum()\n",
    "    cost = sum_of_square_errors / (2*m)\n",
    "\n",
    "    return cost"
   ]
  },
  {
   "cell_type": "code",
   "execution_count": 5,
   "metadata": {
    "collapsed": true
   },
   "outputs": [],
   "source": [
    "def gradient_descent(features, values, theta, alpha, num_iterations):\n",
    "    \"\"\"\n",
    "    Perform gradient descent given a data set with an arbitrary number of features.\n",
    "    \"\"\"\n",
    "    \n",
    "    m = len(values)\n",
    "    cost_history = []\n",
    "\n",
    "    for i in range(num_iterations):\n",
    "        pred_values = np.dot(features, theta)\n",
    "        theta = theta - alpha/m * np.dot((pred_values - values), features)\n",
    "        cost = compute_cost(features, values, theta)\n",
    "        cost_history.append(cost)\n",
    "    \n",
    "    return theta, pandas.Series(cost_history)"
   ]
  },
  {
   "cell_type": "code",
   "execution_count": 16,
   "metadata": {
    "collapsed": true
   },
   "outputs": [],
   "source": [
    "def calculate_r_squared(data, prediction):\n",
    "    SSE = ((data - predictions)**2).sum()\n",
    "    SSTO = ((data - np.mean(data))**2).sum()\n",
    "    r_squared = 1 - (SSE/SSTO)\n",
    "    return r_squared\n"
   ]
  },
  {
   "cell_type": "code",
   "execution_count": 19,
   "metadata": {
    "collapsed": false
   },
   "outputs": [
    {
     "name": "stdout",
     "output_type": "stream",
     "text": [
      "0            0.0\n",
      "1          217.0\n",
      "2          890.0\n",
      "3         2451.0\n",
      "4         4400.0\n",
      "5         3372.0\n",
      "6            0.0\n",
      "7           42.0\n",
      "8           50.0\n",
      "9          316.0\n",
      "10         633.0\n",
      "11         639.0\n",
      "12           0.0\n",
      "13           0.0\n",
      "14           0.0\n",
      "15           0.0\n",
      "16           0.0\n",
      "17           0.0\n",
      "18           0.0\n",
      "19           0.0\n",
      "20           0.0\n",
      "21           0.0\n",
      "22           0.0\n",
      "23           0.0\n",
      "24           0.0\n",
      "25           0.0\n",
      "26           1.0\n",
      "27           0.0\n",
      "28           0.0\n",
      "29           0.0\n",
      "           ...  \n",
      "131921       6.0\n",
      "131922     192.0\n",
      "131923     350.0\n",
      "131924      25.0\n",
      "131925       0.0\n",
      "131926      30.0\n",
      "131927     208.0\n",
      "131928     107.0\n",
      "131929     139.0\n",
      "131930     331.0\n",
      "131931     275.0\n",
      "131932     133.0\n",
      "131933       7.0\n",
      "131934     128.0\n",
      "131935     142.0\n",
      "131936       0.0\n",
      "131937     248.0\n",
      "131938      62.0\n",
      "131939     116.0\n",
      "131940      68.0\n",
      "131941       7.0\n",
      "131942      80.0\n",
      "131943     195.0\n",
      "131944      18.0\n",
      "131945       0.0\n",
      "131946      19.0\n",
      "131947     158.0\n",
      "131948      54.0\n",
      "131949      59.0\n",
      "131950     123.0\n",
      "Name: ENTRIESn_hourly, dtype: float64 [ 3379.34466358  3648.71075058  3918.07683757 ...,   856.38536737\n",
      "   856.38536737   856.38536737]\n"
     ]
    }
   ],
   "source": [
    "from ggplot import *\n",
    "\n",
    "\"\"\"\n",
    "In this question, you need to:\n",
    "1) implement the compute_cost() and gradient_descent() procedures\n",
    "2) Select features (in the predictions procedure) and make predictions.\n",
    "\n",
    "\"\"\"\n",
    "\n",
    "def predictions(filename):\n",
    "    '''\n",
    "    The NYC turnstile data is stored in a pandas dataframe called weather_turnstile.\n",
    "    Using the information stored in the dataframe, let's predict the ridership of\n",
    "    the NYC subway using linear regression with gradient descent.\n",
    "        \n",
    "    Your prediction should have a R^2 value of 0.40 or better.\n",
    "    You need to experiment using various input features contained in the dataframe. \n",
    "    We recommend that you don't use the EXITSn_hourly feature as an input to the \n",
    "    linear model because we cannot use it as a predictor: we cannot use exits \n",
    "    counts as a way to predict entry counts. \n",
    "    '''\n",
    "    df = return_dataframe(filename)\n",
    "    \n",
    "    # Select Features (try different features!)\n",
    "    features = df[['rain', 'precipi', 'Hour', 'meantempi']]\n",
    "    \n",
    "    # Add UNIT to features using dummy variables\n",
    "    dummy_units = pandas.get_dummies(df['UNIT'], prefix='unit')\n",
    "    features = features.join(dummy_units)\n",
    "    \n",
    "    # Values\n",
    "    values = df['ENTRIESn_hourly']\n",
    "    m = len(values)\n",
    "\n",
    "    features, mu, sigma = normalize_features(features)\n",
    "    features['ones'] = np.ones(m) # Add a column of 1s (y intercept)\n",
    "    \n",
    "    # Convert features and values to numpy arrays\n",
    "    features_array = np.array(features)\n",
    "    values_array = np.array(values)\n",
    "\n",
    "    # Set values for alpha, number of iterations.\n",
    "    alpha = 0.1 \n",
    "    num_iterations = 75 \n",
    "\n",
    "    # Initialize theta, perform gradient descent\n",
    "    theta_gradient_descent = np.zeros(len(features.columns))\n",
    "    theta_gradient_descent, cost_history = gradient_descent(features_array, \n",
    "                                                            values_array, \n",
    "                                                            theta_gradient_descent, \n",
    "                                                            alpha, \n",
    "                                                            num_iterations)\n",
    "        \n",
    "    predictions = np.dot(features_array, theta_gradient_descent)\n",
    "\n",
    "predictions('turnstile_data_master_with_weather.csv')\n"
   ]
  },
  {
   "cell_type": "code",
   "execution_count": null,
   "metadata": {
    "collapsed": true
   },
   "outputs": [],
   "source": []
  },
  {
   "cell_type": "code",
   "execution_count": null,
   "metadata": {
    "collapsed": true
   },
   "outputs": [],
   "source": []
  }
 ],
 "metadata": {
  "kernelspec": {
   "display_name": "Python 3",
   "language": "python",
   "name": "python3"
  },
  "language_info": {
   "codemirror_mode": {
    "name": "ipython",
    "version": 3
   },
   "file_extension": ".py",
   "mimetype": "text/x-python",
   "name": "python",
   "nbconvert_exporter": "python",
   "pygments_lexer": "ipython3",
   "version": "3.6.0"
  }
 },
 "nbformat": 4,
 "nbformat_minor": 2
}
