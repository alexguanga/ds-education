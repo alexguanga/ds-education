{
 "cells": [
  {
   "cell_type": "code",
   "execution_count": null,
   "metadata": {
    "collapsed": true
   },
   "outputs": [],
   "source": [
    "import pandas\n",
    "\n",
    "def add_full_name(path_to_csv, path_to_new_csv):\n",
    "\n",
    "    data = pandas.read_csv(path_to_csv)\n",
    "    data['nameFull'] = data['nameFirst'] + ' ' + data['nameLast']\n",
    "    data.to_csv(path_to_new_csv)\n",
    "\n",
    "if __name__ == \"__main__\":\n",
    "    path_to_csv = ''\n",
    "    path_to_new_csv = \"\"\n",
    "    add_full_name(path_to_csv, path_to_new_csv)\n"
   ]
  }
 ],
 "metadata": {
  "kernelspec": {
   "display_name": "Python 3",
   "language": "python",
   "name": "python3"
  },
  "language_info": {
   "codemirror_mode": {
    "name": "ipython",
    "version": 3
   },
   "file_extension": ".py",
   "mimetype": "text/x-python",
   "name": "python",
   "nbconvert_exporter": "python",
   "pygments_lexer": "ipython3",
   "version": "3.6.0"
  }
 },
 "nbformat": 4,
 "nbformat_minor": 2
}
