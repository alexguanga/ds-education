{
 "cells": [
  {
   "cell_type": "markdown",
   "metadata": {},
   "source": [
    "# AdWords Display Basics, Part II"
   ]
  },
  {
   "cell_type": "markdown",
   "metadata": {},
   "source": [
    "### Optimize your display campaign\n",
    "- Remember that different campaign might be more effective under new networks. It might be useful to create separate search and display campaigns to better manage budgets. \n",
    "- SEARCH\n",
    "    - The search network focused more on the expicit research. For example, someone might type a query, which is somehting that can be easily understood if its similar to the keywords.\n",
    "- DISPLAY\n",
    "    - In the display networks, marketers will use signals and influence to capture intent, such as past behavior. In this same example, you can reach people who have purchased products from your joke shop before, or who have recently browsed prank blogs.\n",
    "- Using both\n",
    "    - With both options selected, your ads will show on the Search Network first, and your remaining budget will be used to place the ads on the Display Network. \n",
    "\n",
    "- **When to optimize your campaign**\n",
    "    - IMAGE:GoogleADS2\n",
    "\n",
    "- **Fix a problem: No one is clicking**\n",
    "    - First things first — make sure your ad has a clear call to action that lets the user know why they should click your ad.\n",
    "    - Another factor to consider is creative burnout. Are users getting tired of seeing the same ad? Frequency capping is the Display Network’s solution to address creative burnout. It allows you to limit the number of times your ad appears to the same person (also called “unique viewer”). Frequency capping is unique to the Display Network, so you won’t find it on the Search Network.\n",
    "\n",
    "- **Fix a problem: High bounce rate**\n",
    "    - Google Analytics shows you what percentage of users who clicked your ad are leaving your site without exploring any further than the landing page — this is the definition of bounce rate. \n",
    "    - The good news: if you have a high clickthrough rate your ad is grabbing users’ attention and they are clicking.\n",
    "    - The bad news: if you have a high bounce rate, your landing page isn’t maintaining their interest.\n",
    "    - Ensure the landing page you are using in each ad directs users to the most relevant part of your site, not just the homepage. \n",
    "    - Upgrade your site to reduce the loading time. \n",
    "    - By comparing AdWords metrics like conversion rate side-by-side with Analytics metrics like bounce rate, pages/sessions, and average session duration, you can see which landing pages are driving the best results. "
   ]
  },
  {
   "cell_type": "markdown",
   "metadata": {},
   "source": [
    "### Adjust targeting to reach more people\n",
    "- **Adjust your targeting settings to find more customers**\n",
    "    - For each targeting method you choose in AdWords, you can select “Targeting” or \"Observations\". AdWords typically defaults to Targeting, but depending on your marketing goals, you might choose Observations to get reports on additional items without narrowing the reach of your ad group. With Targeting you may be narrowing the reach of your ads so they rarely show. \n",
    "    - If you want to hone in on a specific audience..\n",
    "        - Choose \"Targeting\" for control over where your ads appear because when you use Topic targeting on an ad group and add a remarketing list using Targeting, your ad will only show if the Topic matches AND the user is on your list. This helps hone in on a specific audience to drive sales.\n",
    "    -  You want to broaden the reach of your ads\n",
    "        - Choose “Observations” to reach more customers because if you use Topic targeting and add a remarketing list using Observations, your ad will show any time the Topic matches, with the option to change your bid for users on that list. You can bid more on certain audiences, like past customers.\n",
    "- **Drive conversions with auto-targeting**\n",
    "    - Conservative automation\n",
    "        - If you want additional traffic, consider enabling conservative automation.\n",
    "    - Aggressive automation\n",
    "        - If you want to get as many conversions as possible, and are comfortable with some variation, typically around +10 percent from your current cost per customer, let aggressive automation work its magic to find you new customers!\n",
    "        - Aggressive automation is unlocked on Display Network campaigns when you reach at least 15 conversions per month (with conversion tracking enabled).\n",
    "- **Choose where your ads show**\n",
    "    - Managed placements\n",
    "        - With managed placements, you can target particular placements and bid more aggressively for those slots. This ensures your ads show on sites that are driving the best results for your business.\n",
    "    - Campaign exclusions\n",
    "        - Just as you can use managed placements to target specific places to show your ads, you can also exclude types of placements where you don’t want your ads to show.\n",
    "- **Target mobile apps**\n",
    "    - Optimized campaign targeting\n",
    "        - With universal app campaigns, you promote your apps across Google’s top properties without having to design individual ads for each ad campaign.\n",
    "    - Automated targeting and bidding\n",
    "    - Two optimization options\n",
    "        - Universal app campaigns can be used to help you get more new users for your app and find users who are likely to complete in-app actions."
   ]
  },
  {
   "cell_type": "markdown",
   "metadata": {},
   "source": [
    "### Build effective creatives for your goals\n",
    "- **Control or efficiency?**\n",
    "    - Greater efficiency: To drive greater efficiency with Jo’s display campaign, he would take advantage of responsive ads, which automatically adjust to the available ad space. Responsive ads offer more flexibility with minimal set-up.\n",
    "        - Meaning that a lot of the ads will be taken control off from Google\n",
    "    - Greater control: Jo also takes his branding very seriously. If he has exact requirements for how his ads will show, it may be best to pair the responsive ads with our brand suitability controls or use standard image ads.\n",
    "        - Meaning that he will onl yhave ads that fir that specific requirement\n",
    "- **Design effective responsive ads**\n",
    "    - Tailor ads to the purchase funnel\n",
    "        - You’ll want to start by tailoring the display ads to the different stages of the purchase funnel\n",
    "    - Include unique selling points\n",
    "        - Make sure to include unique selling points, prices, and promotions, such as Jo’s upcoming back-to-school sale\n",
    "    - Write long, compelling headlines\n",
    "    - Write separate descriptions\n",
    "        - You’ll want to avoid duplicating messages by making your description text different from your headline.\n",
    "    - Use strong images\n",
    "        - It’s important that you choose images with a strong visual focus and without a text overlay. An image that is relevant and supports the main point of the ad is more likely to be clicked on.\n",
    "- **Ensure high-performance image ads**\n",
    "    - Size properly: You’ll need to upload your standard image ads in high-definition (HD) sizes. \n",
    "    - Get interactive: You can use HTML5 to bring ads to life with interactive or animated elements. \n",
    "    - Match messages: You’ll also want to ensure the message on Jo’s landing page matches the message in his ads. \n",
    "- **Test and optimize your ads**\n",
    "    - Create multiple ad variations in your high-volume ad groups using different messages and images. \n",
    "    - Don’t forget lessons learned from earlier ad optimizations.\n",
    "    - Rotate in fresh display ads every few weeks to prevent people from developing ad fatigue. Even great ads can become less effective over time."
   ]
  },
  {
   "cell_type": "markdown",
   "metadata": {},
   "source": [
    "### Tailor ads with dynamic remarketing\n",
    "- Dynamic remarketing links the products the user had seen on your website with the products in your feed. Our recommendation engine will connect this data to suggest the products most likely to drive sales.\n",
    "- **How it works**\n",
    "    - Dynamic remarketing delivers relevant ads to specific segments of your audience. While a user is shopping, she'll see the exact product she was researching on your site. At the same time, we can automatically recommend other products in your ads that she is likely to consider.\n",
    "- **Best practices for dynamic remarketing**\n",
    "    - Use automated bidding\n",
    "    - Tag and target as much of your site as possible\n",
    "        - Tag and target at least the product/item, cart, and conversion pages of your site.\n",
    "    - Make sure your feed is as complete as possible\n",
    "    - Make sure that the dynamic remarketing campaign follows the settings’ best practice\n"
   ]
  },
  {
   "cell_type": "markdown",
   "metadata": {},
   "source": [
    "---"
   ]
  },
  {
   "cell_type": "markdown",
   "metadata": {},
   "source": [
    "- AdSense: \n",
    "- The DoubleClick Ad Exchange:\n",
    "- DoubleClick Studio\n",
    "- Similar Audience: The \"Similar audiences\" targeting option helps you find people who share characteristics with your site visitors. By adding \"similar audiences\" to your ad group, you can show your ads to people whose interests are similar to those of your site visitors, which allows you to reach new and qualified potential customers.\n",
    "\n"
   ]
  }
 ],
 "metadata": {
  "kernelspec": {
   "display_name": "Python 3",
   "language": "python",
   "name": "python3"
  },
  "language_info": {
   "codemirror_mode": {
    "name": "ipython",
    "version": 3
   },
   "file_extension": ".py",
   "mimetype": "text/x-python",
   "name": "python",
   "nbconvert_exporter": "python",
   "pygments_lexer": "ipython3",
   "version": "3.6.0"
  }
 },
 "nbformat": 4,
 "nbformat_minor": 2
}
