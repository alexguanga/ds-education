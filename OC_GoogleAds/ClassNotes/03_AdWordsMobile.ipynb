{
 "cells": [
  {
   "cell_type": "markdown",
   "metadata": {},
   "source": [
    "# AdWords Mobile"
   ]
  },
  {
   "cell_type": "markdown",
   "metadata": {},
   "source": [
    "### Drive your business with mobile\n",
    "\n",
    "- Mobile Opportunities\n",
    "    - I-want-to-know moments\n",
    "        - Your consumer is exploring or researching, but not yet in purchase mode. They want useful information and maybe even inspiration, but not the hard sell.\n",
    "        - 66 percent of smartphone users turn to their smartphones to learn more about something they saw in a TV commercial.\n",
    "    - I-want-to-go moments\n",
    "        - People are looking for a local business or considering going to a local store for a product. Getting your physical business in their consideration right in that moment is critical.\n",
    "        - “Near me” searches have doubled and 82 percent of smartphone users say they use search to find local businesses.\n",
    "    - I-want-to-buy moments\n",
    "        - Someone is ready to make a purchase and could use some help deciding what or how to buy. You can’t assume they’ll seek you out, so be there with the right information and you may just seal the deal.\n",
    "        - 82 percent of smartphone users consult their phone while in a store.\n",
    "    -  I-want-to-do moments\n",
    "        - These are the “how to” moments when people want help with getting things done or trying something new.\n",
    "        - Searches related to “how to” on YouTube are growing 70% year-over-year.\n",
    "- Every mobile search provides signals about the customer's intent and how to offer valuable help.\n",
    "- And it's on mobile, so you get customer context too: time, location, and proximity.\n",
    "- There were more than a trillion searches in 2016. And over half were on mobile\n",
    "- And what those searchers did shows the true value of mobile: app downloads, calls, store visits, and conversions across devices and on mobile alone.\n",
    "- **Checkpoint**\n",
    "    - The most effective message and call-to-action can vary dramatically depending on the viewer’s time, location, and proximity. And this is exactly the context that mobile makes available to businesses.\n",
    "- **MOBILE Complexities**\n",
    "    - Mobile can touch so many points: app downloads, calls, store visits, cross-device conversions, and mobile conversions. \n",
    "- **Guidelines for capturing mobile’s impact**\n",
    "    - Traditional digital key performance indicators (KPIs) like cost per acquisition (CPA) and return on ad spend (ROAS) can’t fully capture mobile's impact on the customer journey. \n",
    "    - Full value of mobile goes beyond the last click."
   ]
  },
  {
   "cell_type": "markdown",
   "metadata": {},
   "source": [
    "### Do you want a mobile site or app?\n",
    "\n",
    "- **Mobile sites**\n",
    "    - Websites built for mobile devices\n",
    "    - Work on all devices and can be accessed by a wider audience\n",
    "- **Mobile apps**\n",
    "    - Native applications that must be downloaded and installed on mobile devices\n",
    "    - Useful for deeper re-engagement with existing customers    \n",
    "- The reason you would have to build a mobile specific design is that user on mobile are on the go. Hence, the need something that is easy to navigate. If the design cannot capture the ease of use, then it's more than likely that they would need use the device. Thus, building a product that can help people have an easier time is the way to go. \n",
    "- **MOBILE SITE VS. MOBILE APP**\n",
    "    - Mobile Sites:\n",
    "        - Easy to discover, its cheaper to create, all user will have the last update, it can be easy to track and see the performance, there's less effort because you do not need the apporval of iOS, etc. \n",
    "        - Good for acquiring new customers. \n",
    "    - Mobile Apps:\n",
    "        - It is not easy to discover, its more costly, user must update it by themselves, more effort is required to track analytics, and requires more approvals.\n",
    "        - Good for existing users.\n",
    "- Mobile apps can be good for long-term customers\n",
    "- However, the line is getting blurry between the differences."
   ]
  },
  {
   "cell_type": "markdown",
   "metadata": {},
   "source": [
    "### Design great mobile sites\n",
    "- **A lot of mobile sites are just awful — is yours?**\n",
    "    - https://www.google.com/webmasters/tools/mobile-friendly/\n",
    "- **How to make your mobile site user-friendly**\n",
    "    - Easy navigation, Easy search, Easy conversions, Easy forms, Easy on mobile\n",
    "- **EASY TO NAVIGATE**\n",
    "    - Keep calls-to-action front and center because a mobiel can be a small device and it can be easy to move the purpose of the app\n",
    "    - Keep menus short, sweet — and distinct. Present few and important options.\n",
    "    - Make it easy to get back to the homepage — use the logo\n",
    "    - Don’t let promotions steal the show or else people would forget the purpose of them coming to your website\n",
    "- **EASY TO SEARCH**\n",
    "    - Put your search in a text box at the top\n",
    "    - Ensure site search results are relevant because people are not going to swipe to page 2.\n",
    "    - Offer search filters to bring the most relevant results\n",
    "    - Guide users to better site search results. For example, if you are a large corporations, make sure to filter out some result in the begininng.\n",
    "- ** EASY CONVERSIONS**\n",
    "    - Let users explore before asking them to commit. Do not be to in-top of the customers. They will not come back to the sites.\n",
    "    - Let users purchase as a guest\n",
    "    - Pre-fill fields with existing information\n",
    "    - Provide click-to-call buttons for complex tasks\n",
    "    - Make it easy to finish converting on another device like letting users fill the form with their social media accounts\n",
    "- ** EASY FORMS**\n",
    "    - Add features that make form entry easier like using number pads to fill phone numbers instead of trying to figure out \n",
    "    - Offer the simplest input method for each task\n",
    "    - Provide a visual calendar for selecting dates\n",
    "    - Label forms clearly and error-check entries immediately so they can avoid mistakes and filling the application all over again\n",
    "    - Make forms fast and efficient for users. Break down the parts (like education, address, etc.)\n",
    "- **EASY ON MOBILE**\n",
    "    - Optimize your entire site for mobile\n",
    "    - Don’t make users pinch and zoom\n",
    "    - Make product images expandable. They want to see the entire image.\n",
    "    - Tell users which screen orientation works best\n",
    "    - Keep your user in a single browser window because it can be cumbersome since people are less likely to navigate back\n",
    "    - Say “desktop site” instead of “full site”\n",
    "    - Be clear on why you need a user’s location\n",
    "\n",
    "- ** The importance of being fast**\n",
    "    - 40 percent of consumers will leave a page that takes longer than three seconds to load, and 79 percent of shoppers say they’re less likely to purchase from a site again when they’re dissatisfied with its performance. A single second of extra load time can lose customers and result in less revenue for businesses.\n",
    "\n",
    "- **Can your mobile site be faster?**\n",
    "    - https://developers.google.com/speed/pagespeed/insights/\n",
    "\n",
    "- **How do I make my mobile site faster?**\n",
    "    - AMP is a set of technical best practices for building mobile web pages that helps ensure optimal mobile page speed. See the link at the end of this training to harness these guidelines. "
   ]
  },
  {
   "cell_type": "markdown",
   "metadata": {},
   "source": [
    "### Design great mobile apps\n",
    "\n",
    "- **How to make a great and effective mobile app**\n",
    "    - App navigation and exploration, In-app search, Commerce and conversions, Registration, Form entry, Usability and comprehension\n",
    "- **App navigation and exploration**\n",
    "    - Show the value of your app up front\n",
    "    - Organize and label menu categories to be user-friendly\n",
    "    - Allow users to “go back” easily in one step\n",
    "    - Make it easy to manually change location\n",
    "    - Create frictionless transitions between apps and the mobile web. Hence, make the website appear in the website.\n",
    "- **In-app search**\n",
    "    - Prominently display the search field\n",
    "    - Use effective search indexing or make useful suggestions\n",
    "    - Provide filter and sort options\n",
    "- **Commerce and conversions**\n",
    "    - Provide previous search and purchase information as recent searches\n",
    "    - Allow user reviews to be viewed and filtered in multiple ways\n",
    "    - Enable comparison shopping features\n",
    "    - Provide multiple third-party payment options\n",
    "    - Make it easy to add and manage payment methods\n",
    "- **Registration**\n",
    "    - Provide clear utility before asking users to register. Make sure you are transparent with the user.\n",
    "    - Differentiate “sign in” from “sign up”\n",
    "    - Make password authentication frictionless\n",
    "- **Form entry**\n",
    "    - Build user-friendly forms\n",
    "    - Communicate form errors in real time\n",
    "    - Match the keyboard with required text inputs\n",
    "    - Provide helpful information in context in forms like that a phone will be kept for confidential purposes\n",
    "- **Usability and comprehension**\n",
    "    - Use the same language as your users\n",
    "    - Provide text labels to clarify visual information because sometimes labels can be unclear and the user does not know what they are naviagating to.\n",
    "    - Be responsive with visual feedback after significant actions so the user can know if they are doing something correctly\n",
    "    - Provide user control for zooming on images\n",
    "    - Ask for permissions in context like using people's location\n",
    "- **Search and Display Network features that can help with mobile**\n",
    "    - Call extensions: Call extensions put your phone number in your ad so viewers can click to start a call with you or just jump to your site. Call-only ads let viewers press to call you as well, but they don’t include a link to your site. This is a go-to feature for advertisers who want to promote calls rather than engagement with their mobile site. \n",
    "    - Location extensions: Location extensions can display your business information, like name, address, and phone number with your ad.\n",
    "    - App extensions: Include an app extension in your mobile ad so mobile viewers will be able to install your mobile app easily by clicking the ad’s headline or hyperlink.\n",
    "    - Sitelink extensions: Sitelink extensions give you the opportunity to append various links along with your ad so viewers can directly visit specific pages on your mobile site. \n",
    "    - Callout ad extensions: The callout ad extension helps you show your business’ added value with your ads.\n",
    "    - Structured snippet extensions: Structured snippets are extensions that highlight specific aspects of your products and services. \n",
    "- **Search formats that can help with mobile**\n",
    "    - RLSAs let you customize your search ads campaign for people who have previously visited your site.\n",
    "    - AdWords Shopping ads show mobile users an image of your product with its title, price, and your store name. This allows searchers to review your product before clicking on your ad, meaning those that do click through to your site are typically highly qualified.\n",
    "    - Promotion extensions allow users to view your sales, discounts, or promotions directly from your mobile search ads.\n",
    "    - Message extensions allow users to send your business a text message directly from your mobile search ads.\n",
    "- **Display Network formats that can help with mobile**\n",
    "    - Responsive ads dynamically adjust their size, appearance, and format to fit in just about any available ad space, eliminating the need to build a variation for every screen.\n",
    "    - When viewers press a Lightbox ad on a mobile browser or app, the ad expands to fill the screen.\n",
    "- **Universal app campaigns that run across Search, Display, and YouTube**\n",
    "    - Universal app campaigns run across Search, Display, and YouTube and make it easy to promote your Android or iOS apps across Google’s top properties. Just add a few lines of text, a bid, and optional creatives and the rest is optimized to help your users find you."
   ]
  },
  {
   "cell_type": "markdown",
   "metadata": {},
   "source": [
    "### Target and bid for mobile ad placements\n",
    "- **Targeting mobile ad placements**\n",
    "    - AdWords mobile advertisers can target their ads by location, time, and device to reach mobile users in their moments of need. \n",
    "- **Location targeting**\n",
    "    - Mobile signals tell when consumers have a need and the context of where this need is located. AdWords location targeting enables us to use these signals and context to deliver mobile ads in those moments.\n",
    "- **Ad scheduling**\n",
    "    - AdWords ads can show any time by default, but you can also serve them at specific times. For example, if you're advertising for a restaurant that is only open from 11 a.m.-11 p.m., you may want to create ads promoting a walk-in discount that will only show during the 11 a.m.-11 p.m. timeframe. \n",
    "- **Device targeting**\n",
    "    - For Display campaigns, you can target ads to specific device types, operating systems, models, and ad inventory, as well as carriers and wireless networks. \n",
    "- **Bidding to win mobile ad placements**\n",
    "    - You’re more likely to gain impressions and clicks when they appear at the top of the mobile search engine result pages (SERPs), and your bids play a crucial role in your ad rank. \n",
    "- **Adjust bids by device manually** \n",
    "    - Mobile ad views are often worth more to you for particular devices, locations, or times, so AdWords lets you adjust your bids to be visible when customers are looking for you. \n",
    "- **Call bid adjustments**\n",
    "    - Call bid adjustments help drive more calls by setting a bid multiplier on call clicks. You can bid higher or lower on call clicks and determine how much you are willing to pay for a call versus a standard click.\n",
    "    - We want to make sure our call button shows whenever it’s eligible, so we’ll use Google’s “Interaction coverage” metric to see the percent of times our ads showed with a call button\n",
    "    -  If our Interaction coverage score is low, we’ll know that we should use a call bid adjustment to increase the amount our call button displays.\n",
    "- **Automated Smart Bidding adjustments**\n",
    "    - AdWords automated bidding — called “Smart Bidding”— is for advertisers who want to save time managing bids.\n",
    "    - Automated bidding signals can include not just device, location, and ad schedule, but also things like remarketing lists, language, search query text, the ad’s site placement, viewer demographics, season, and more. \n",
    "    - Smart Bidding is a set of conversion-based bid strategies — Target cost per acquisition (tCPA), Target return on ad spend (tROAS) and Enhanced cost per click (eCPC)\n",
    "    - We recommend that advertisers have at least 30 conversions in the past 30 days before using Target CPA. We recommend 50 conversions in the past 30 days for Target ROAS.\n",
    "- **What were those Smart Bidding strategies again?**\n",
    "    - **Target cost-per-acquisition** \n",
    "        - bidding has AdWords set bids to help get as many conversions as possible at the target cost per acquisition you set.\n",
    "    - **eCPC bidding**\n",
    "        - Enhanced cost-per-click bidding looks for ad auctions that are more likely to lead to conversions and raises your max manual bid to compete harder for them. \n",
    "        - If a click seems less likely to convert, eCPC will automatically lower your bid by as much as 100 percent.\n",
    "    - **Target ROAS bidding**\n",
    "        - Target return-on-ad-spend bidding automatically sets your bids to maximize your conversion value while trying to reach an average return on ad spend."
   ]
  },
  {
   "cell_type": "markdown",
   "metadata": {},
   "source": [
    "### Drive calls with mobile campaigns\n",
    "- **Why phone calls are important **\n",
    "    - Calls are an opportunity to deliver a level of service that sites and apps can’t necessarily offer. And it’s a level of service that customers have demonstrated they want and respond to. \n",
    "- **Two ways to drive calls to your business**\n",
    "    - Call-only ads make our strongest pitch for mobile users to call from their smartphones when they search. They’re simple ads with a specific purpose of driving calls. Call-only ads only appear on mobile devices people can call from.\n",
    "    - Call extensions give this option more subtly — they give users the option of calling from the ad or clicking through to the website.\n",
    "- **How AdWords tracks the results from call ads **\n",
    "    - You can  use conversion tracking to track the value that calls from your ads are driving by counting the calls that lasted over a certain call duration as conversions. \n",
    "    - You can define the minimum call length that would be counted as a call conversion (default is 60 seconds)."
   ]
  },
  {
   "cell_type": "markdown",
   "metadata": {},
   "source": [
    "### Drive store traffic with mobile\n",
    "- ** Why store traffic is important for mobile advertisers**\n",
    "    - Ninety percent of retail sales still occur in physical stores, and people turn to their smartphones to find stores that offer what they need, confirm availability in stock, check operating hours, and much more.\n",
    "- Step 1: Show your business locations with Google My Business \n",
    "- Step 2: Add location extensions to your mobile ads \n",
    "- Step 3: Target ads to customers near you\n",
    "- Step 4: Show ads during your hours of operation"
   ]
  },
  {
   "cell_type": "markdown",
   "metadata": {},
   "source": [
    "### Measure and optimize across devices \n",
    "- Which attribution model can calculate the actual contribution of every keyword in your account and optimize for the best performing ones across the conversion path ?\n",
    "    - Data-driven: Data-driven attribution uses sophisticated algorithms with your performance data to determine which ad clicks are most critical for your conversions\n",
    "    - Position-based: 40 percent of credit to both first- and last-clicked ads and corresponding keywords, remaining 20 percent spread out across the other clicks on the path\n",
    "    - Time decay: More credit to clicks that happened closer in time to the conversion\n",
    "    - Linear: Credit for the conversion is shared equally across all clicks on the path \n",
    "- https://support.google.com/analytics/answer/1662518?hl=en\n",
    "- What is an AdWords attribution model? The way AdWords assigns credit for the campaign steps that led to a conversion. This is only available for clicks on Search Network and Shopping ads on Google.com."
   ]
  },
  {
   "cell_type": "markdown",
   "metadata": {},
   "source": [
    "### Drive installation of your app\n",
    "- **The solution: AdWords universal app campaigns**\n",
    "    - Universal app campaigns make it easy to promote your app across Google’s top properties, including Search, Play, YouTube, and the Google Display Network. \n",
    "- **What are the benefits of universal app campaigns?**\n",
    "    - One-Stop Shopping, Simple Set-up, Fully automated\n",
    "- **Where universal app campaigns promote your app **\n",
    "    - Search, Engage (or in other apps), Surfing the web, reading your emails, searching Google play store, discover in play clusters, watch on Youtube, browsing in Youtube\n",
    "- **Ways to optimize with universal app campaigns **\n",
    "    - AdWords rotates your ads and adjusts your universal app campaign bids automatically to get the most app downloads for your optimization objective. This means, for example, if one text asset is performing better than another, the system will show the better-performing text asset more often.\n",
    "    - Universal App campaigns offer two different optimization options to help with your key marketing objectives: \n",
    "        - Get new users for your app: This option optimizes your targeting and bids to generate app installs.\n",
    "        - Get new users who most likely complete in-app actions that you select: This optimization strategy is ideal if you want the users most likely to perform certain actions in your app\n",
    "- **Ad creatives that promote apps**\n",
    "    - Text assets: Universal app campaigns allow up to four text description lines to describe your app and its value proposition to potential new users.\n",
    "    - Image assets: For a more visual representation of your app, it’s also possible to upload up to 20 image assets to a universal app campaign.\n",
    "    - Video assets: Trueview in-stream for mobile app promotion ads before another video on the YouTube mobile app, with an app install button provided in an adjacent banner\n",
    "        - Video interstitials on the Google Display Network\n",
    "        - Rewarded video ads on the Google Display Network\n",
    "- **App extensions**\n",
    "    - These are options for when you want to both direct viewers to your mobile site and include a link to your app. These only run in non-app standard search campaigns:\n",
    "        - Search Network with Display opt-in\n",
    "        - Search Network only "
   ]
  },
  {
   "cell_type": "markdown",
   "metadata": {},
   "source": [
    "### Drive engagement with your app\n",
    "- 23 percent of users abandon apps after one use\n",
    "- AdWords lets you create remarketing lists based on how frequently or infrequently a customer is using their app, so you can use remarketing to re-engage.    \n",
    "- Deep links in ads can take your customers to a specific section within your app where you can offer the product or service they clicked the link for.\n",
    "- AdWords helps you use app remarketing lists to get ads to people who’ve installed your app. And in those ads, you entice them back to your app with deep links that take them right to what they want inside.\n",
    "- **How to pass back events to your AdWords account**\n",
    "    - Third Party: If you already partner with a third party to track performance, AdWords supports integrations with many of these services. \n",
    "    - Server to server: Passing conversion data server to server means you’ll be sending signals between your server and the AdWords server. You’ll need to create a link ID in AdWords and provide this to your developer. This will enable them to make the right connections using AdWords’ conversion tracking application programming interface (API). \n",
    "    - Google Analytics for Firebase: Firebase is Google’s integrated app developer platform that combines several major Google app developer products into one unified software development kit (SDK). Google Analytics for Firebase is the part of this platform that enables you to track and monitor the performance of your app.\n",
    "- Deep links can help and understand people who already downloaded the application."
   ]
  },
  {
   "cell_type": "markdown",
   "metadata": {},
   "source": [
    "### Measure and optimize your mobile apps\n",
    "- **Basic app tracking starts with AdWords**\n",
    "    - Tracking an application cannot be done through the website. Instead, there should be other way to find the way we track conversions\n",
    "    - The fastest and easiest option is AdWords’ built-in tracking.\n",
    "    - But the only thing we can track without any coding is for Android.\n",
    "        - Some of the things you can track with Android is number of downloads your Android app got from your ad and the in-app purchases for Android apps.\n",
    "- **Graduate to sophisticated app tracking with Google Analytics for Firebase**\n",
    "    - Demographics, retention, engagement, revenue, and app first opens can be found through Firebase.\n",
    "    - You’ll have to install the SDK in your app and then link Firebase to AdWords. \n",
    "- **Google Analytics for Firebase**\n",
    "    -  It's free and unlimited analytics that combine both behavioral analytics — who your users are and what they do in your app — with marketing analytics — which lets you see which campaigns brought users to your app in the first place.\n",
    "- To link between AdWords and our App Attribution Partner, you’ll just need to generate a link ID in AdWords. You’ll share that with your third-party provider or enter it directly into their platform."
   ]
  },
  {
   "cell_type": "markdown",
   "metadata": {},
   "source": [
    "### Avoid editorial errors\n",
    "- **Top reasons for disapproval**\n",
    "    - Spelling and grammar:\n",
    "        - Your ad must be grammatically correct, clear, and professional. We want your ads to stand out for the right reasons — like your great products or services — not for gimmicky ad text.\n",
    "    - Style\n",
    "        - Don’t include “Click here” in your ad, Don’t include your phone number in ad text, instead use a Call extension, Image ads must be clearly branded with things like a company name, logo, and display URL\n"
   ]
  },
  {
   "cell_type": "markdown",
   "metadata": {},
   "source": [
    "### Address trademark disapprovals\n",
    "\n",
    "- What does your approval status mean?\n",
    "    - You can check the approval status of your ad by navigating to your AdWords campaign and clicking the Ads tab to view all the ads in that campaign. Your ad can either be Approved, Approved (Limited) or Disapproved. If your ad is Approved, there’s no action needed on your side.\n",
    "- WHAT TO DO?\n",
    "    - Remove the trademark from your ad: The fastest way to get your ad live is to remove the trademark from your ad. \n",
    "    - Request trademark authorization: Another course of action is to reach out to the trademark owner and request their authorization for you to use their trademark. "
   ]
  },
  {
   "cell_type": "markdown",
   "metadata": {},
   "source": [
    "### APIs VS SDKs\n",
    "- Web APIs allow for interaction between disparate systems, often for specific use cases.\n",
    "- SDK stands for “Software Development Kit”, which is a great way to think about it — a kit. Think about putting together a model car or plane. When constructing this model, a whole kit of items is needed, including the kit pieces themselves, the tools needed to put them together, assembly instructions, and so forth.\n",
    "- An SDK or devkit functions in much the same way, providing a set of tools, libraries, relevant documentation, code samples, processes, and or guides that allow developers to create software applications on a specific platform.\n",
    "- I think it rather falls along the lines of \"All SDKs are/contain APIs but not all APIs are SDKs\".\n",
    "- An SDK seems to be a complete set of APIs that allow you to perform most any action you would need to for creating applications. In addition an SDK may include other tools for developing for the platform/item that it is for.\n",
    "- "
   ]
  },
  {
   "cell_type": "code",
   "execution_count": null,
   "metadata": {
    "collapsed": true
   },
   "outputs": [],
   "source": []
  },
  {
   "cell_type": "code",
   "execution_count": null,
   "metadata": {
    "collapsed": true
   },
   "outputs": [],
   "source": []
  }
 ],
 "metadata": {
  "kernelspec": {
   "display_name": "Python 3",
   "language": "python",
   "name": "python3"
  },
  "language_info": {
   "codemirror_mode": {
    "name": "ipython",
    "version": 3
   },
   "file_extension": ".py",
   "mimetype": "text/x-python",
   "name": "python",
   "nbconvert_exporter": "python",
   "pygments_lexer": "ipython3",
   "version": "3.6.0"
  }
 },
 "nbformat": 4,
 "nbformat_minor": 2
}
