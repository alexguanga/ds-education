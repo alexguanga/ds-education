{
 "cells": [
  {
   "cell_type": "markdown",
   "metadata": {},
   "source": [
    "# AdWords Basics"
   ]
  },
  {
   "cell_type": "markdown",
   "metadata": {},
   "source": [
    "### Choose where customers see your ads\n",
    "-  The Google Network is made up of two networks: Search and Display. They're the places where your AdWords ads can appear, including: Google sites, partner sites, and other placements like mobile phone apps.\n",
    "- On the Search Network, your ads may appear on:\n",
    "     - Google Search, Google Shopping, Google Maps, and Google Play.\n",
    "     - Search sites that partner with Google.\n",
    "- On the Display Network, your ads may appear on:\n",
    "     - Google sites like YouTube, Blogger, and Gmail.\n",
    "     - Partnering websites across the internet.\n",
    "     \n",
    "- The Google Network can connect you with customers at the exact moment they're engaged in an online activity connected to what you offer — like searching for your product, reading a blog about your industry, or watching a related video on YouTube. Choosing the correct ad format for your campaign can ensure your ad is the most relevant and actionable for a particular customer at that moment.\n",
    "\n",
    "- Ads Format\n",
    "    - **Text Ads**: The most common kind of Search ad includes a descriptive headline, website URL, and descriptive text like a call to action.\n",
    "        - Search Network\n",
    "        - Search Partners\n",
    "    - **Ads with extensions**: Ad extensions provide additional information to your text ad, such as your business’s address or phone number.\n",
    "        - Search Network\n",
    "        - Display Network (depending on the extension) \n",
    "    - **Responsive ads**: The Display Network offers ads that adjust to match the pages and apps that show them. Viewers are more likely to see these ads because they blend in with the content the viewers came for. Responsive ads can go a long way to help build awareness, influence consideration, and drive action.\n",
    "        - Display Network  \n",
    "    - **Shopping ads**: In addition to an image, Shopping ads contain product and pricing information, so users get a strong sense of the product you're selling before they click your ad. They’re ideal if you’re managing a large inventory of products.\n",
    "        - Google Shopping (in select countries)\n",
    "        - Google Search\n",
    "        - Google Search Partner websites, including YouTube and Image Search in some countries (if your campaign is set to include search partners)\n",
    "    - **Image ads**: Image ads capture people's attention as they browse websites in the Google Display Network.\n",
    "        - Search Network - *Image ads show on search partner networks, but not the Google Search Network.*\n",
    "        - Display Network\n",
    "    - **Video ads**: Video ads are just what they sound like — a standalone video ad or a video ad that runs inside another streaming video.\n",
    "        - Search Network - *Image ads show on search partner networks, but not the Google Search Network.*\n",
    "        - Display Network\n",
    "    - **Add Promotional ads**: App promotion ads send your customers to an app store to download your app, or include a deep link directly into your app.\n",
    "        - Search Network \n",
    "        - Display Network\n",
    "    - **Call-only ads**: Call-only ads allow your customers to call your business directly by clicking on your ad. They’re useful for driving phone calls to your business from devices that can make calls.\n",
    "        - Search Network\n",
    "    - **Rich media ads**: Rich media ads are engaging ad formats that often include animation or other types of motion.\n",
    "        - Display Network\n"
   ]
  },
  {
   "cell_type": "markdown",
   "metadata": {},
   "source": [
    "### Choose effective text ads\n",
    "- Text ads are just that — ads made up of text. They are a simple yet powerful way to get your business in front of customers right when they are searching for products or services like yours on the Google Search Network. Here’s an example\n",
    "- Only three parts are required for all text ads: headline, URL, and description. Others are optional. Let’s take a closer look.\n",
    "- Writing effective text ads: To effectively reach potential customers, your text ads should be specific, actionable, and relevant. Let’s take a closer look at things to keep in mind when writing text ads. \n",
    "- Best practices:\n",
    "    - Headlines matter...a lot. People are most likely to read the headline of your ad, so even though you have extra room now, you still need to make every word count.\n",
    "    - Also, when viewed on the search results page, your ad’s headline fields are combined using a hyphen, “-”. On mobile, the headline may wrap beyond the first line, so consider how this will read to ensure it’s a compelling experience. \n",
    "    - Direct users to pages of your site that deliver a great experience through mobile-specific URLs.\n",
    "    - And if you know about any calls to action or offers that work particularly well on mobile devices, take advantage of ad customizers to speak directly to those mobile users.\n",
    "    - Including information below your ad, like additional deep links into your website or business location, has been shown to increase your ad’s performance. \n",
    "    - When it comes to making that ad super effective, it’s not all about what’s in the ad itself ...let’s not forget about your landing page experience! Landing page experience is AdWords’ measure of how well your website gives people who click your ads exactly what they’re looking for — quickly and effortlessly."
   ]
  },
  {
   "cell_type": "markdown",
   "metadata": {},
   "source": [
    "### Enhance your ad with extensions\n",
    "- Why extensions? Extensions expand your ad with additional information—giving people more reasons to choose your business. Extension formats include call buttons, location information, additional links, additional text, and more.\n",
    "- **Sitelink extensions**: Link people directly to specific pages of your website (like “hours” and “order now”).\n",
    "- **Callout extensions**: Add additional text to your ad, like “free delivery” or “24/7 customer support.”\n",
    "- **Structured snippets**: Highlight specific aspects of your products and services. They show underneath your text ad on search in the form of a header (ex: \"Destinations\") and list (ex: \"Hawaii, Costa Rica, South Africa\").\n",
    "- **Location extensions**: Encourage people to visit your business by showing your location, a call button, and a link to your business details page—which can include your hours, photos of your business, and directions to get there.\n",
    "- **Call extensions**: Encourage people to call your business by adding a phone number or call button to your ads.\n",
    "- **Message extensions**: Encourage people to send you text messages from your ad. Available globally at the campaign or ad group levels.\n",
    "- **Price extensions**: Showcase your services or product categories with their prices, so that people can browse your products right from your ad.\n",
    "- **Promotion extensions**: Highlight specific sales and promotions across your ads (e.g., 30% off rose bouquets) \n",
    "- **App extensions**: Available globally for Android and iOS mobile devices, including tablets. \n",
    "- Seller ratings next to her ad to highlight how highly regarded Fareena’s shop is by her customers. These are called automated extensions.\n",
    "- When do extensions show up? Adding an extension doesn’t mean it will show with your ad all the time. AdWords selects which extensions to show in response to each individual search on Google.\n",
    "- Extensions show with your ad when:\n",
    "    - The extension (or combination of extensions) is predicted to improve your performance.\n",
    "    - Your ad’s position and Ad Rank is high enough for extensions to show. To show extensions, AdWords requires a minimum Ad Rank. Unsure what this Ad Rank is all about? Sit tight, and we’ll cover it later in AdWords Basics. "
   ]
  },
  {
   "cell_type": "markdown",
   "metadata": {},
   "source": [
    "### Choosing the best campaigns types\n",
    "-  AdWords campaign types: Advertising with AdWords starts with creating a campaign. The type of campaign you choose to create should be based on your advertising goals. The campaign type determines where customers will be able to see your ads, but you’ll have the chance to make this more specific with additional settings.\n",
    "- In a Search campaign, your ads can appear near Google search results and other Google sites when people search for terms that are relevant to your ad’s keywords. This campaign type is useful for advertisers who want to show their text ads to high-potential customers right when they’re searching for related products or services.\n",
    "- With a Display Network campaign, your ads can appear throughout the Google Display Network. This campaign type works by matching your ads to websites or mobile apps that include content that's related to your business or to your customers' interests. You can set up targeting to match your ads to the most relevant Display Network sites based on their topics, interested audiences, demographics, and more. This campaign type is useful for advertisers who want to generate awareness of their business and target audiences with specific interests across the web.\n",
    "- When you create a Search campaign, you’ll have the option to select “Display opt-in”. This selection allows you to show your ads on the search results page of the Google Search Network and relevant placements on the Display Network. With this option, you only need to create search ads and those run seamlessly across both the Search and Display networks. This type allows you to expand your potential audience. Your ads can reach people as they browse or research similar products, whether they're looking on Google Search or on a relevant website.\n",
    "- With a Video campaign type you can run video ads on YouTube and on sites across the Google Display Network. This type allows you to engage customers in different ways on YouTube and across video partner sites. Available video ad formats include: TrueView in-stream ads, TrueView video discovery ads, and bumper ads.\n",
    "- With a Shopping campaign type, you might see your ads in Google Shopping, next to search results, and near text and responsive ads. They can also show up on Google Search partner websites like YouTube. This campaign type is useful for retailers who want to promote their online and local inventory, boost traffic to their website or local store, and find better qualified leads.\n",
    "- With a Universal app campaign type, you can easily promote your app across Search, Display, and YouTube. Your ads and bids are automatically adjusted to get the most downloads for your app. All you need to do is provide some text, a starting bid and budget, and include the languages and geographic locations for your ads. Our system will then test different combinations and show the best-performing ads more often. "
   ]
  },
  {
   "cell_type": "markdown",
   "metadata": {},
   "source": [
    "### Organize your account for success\n",
    "- How is AdWords organized? Organizing your account by product or theme allows you to create ads that relate to a particular product or theme. To do so, you’ll need to understand the three layers of organization within AdWords.\n",
    "- IMAGE: Google_ADS1_1"
   ]
  },
  {
   "cell_type": "markdown",
   "metadata": {},
   "source": [
    "### Reach your customers with targeting\n",
    "- Find potential customers online\n",
    "    - One aspect of targeting focuses on “WHO” is in your target audience. Audience targeting helps you identify, re-engage, and expand your audience online. You can target those who actively intend to purchase your products and personalize your ads with relevant messages. All thanks to machine learning.\n",
    "    - Another aspect of targeting focuses on “WHERE” your audience is. “WHERE” can refer to where your customers are in the physical world (e.g., location and device targeting) or where they are online (e.g., contextual or topic targeting).\n",
    "    - The final aspect of targeting focuses on “WHAT” is of interest to your audience. With AdWords, you can specify keywords based on what people are searching for. When people search for words like your keywords on Google or partner sites, you can display your ads alongside those search results."
   ]
  },
  {
   "cell_type": "markdown",
   "metadata": {},
   "source": [
    "### Help customers find you\n",
    "- Negative keywords prevent your ad from showing in searches that use terms that aren't relevant to your product or service. Adding negative keywords can help you reduce costs and make your ad appear only for the search terms you want."
   ]
  },
  {
   "cell_type": "markdown",
   "metadata": {},
   "source": [
    "### Control which searches triggers your ads\n",
    "- How do I control which searches trigger my ads? Customers can see your ad when they search for or visit a website with terms in your keyword list. This match is done broadly by default so your ad can show to the largest possible audience. However, this means your ad could show to people who aren't likely to become your customers.\n",
    "- The solution? Match types. You can use match types to control which variations of your keywords cause your ad to show to potential customers. \n",
    "- How do I use match types?\n",
    "    - Broad match shows your ads based on keywords and close variations like synonyms and misspellings.\n",
    "        - Example: A search for “tennis sneakers” could return your ad\n",
    "        - Benefit: Shows ads most broadly with least amount of set up\n",
    "        - Set it up: Do nothing — this is the default for all searches\n",
    "    - Broad match modifier shows your ads based on the broad match, but excludes synonyms.\n",
    "        - Example: A search for “buy tenis shoes” could return your ad\n",
    "        - Benefit: More targeted, can increase clicks and conversions\n",
    "        - Set it up: Add plus sign ( + ) before terms\n",
    "    - Phrase match shows your ads based on exact phrases and close variations.\n",
    "        - Example: A search for “tennis shoes reviews” could return your ad\n",
    "        - Benefit: More targeted\n",
    "        - Set it up: Add quotes (“ ”) around term\n",
    "    - Exact match shows your ads based on exact keywords and close variations.\n",
    "        - Example: A search for “tennis shoes” could return your ads\n",
    "        - Benefit: Narrows ad's potential audience the most\n",
    "        - Set it up: Add brackets ([ ]) around term\n",
    "    - Negative match shows your ads based on searches and site visits that exclude keywords.\n",
    "        - Example: A search for “men’s tennis shoes” would not return your ad\n",
    "        - Benefit: Prevents ad from showing on unrelated searches or websites\n",
    "        - Set it up: Add minus sign ( - ) before terms that should never trigger ads"
   ]
  },
  {
   "cell_type": "markdown",
   "metadata": {},
   "source": [
    "\n",
    "### Make your ads seen\n",
    "- Making your ads seen: Now, those are a lot of factors! Your bid, the impact of ad formats you have enabled, your ad’s expected clickthrough rate (CTR), ad relevancy, and finally, the landing page experience when users click on your ad — these are all influential.\n",
    "- And to understand their influence, we’ll start by taking a look at the AdWords auction — the system responsible for taking all these factors into consideration and ultimately deciding your ad’s position and even whether it shows up at all.\n",
    "- The AdWords auction: The AdWords auction is the process that happens with each Google search. It decides which ads will appear for that specific search, which order those ads will show on the page, and how much the advertiser (that’s you!) will pay for that placement.\n",
    "- FACTORS:\n",
    "    - First there’s your bid amount. Not to be confused with the amount a click on your ad actually costs, this is the maximum amount you are willing to pay for a user to click on your ad and visit your site. To ensure good value for all, top bids don’t necessarily lead to top rank on the search results page. As it is becoming pretty clear by now, there are a number of other factors that the auction considers to make that determination! \n",
    "    - Expected clickthrough rate (CTR) is the prediction of how often your ad will get clicked when shown for a keyword. To determine this rate, AdWords takes into account how well your keyword has performed, that is, how users responded to your ad by clicking on it or not in the past.\n",
    "    - An ad is only useful if its landing page helps a user find what they’re looking for! A positive landing page experience: Includes relevant and original content that helps the user complete their task, Is easily navigable, Articulates your business clearly\n",
    "    - Ad relevancy is calculated by analyzing the language in your ad to determine how well it relates to the search query. Ad relevancy is a key factor in the auction process, enabling users to see only useful ads that are relevant to the search performed. \n",
    "    - Ad formats, like those that include various ad extensions, may influence rank as well. For example, using various ad extensions, like a sitelink to a page on your website, your address, or phone number, may serve to bolster your rank. \n",
    "- So how can you get a general sense of which ads might be of higher quality? \n",
    "- **One estimate is your Quality Score. Quality Score is the 1-10 rating that is reported for each keyword in your account calculated by estimating the quality of your ads and their associated landing pages. A high Quality Score means that our systems think your ad and landing page are relevant and useful to someone looking at your ad.** \n",
    "- Remember:\n",
    "    - Even if your competition bids higher than you, you can still win a higher position — at a lower price — with highly relevant keywords and ads.\n",
    "    - Auctions are ongoing for every search on Google — and each one can have potentially different results depending on the competition at that moment. So you may see fluctuation in your ad's position on the page and even whether your ad shows at all.\n",
    "- ** IMPORTANT FACTORS**: Bid, Quality, and Format Impact (like the ad extensions)"
   ]
  },
  {
   "cell_type": "markdown",
   "metadata": {},
   "source": [
    "### Match media cost with your budgets\n",
    "- **CPM (Cost–per–thousand impressions)**: Pay every time the publisher serves your ad.Most often used for raising awareness of your company or product, rather than persuading customers to buy right now.\n",
    "    - Use for \"I want to raise brand awareness\"\n",
    "- **CPC**: Pay each time someone clicks on your ad, regardless of what happens after the click. This works well if you’re focused on increasing sales or website traffic. \n",
    "    - Use for \"I want to drive traffic to my site\"\n",
    "- **CPA**: Pay only if a user sees an ad on the publisher’s site and later makes a purchase or completes some other desired action on your website. Publishers take on more risk when using the CPA model, since there’s no guarantee that someone will click the ad. This can make CPA campaigns a bit pricier than other options, but with higher returns. \n",
    "    - Use for \"I want to increase sales\"\n",
    "- **vCPM**: Pay every time your ad is displayed on screen. The “v” means the ad is viewable, which is defined as 50% of the ad being shown on the screen for over one second (not buried lower on the page, or displayed on a page where someone navigates away while the page is still loading).\n",
    "    - Use for \"I want to raise brand awareness but only pay for impressions measured as viewable\"\n",
    "- **CPV**: Pay for people watching or interacting with your video ad, like clicking on a call-to-action overlay or companion banner ad. This is the default option for video ads. \n",
    "    - Use for \"I want to increase video views\""
   ]
  },
  {
   "cell_type": "markdown",
   "metadata": {},
   "source": [
    "### Determine a good bidding strategy\n",
    "- Two ways of bidding:\n",
    "    - Manual bidding is where you control the bidding yourself. Automated, is where you let AdWords do the heavy lifting for you. Let’s take a closer look at each and then dig in on how to pick the best strategy for your business.\n",
    "- **Manual bidding**: Manual bidding lets you manually set bids at the ad group level, for individual keywords, or for ad placements, so you know you're bidding for the clicks that mean the most to you.\n",
    "- **Automated bidding**: With automated bidding you can set a daily budget and then have AdWords automatically adjust your bids to get the most clicks or conversions possible within your budget.\n",
    "- **Different Goals**:\n",
    "    - Goal: Build awareness. Focusing on impressions may be your strategy. You can use cost per thousand viewable impressions (vCPM) or cost per view (CPV) bidding to put your message in front of customers.\n",
    "    - Goal: Drive web visits. Focusing on clicks could be ideal for you. Cost-per-click (CPC) bidding—manual or automatic—may be right for your campaign.\n",
    "    - Goal: Drive online sales. It may be best to implement conversion tracking in your campaign and focus on conversions. Cost-per-acquisition (CPA) bidding lets you do just that.\n",
    "- Most people starting out in AdWords use cost-per-click (CPC) bidding. With this option, you set a maximum cost-per-click bid that's the highest amount you're willing to pay for a click on your ad. Set your bid by thinking about how much an ad click is worth to you. You can figure this out based on what you know about your business and the value of a sale. \n",
    "- **3 tools to determine your CPC bids:**\n",
    "    - **Bid simulator**: Bid simulator runs \"what-if\" scenarios like, How many more impressions would I have gotten if my bid had been 0.10 higher last week?\n",
    "    - **Keyword Planner**: Keyword Planner shows you how often some keywords get searched, and gives you cost estimates at a glance.\n",
    "    - **First-page bid estimates** First-page bid estimates helps you see how much you may need to bid to put your ad on the first page of Google search results.\n",
    "- What keywords lead to the most clicks on your ads?\n",
    "    - To see how many clicks you’re getting per keyword and how much they cost, go to the “keywords” tab in your account. Try filtering your keywords by click-through rate to see which keywords get you a lot of impressions, but few clicks. If your goal is to generate sales, these are the keywords that are probably not working so well. \n",
    "- How do I increase my ROI?\n",
    "     - Once you’ve identified which keywords, locations, times, and devices are getting good results, you can adjust your bids accordingly. For instance, if a keyword has a low average CPC but each click converts well, you may try increasing its max CPC bid. This could improve the ad’s average position for that keyword, giving your ads more exposure and potentially increasing your ROI.\n",
    "     "
   ]
  },
  {
   "cell_type": "markdown",
   "metadata": {},
   "source": [
    "### Select your bid strategy\n",
    "- **How automated bidding works**\n",
    "    - Your keyword list determines which searches and site visits can trigger your ad if you win the bid, but the \"right\" bid for an impression can be a moving target influenced by things like match type, device, and location.\n",
    "    - With automated bidding, AdWords can automatically increase bids for impressions that it predicts (from auction-time data) could be more successful. \n",
    "- **When to use manual bidding**\n",
    "    - You don’t have enough conversions to meet the recommendations for automated bidding\n",
    "    - You need 100 percent control of how you pay for views, clicks or conversions\n",
    "- **How to choose your automated bidding strategy**\n",
    "    - Ad clicks: Maximize clicks automatically sets your bids to help get as many clicks as possible within your budget. It can increase site visits and increase clicks on low-traffic terms.\n",
    "    - Ad revenue: Target return-on-ad-spend (ROAS) bids more where AdWords estimates ads are more likely to lead to a sale — aiming to get as much return on ad spend as possible.\n",
    "    - Ad conversions: Automated bidding strategies designed to generate conversions include Enhanced cost per click (ECPC), Maximize conversions and Target cost per acquisition (CPA). We’ll dive into each of these in the following section.\n",
    "- **Which automated conversion bidding type is right for you?**\n",
    "    - **Enhanced cost per click (ECPC)** is a semi-automated bid strategy which adjusts your bids to get you as many conversions as possible, within your determined budget. You set keyword bids and let AdWords work its magic to improve your campaign’s performance. *Good for advertisers looking for an incremental increase in conversions while still retaining control over their keyword bids.*\n",
    "    - **Maximize conversions** bidding automatically sets bids at auction time to get you as much conversion volume as possible within your campaign’s budget. *Good for those with a fixed advertising budget already seeing at least 15 conversions and 15 clicks per month, who do not know how much they should be willing to pay for a conversion (in other words, they do not have a target CPA).*\n",
    "    - **Target CPA** automatically sets bids to help get as many conversions as possible at the target CPA you set (some conversions may cost more or less than your target). Target CPA does not operate within a set budget. *Good for advertisers who know how much they’re willing to pay for a conversion and prioritize maintaining a specific cost per conversion over driving conversion volume.*"
   ]
  },
  {
   "cell_type": "markdown",
   "metadata": {},
   "source": [
    "### Adjust bids to favor performers\n",
    "- **What types of bid adjustments are available?**\n",
    "    - **Device**: Use device bid adjustments to show your ad more or less frequently for searches that occur on different devices. You can adjust your bid across mobile, desktop, and tablet to optimize more precisely for each device. \n",
    "    - **Location:** Use location bid adjustments to show your ad more or less frequently to customers in certain countries, cities, or other geographic areas.\n",
    "    - **Time of day:** Use ad scheduling bid adjustments to increase or decrease your bids on certain days or during certain hours.\n",
    "    - **Top content:** Use bid adjustments for popular content to increase your ad’s chance of showing on top content on YouTube and the Display Network. When your ad is eligible to appear on this content, AdWords will use your bid adjustment to raise your bid.\n",
    "    - **Targeting methods:** Use bid adjustments for topics, placements, and other targeting methods in campaign types that show ads on the Display Network.\n",
    "    - **Remarketing lists for search ads:** Use bid adjustments for remarketing lists in your ad groups if you’d like to show ads more or less frequently to people on these lists.\n",
    "    - **Interactions:** Use interactions for more control over how potential customers connect with your business."
   ]
  },
  {
   "cell_type": "markdown",
   "metadata": {},
   "source": [
    "### Align your budget with your goals\n",
    "- ** Setting your daily budget**\n",
    "    - Without a daily budget, you can’t show your ads. Your daily budget is the amount that you set for each campaign to indicate how much, on average, you're willing to spend per day. Choose a daily budget based on your advertising goals and the general amount you're comfortable spending.\n",
    "- **Budget strategy for your goals**\n",
    "    - **Build awareness:** Building awareness will require a larger budget due to the longer path to conversion and the scale at which you try to reach people. \n",
    "    - **Influence consideration:** Influencing consideration is mid funnel and can be accomplished with a small, medium, and large ad budget. With a medium length path to conversion, a medium to large budget is preferred so you can reach a wider group of people and begin moving them to action. \n",
    "    - **Driving action:** Driving action or sales is at the bottom of the marketing funnel where you typically have a small group of your target audience. You can meet all of your action goals with a small, medium, or large daily budget. "
   ]
  },
  {
   "cell_type": "markdown",
   "metadata": {},
   "source": [
    "### Evaluate campaign performance\n",
    "- What searches and site terms have triggered my ad? \n",
    "    - The Search terms report lists the searches and terms that people have used before seeing your ad and clicking it. If a term is getting you in front of customers, add it to your keyword list.\n",
    "- Where were the people who triggered my ads? \n",
    "    - The Where your users were (user locations) report shows only your customers' physical locations (regardless of any locations they may have shown interest in). If customers in a certain region are gravitating to you, update your campaign to directly target them. \n",
    "- What geographies do my ad viewers care about?\n",
    "    - The What triggered your ad (geographic) report shows your customers' physical locations and locations they had shown interest in through searches or content they had viewed. If customers interested in certain locations are finding you, update your campaign to directly offer something they’re looking for. \n",
    "- Does my landing page need work?\n",
    "    - The landing page experience report estimates the quality of your landing page — which is part of your AdWords Quality Score and strengthens or weakens your ad position. If you have a weak landing page, a link is provided with tips to make it better. \n",
    "- How are people finding me — with and without my ad?\n",
    "    - The paid and organic report shows how people got to you — comparing Google’s free organic search results to your paid AdWords ads. Learn the ways customers are looking for products and services like yours and update your own keyword list or create new ad groups to directly target them. \n",
    "- What are the paths that lead people to conversions for my business?\n",
    "    - Once you've set up conversion tracking, Attribution reports show you the paths customers took to complete a conversion, and attribute the conversion to different ads, clicks, and factors along the way.    \n",
    "- **Drive performance with metrics**\n",
    "    - Impressions shows how often your ad was shown on a search result page or site on the Google Network.\n",
    "    - Clicks shows how many clicks your ad has received. Clickthrough rate (CTR) shows the percentage of people who could see your ad and clicked on it. \n",
    "    - Conversions show how many people clicked from your ad to your site and did something you valued, such as a purchase, sign-up, phone call, or download.\n",
    "    - Cost per conversion shows how much each ad conversion cost you. (Also called cost per acquisition, CPA.) \n",
    "    - Conversion rate shows how many conversions on your site resulted from an ad click. Example: 50 conversions from 1,000 clicks, 50 ÷ 1000 = 5 percent conversion rate.\n",
    "- **What is the return on investment for my ads?**\n",
    "    - Return on investment (ROI) tells you how effective your ad spend is by showing you how much return it’s bringing you. ROI is calculated with this formula: (Profit - Cost) / Cost. \n",
    "    - If you wanted to look solely at the effectiveness of your ads, you’ll also want to look at return on ad spend (ROAS), which is a measure of an ad's effectiveness not containing aspects such as cost of goods or other costs of the business."
   ]
  },
  {
   "cell_type": "markdown",
   "metadata": {},
   "source": [
    "### Avoid editorial errors\n",
    "- **Why editorial policy matters**\n",
    "    - To ensure a consistent and clear user experience, we enforce quality standards on the ads and the websites advertised on the Google Network.\n",
    "- **Top reasons for disapproval**\n",
    "    - Your ad must be grammatically correct, clear, and professional. We want your ads to stand out for the right reasons — like your great products or services — not for gimmicky ad text.\n",
    "    - There are many ways your ad could be disapproved for editorial, including style and spelling errors, repetition, and even poor video quality. Review the article linked in the recap section for more details."
   ]
  },
  {
   "cell_type": "markdown",
   "metadata": {},
   "source": [
    "### Address trademark disapprovals\n",
    "- **What does your approval status mean?**\n",
    "    - You can check the approval status of your ad by navigating to your AdWords campaign and clicking the Ads tab to view all the ads in that campaign. Your ad can either be Approved, Approved (Limited) or Disapproved. If your ad is Approved, there’s no action needed on your side.\n",
    "- **Request trademark authorization**"
   ]
  },
  {
   "cell_type": "markdown",
   "metadata": {},
   "source": [
    "- Ad groups: An ad group contains one or more ads which target a shared set of keywords.\n",
    "- You can use Display Planner to: see ways to reach your target audience based on your keywords, website, or interest categories\n",
    "- CPA bids are converted to CPM bids\n",
    "- AdWords Editors:\n",
    "- Standard and Accelerated\n",
    "- Display Planner\n",
    "- Reach and frequecy data\n",
    "- Placement and targeting\n",
    "\n",
    "- Conversion tracking: Conversion tracking is a free tool that shows you what happens after a customer interacts with your ads -- whether they purchased a product, signed up for your newsletter, called your business, or downloaded your app. When a customer completes an action that you've defined as valuable, these customer actions are called conversions.\n",
    "\n",
    "\n",
    "- AdWords using your bid amount, components of Quality Score and the expected impact of extensions and other ad formats\n",
    "- Search Console\n",
    "- Display/Search networks (all, limitied, remarketing features)\n",
    "\n",
    "- https://support.google.com/partners/answer/6123875?topic=3071897&ctx=topic&path=2799680-&hl=en&_ga=2.247499214.856277213.1516020611-32983554.1497980098\n",
    "- https://support.google.com/partners/answer/6123890?topic=3071897&ctx=topic&path=2799680-&hl=en&_ga=2.247499214.856277213.1516020611-32983554.1497980098\n",
    "- https://support.google.com/partners/answer/6172626?topic=3071897&ctx=topic&path=2799680-&hl=en&_ga=2.247499214.856277213.1516020611-32983554.1497980098"
   ]
  }
 ],
 "metadata": {
  "kernelspec": {
   "display_name": "Python 3",
   "language": "python",
   "name": "python3"
  },
  "language_info": {
   "codemirror_mode": {
    "name": "ipython",
    "version": 3
   },
   "file_extension": ".py",
   "mimetype": "text/x-python",
   "name": "python",
   "nbconvert_exporter": "python",
   "pygments_lexer": "ipython3",
   "version": "3.6.0"
  }
 },
 "nbformat": 4,
 "nbformat_minor": 2
}
