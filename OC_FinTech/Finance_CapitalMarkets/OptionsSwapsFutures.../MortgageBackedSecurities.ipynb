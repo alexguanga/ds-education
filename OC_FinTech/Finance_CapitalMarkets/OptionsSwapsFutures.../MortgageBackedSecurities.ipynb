{
 "cells": [
  {
   "cell_type": "markdown",
   "metadata": {},
   "source": [
    "# Mortgage-backed securities"
   ]
  },
  {
   "cell_type": "markdown",
   "metadata": {},
   "source": [
    "### Mortgage-backed security overview\n",
    "- Investments back buy all these mortgages\n",
    "- Putting all these mortgages in these Special Purpose Entity (bc these investors do not want to hold onto these mortgages)\n",
    "- Special Purpose Entity own all the mortgagages\n",
    "- These Special Purpose Entity are then split which they would then sell to other investors\n",
    "- These shares are MBS (mortgages-backed securities)"
   ]
  },
  {
   "cell_type": "markdown",
   "metadata": {},
   "source": [
    "### Mortgage-backed securities I\n",
    "- The usual business was to ask banks for a loan and you would pay the interest and pay the principal at the end of the duration\n",
    "- Banks then developed a method to sell the loan to other investors\n",
    "- The reason that these smaller banks traded is they got fees from the large investors"
   ]
  },
  {
   "cell_type": "markdown",
   "metadata": {},
   "source": [
    "### Mortgage-backed securities II\n",
    "- Commercial banks bundle up these loans\n",
    "- Invesments banks get the payment from these loans\n",
    "- But they do not want to get payment from these loans\n",
    "- The invesments banks create an entity (corporations)\n",
    "- The purchased the right to collect the payment from the loans\n",
    "- They will then sell shares in these corporations which gives investors the right to get 1/shares of the profit that will eventually come from these loans\n",
    "- Why would these invesment bank do this? well, when they get to sell these shares, they might actual be getting more money bc there will (or they hope there will be) for these shares\n",
    "- These shares are MBS (mortgages-backed securities)\n",
    "- It's a mortgage-backed security bc their homes serves as collateral"
   ]
  },
  {
   "cell_type": "markdown",
   "metadata": {},
   "source": [
    "### Mortgage-backed securities III\n",
    "- So far, the process is simple. The borrowers need money which in turn goes to the investor of it. They are given the money (since they purhcased the mortgage-backed security\n",
    "- They only get 10% of all the loans that are being paid back if all the borrowers pay their debt. This is not like a likely case, the goal is to figure out how much peple should be able to pay back. \n",
    "- The computer model check historical data to find the typicaly default rate\n",
    "- We have 1000 borrowers who are asking for a million dollars. Statistically, 20% of the people default and the banks are able to recover 50% of the property value. \n",
    "    - Hence, 10% will default and our return will not be 10% anymore (it will be 9%)\n",
    "- This is useful bc borrowers are not polled together which makes them less risky in aggregate. Hence, when they are pooled together and they will have the opportunity for borrowers to get acess to loans\n",
    "- "
   ]
  }
 ],
 "metadata": {
  "kernelspec": {
   "display_name": "Python 3",
   "language": "python",
   "name": "python3"
  },
  "language_info": {
   "codemirror_mode": {
    "name": "ipython",
    "version": 3
   },
   "file_extension": ".py",
   "mimetype": "text/x-python",
   "name": "python",
   "nbconvert_exporter": "python",
   "pygments_lexer": "ipython3",
   "version": "3.6.0"
  }
 },
 "nbformat": 4,
 "nbformat_minor": 2
}
