{
 "cells": [
  {
   "cell_type": "markdown",
   "metadata": {},
   "source": [
    "# Section 32: Convolutional NN"
   ]
  },
  {
   "cell_type": "markdown",
   "metadata": {},
   "source": [
    "### Lecture 235: Plan of Attack\n",
    "- <img src=\"../images/Conv_1.png\" alt=\"Drawing\" style=\"width: 500px;\">\n"
   ]
  },
  {
   "cell_type": "markdown",
   "metadata": {},
   "source": [
    "### Lecture 236: What are Convolutional Nueral Networks?\n",
    "- <img src=\"../images/Conv_2.png\" alt=\"Drawing\" style=\"width: 500px;\">\n",
    "- <img src=\"../images/Conv_3.png\" alt=\"Drawing\" style=\"width: 500px;\">\n",
    "- The model is similar to the ANN because it requires an input which will output the highest prob. (kind of obvious)\n",
    "- <img src=\"../images/Conv_4.png\" alt=\"Drawing\" style=\"width: 500px;\">\n",
    "- Noticed that with a black and white image, you are only measuring the pixel through the a 2D array. However for color images, we use a 3D array.\n",
    "    - <img src=\"../images/Conv_5.png\" alt=\"Drawing\" style=\"width: 500px;\">"
   ]
  },
  {
   "cell_type": "markdown",
   "metadata": {},
   "source": [
    "### Lecture 237: Step 1 - Convolutional Operation\n",
    "- <img src=\"../images/Conv_6.png\" alt=\"Drawing\" style=\"width: 300px;\">\n",
    "- Feature Detector does not need to be a 3 by 3 matrix. Other use 7 by 7 or 5 by 5. \n",
    "- The 3 by 3 is a conventional!\n",
    "- Process\n",
    "    - Feature detector can be also be called filter or kernel\n",
    "    - The feature detector hovers overs the respective # of pixels in the input image. In our example, we have a 3 by 3 meaning we hover over the first 3 by 3 (top right corner)\n",
    "    - We then multiply (element-wise) meaning the first pixel (1 by 1) gets multiplied by the 1 by 1 position pixel in the feature detector\n",
    "    - We then add all of these # and present the result in the feature map.\n",
    "    - Noticed how in the position 1 by 1 in the feature map is 0 bc we all the #'s are 0 (1 and 0 are being multiplied)\n",
    "- <img src=\"../images/Conv_7.png\" alt=\"Drawing\" style=\"width: 300px;\">\n",
    "- The image above eventually becomes the image below!!\n",
    "- <img src=\"../images/Conv_8.png\" alt=\"Drawing\" style=\"width: 300px;\">\n",
    "- **Feature map can also be a convult feature or activation map**\n",
    "- Using the feature detector, we were able to reduce the size of the image. The Convolutional is to make the image smaller bc it will be easier to process it. (faster)\n",
    "- Are we losing info. when we apply the feature detector?\n",
    "    - Yes, but the main point is to find the feature that are pivotal for the outcome!\n",
    "    - Very similar to how we see. We do not look at every feature, we look at features in a whole!\n",
    "- **The Convolutional Neural Network** works similar to ANN as we have to create a lot of filter (feature maps)\n",
    "- Each feature map will be trained to find the appropriate filter (or feature map) to get ONLY the desired features that the specfic feature detector has be trained\n",
    "    - <img src=\"../images/Conv_9.png\" alt=\"Drawing\" style=\"width: 300px;\">\n",
    "- The goal of a Convolutional Neural Network is to find features in the image (using the feature detector) and put them in the feature map. Keeping the spacial relationship (recall the blur, emboss, etc changes in the image is still the image just with a slight change)"
   ]
  },
  {
   "cell_type": "markdown",
   "metadata": {},
   "source": [
    "### Lecture 238: Step 1(b) - ReLU Layer\n",
    "- <img src=\"../images/Conv_10.png\" alt=\"Drawing\" style=\"width: 600px;\">\n",
    "- The following images are an example of an image changes based on the feature map\n",
    "- <img src=\"../images/Conv_11.png\" alt=\"Drawing\", style=\"width: 300px;\"> \n",
    "- <img src=\"../images/Conv_12.png\" alt=\"Drawing\", style=\"width: 300px;\"> \n",
    "- <img src=\"../images/Conv_12.png\" alt=\"Drawing\", style=\"width: 300px;\">\n",
    "- ** THE RELU** makes the second image to the third bc the black are negatives. \n",
    "- You take away the progression (from white to black) when you apply the ReLU\n",
    "- "
   ]
  },
  {
   "cell_type": "code",
   "execution_count": null,
   "metadata": {
    "collapsed": true
   },
   "outputs": [],
   "source": []
  }
 ],
 "metadata": {
  "kernelspec": {
   "display_name": "Python 3",
   "language": "python",
   "name": "python3"
  },
  "language_info": {
   "codemirror_mode": {
    "name": "ipython",
    "version": 3
   },
   "file_extension": ".py",
   "mimetype": "text/x-python",
   "name": "python",
   "nbconvert_exporter": "python",
   "pygments_lexer": "ipython3",
   "version": "3.6.0"
  }
 },
 "nbformat": 4,
 "nbformat_minor": 2
}
